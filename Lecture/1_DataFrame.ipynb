{
  "nbformat": 4,
  "nbformat_minor": 0,
  "metadata": {
    "colab": {
      "provenance": []
    },
    "kernelspec": {
      "name": "python3",
      "display_name": "Python 3"
    },
    "language_info": {
      "name": "python"
    }
  },
  "cells": [
    {
      "cell_type": "markdown",
      "metadata": {
        "id": "ECxFbf3El6sH"
      },
      "source": [
        "# DataFrame\n",
        "- It is a two dimensional data structure   \n",
        "- It contains labeled axes (rows and columns)\n",
        "- it looks like a Microsoft Excel Worksheet"
      ]
    },
    {
      "cell_type": "code",
      "source": [],
      "metadata": {
        "id": "WInv2wfgodrZ"
      },
      "execution_count": null,
      "outputs": []
    },
    {
      "cell_type": "markdown",
      "metadata": {
        "id": "FpPzPh3jmH08"
      },
      "source": [
        "## Create a DataFrame"
      ]
    },
    {
      "cell_type": "code",
      "metadata": {
        "id": "sY0tD2nblyFo"
      },
      "source": [
        "# import pandas\n",
        "import pandas as pd"
      ],
      "execution_count": null,
      "outputs": []
    },
    {
      "cell_type": "code",
      "metadata": {
        "id": "yUwd9aT3mTqG"
      },
      "source": [
        "# use a tuple\n",
        "state_tuple = ('NY', 'OK', 'TX')\n",
        "df_state_tuple = pd.DataFrame(state_tuple)"
      ],
      "execution_count": null,
      "outputs": []
    },
    {
      "cell_type": "code",
      "metadata": {
        "colab": {
          "base_uri": "https://localhost:8080/",
          "height": 143
        },
        "id": "8q5WWR_LndPC",
        "outputId": "bc83f84f-1bd0-4298-f3b3-ced0a429629c"
      },
      "source": [
        "# display the DF\n",
        "df_state_tuple"
      ],
      "execution_count": null,
      "outputs": [
        {
          "output_type": "execute_result",
          "data": {
            "text/plain": [
              "    0\n",
              "0  NY\n",
              "1  OK\n",
              "2  TX"
            ],
            "text/html": [
              "\n",
              "  <div id=\"df-92864b64-0464-432d-b4d9-d6f156e508e7\">\n",
              "    <div class=\"colab-df-container\">\n",
              "      <div>\n",
              "<style scoped>\n",
              "    .dataframe tbody tr th:only-of-type {\n",
              "        vertical-align: middle;\n",
              "    }\n",
              "\n",
              "    .dataframe tbody tr th {\n",
              "        vertical-align: top;\n",
              "    }\n",
              "\n",
              "    .dataframe thead th {\n",
              "        text-align: right;\n",
              "    }\n",
              "</style>\n",
              "<table border=\"1\" class=\"dataframe\">\n",
              "  <thead>\n",
              "    <tr style=\"text-align: right;\">\n",
              "      <th></th>\n",
              "      <th>0</th>\n",
              "    </tr>\n",
              "  </thead>\n",
              "  <tbody>\n",
              "    <tr>\n",
              "      <th>0</th>\n",
              "      <td>NY</td>\n",
              "    </tr>\n",
              "    <tr>\n",
              "      <th>1</th>\n",
              "      <td>OK</td>\n",
              "    </tr>\n",
              "    <tr>\n",
              "      <th>2</th>\n",
              "      <td>TX</td>\n",
              "    </tr>\n",
              "  </tbody>\n",
              "</table>\n",
              "</div>\n",
              "      <button class=\"colab-df-convert\" onclick=\"convertToInteractive('df-92864b64-0464-432d-b4d9-d6f156e508e7')\"\n",
              "              title=\"Convert this dataframe to an interactive table.\"\n",
              "              style=\"display:none;\">\n",
              "        \n",
              "  <svg xmlns=\"http://www.w3.org/2000/svg\" height=\"24px\"viewBox=\"0 0 24 24\"\n",
              "       width=\"24px\">\n",
              "    <path d=\"M0 0h24v24H0V0z\" fill=\"none\"/>\n",
              "    <path d=\"M18.56 5.44l.94 2.06.94-2.06 2.06-.94-2.06-.94-.94-2.06-.94 2.06-2.06.94zm-11 1L8.5 8.5l.94-2.06 2.06-.94-2.06-.94L8.5 2.5l-.94 2.06-2.06.94zm10 10l.94 2.06.94-2.06 2.06-.94-2.06-.94-.94-2.06-.94 2.06-2.06.94z\"/><path d=\"M17.41 7.96l-1.37-1.37c-.4-.4-.92-.59-1.43-.59-.52 0-1.04.2-1.43.59L10.3 9.45l-7.72 7.72c-.78.78-.78 2.05 0 2.83L4 21.41c.39.39.9.59 1.41.59.51 0 1.02-.2 1.41-.59l7.78-7.78 2.81-2.81c.8-.78.8-2.07 0-2.86zM5.41 20L4 18.59l7.72-7.72 1.47 1.35L5.41 20z\"/>\n",
              "  </svg>\n",
              "      </button>\n",
              "      \n",
              "  <style>\n",
              "    .colab-df-container {\n",
              "      display:flex;\n",
              "      flex-wrap:wrap;\n",
              "      gap: 12px;\n",
              "    }\n",
              "\n",
              "    .colab-df-convert {\n",
              "      background-color: #E8F0FE;\n",
              "      border: none;\n",
              "      border-radius: 50%;\n",
              "      cursor: pointer;\n",
              "      display: none;\n",
              "      fill: #1967D2;\n",
              "      height: 32px;\n",
              "      padding: 0 0 0 0;\n",
              "      width: 32px;\n",
              "    }\n",
              "\n",
              "    .colab-df-convert:hover {\n",
              "      background-color: #E2EBFA;\n",
              "      box-shadow: 0px 1px 2px rgba(60, 64, 67, 0.3), 0px 1px 3px 1px rgba(60, 64, 67, 0.15);\n",
              "      fill: #174EA6;\n",
              "    }\n",
              "\n",
              "    [theme=dark] .colab-df-convert {\n",
              "      background-color: #3B4455;\n",
              "      fill: #D2E3FC;\n",
              "    }\n",
              "\n",
              "    [theme=dark] .colab-df-convert:hover {\n",
              "      background-color: #434B5C;\n",
              "      box-shadow: 0px 1px 3px 1px rgba(0, 0, 0, 0.15);\n",
              "      filter: drop-shadow(0px 1px 2px rgba(0, 0, 0, 0.3));\n",
              "      fill: #FFFFFF;\n",
              "    }\n",
              "  </style>\n",
              "\n",
              "      <script>\n",
              "        const buttonEl =\n",
              "          document.querySelector('#df-92864b64-0464-432d-b4d9-d6f156e508e7 button.colab-df-convert');\n",
              "        buttonEl.style.display =\n",
              "          google.colab.kernel.accessAllowed ? 'block' : 'none';\n",
              "\n",
              "        async function convertToInteractive(key) {\n",
              "          const element = document.querySelector('#df-92864b64-0464-432d-b4d9-d6f156e508e7');\n",
              "          const dataTable =\n",
              "            await google.colab.kernel.invokeFunction('convertToInteractive',\n",
              "                                                     [key], {});\n",
              "          if (!dataTable) return;\n",
              "\n",
              "          const docLinkHtml = 'Like what you see? Visit the ' +\n",
              "            '<a target=\"_blank\" href=https://colab.research.google.com/notebooks/data_table.ipynb>data table notebook</a>'\n",
              "            + ' to learn more about interactive tables.';\n",
              "          element.innerHTML = '';\n",
              "          dataTable['output_type'] = 'display_data';\n",
              "          await google.colab.output.renderOutput(dataTable, element);\n",
              "          const docLink = document.createElement('div');\n",
              "          docLink.innerHTML = docLinkHtml;\n",
              "          element.appendChild(docLink);\n",
              "        }\n",
              "      </script>\n",
              "    </div>\n",
              "  </div>\n",
              "  "
            ]
          },
          "metadata": {},
          "execution_count": 3
        }
      ]
    },
    {
      "cell_type": "code",
      "metadata": {
        "id": "7EttDw7zneEk"
      },
      "source": [
        "# use a list\n",
        "state_list = ['NY', 'OK', 'TX']\n",
        "df_state_list = pd.DataFrame(state_list)"
      ],
      "execution_count": null,
      "outputs": []
    },
    {
      "cell_type": "code",
      "metadata": {
        "colab": {
          "base_uri": "https://localhost:8080/",
          "height": 143
        },
        "id": "I5jI6vB3nwGS",
        "outputId": "ad83f218-0f59-45ac-e55f-bbae330d4277"
      },
      "source": [
        "# display the DF\n",
        "df_state_list"
      ],
      "execution_count": null,
      "outputs": [
        {
          "output_type": "execute_result",
          "data": {
            "text/plain": [
              "    0\n",
              "0  NY\n",
              "1  OK\n",
              "2  TX"
            ],
            "text/html": [
              "\n",
              "  <div id=\"df-f01893a7-55e1-4be0-a872-98eeb33699a5\">\n",
              "    <div class=\"colab-df-container\">\n",
              "      <div>\n",
              "<style scoped>\n",
              "    .dataframe tbody tr th:only-of-type {\n",
              "        vertical-align: middle;\n",
              "    }\n",
              "\n",
              "    .dataframe tbody tr th {\n",
              "        vertical-align: top;\n",
              "    }\n",
              "\n",
              "    .dataframe thead th {\n",
              "        text-align: right;\n",
              "    }\n",
              "</style>\n",
              "<table border=\"1\" class=\"dataframe\">\n",
              "  <thead>\n",
              "    <tr style=\"text-align: right;\">\n",
              "      <th></th>\n",
              "      <th>0</th>\n",
              "    </tr>\n",
              "  </thead>\n",
              "  <tbody>\n",
              "    <tr>\n",
              "      <th>0</th>\n",
              "      <td>NY</td>\n",
              "    </tr>\n",
              "    <tr>\n",
              "      <th>1</th>\n",
              "      <td>OK</td>\n",
              "    </tr>\n",
              "    <tr>\n",
              "      <th>2</th>\n",
              "      <td>TX</td>\n",
              "    </tr>\n",
              "  </tbody>\n",
              "</table>\n",
              "</div>\n",
              "      <button class=\"colab-df-convert\" onclick=\"convertToInteractive('df-f01893a7-55e1-4be0-a872-98eeb33699a5')\"\n",
              "              title=\"Convert this dataframe to an interactive table.\"\n",
              "              style=\"display:none;\">\n",
              "        \n",
              "  <svg xmlns=\"http://www.w3.org/2000/svg\" height=\"24px\"viewBox=\"0 0 24 24\"\n",
              "       width=\"24px\">\n",
              "    <path d=\"M0 0h24v24H0V0z\" fill=\"none\"/>\n",
              "    <path d=\"M18.56 5.44l.94 2.06.94-2.06 2.06-.94-2.06-.94-.94-2.06-.94 2.06-2.06.94zm-11 1L8.5 8.5l.94-2.06 2.06-.94-2.06-.94L8.5 2.5l-.94 2.06-2.06.94zm10 10l.94 2.06.94-2.06 2.06-.94-2.06-.94-.94-2.06-.94 2.06-2.06.94z\"/><path d=\"M17.41 7.96l-1.37-1.37c-.4-.4-.92-.59-1.43-.59-.52 0-1.04.2-1.43.59L10.3 9.45l-7.72 7.72c-.78.78-.78 2.05 0 2.83L4 21.41c.39.39.9.59 1.41.59.51 0 1.02-.2 1.41-.59l7.78-7.78 2.81-2.81c.8-.78.8-2.07 0-2.86zM5.41 20L4 18.59l7.72-7.72 1.47 1.35L5.41 20z\"/>\n",
              "  </svg>\n",
              "      </button>\n",
              "      \n",
              "  <style>\n",
              "    .colab-df-container {\n",
              "      display:flex;\n",
              "      flex-wrap:wrap;\n",
              "      gap: 12px;\n",
              "    }\n",
              "\n",
              "    .colab-df-convert {\n",
              "      background-color: #E8F0FE;\n",
              "      border: none;\n",
              "      border-radius: 50%;\n",
              "      cursor: pointer;\n",
              "      display: none;\n",
              "      fill: #1967D2;\n",
              "      height: 32px;\n",
              "      padding: 0 0 0 0;\n",
              "      width: 32px;\n",
              "    }\n",
              "\n",
              "    .colab-df-convert:hover {\n",
              "      background-color: #E2EBFA;\n",
              "      box-shadow: 0px 1px 2px rgba(60, 64, 67, 0.3), 0px 1px 3px 1px rgba(60, 64, 67, 0.15);\n",
              "      fill: #174EA6;\n",
              "    }\n",
              "\n",
              "    [theme=dark] .colab-df-convert {\n",
              "      background-color: #3B4455;\n",
              "      fill: #D2E3FC;\n",
              "    }\n",
              "\n",
              "    [theme=dark] .colab-df-convert:hover {\n",
              "      background-color: #434B5C;\n",
              "      box-shadow: 0px 1px 3px 1px rgba(0, 0, 0, 0.15);\n",
              "      filter: drop-shadow(0px 1px 2px rgba(0, 0, 0, 0.3));\n",
              "      fill: #FFFFFF;\n",
              "    }\n",
              "  </style>\n",
              "\n",
              "      <script>\n",
              "        const buttonEl =\n",
              "          document.querySelector('#df-f01893a7-55e1-4be0-a872-98eeb33699a5 button.colab-df-convert');\n",
              "        buttonEl.style.display =\n",
              "          google.colab.kernel.accessAllowed ? 'block' : 'none';\n",
              "\n",
              "        async function convertToInteractive(key) {\n",
              "          const element = document.querySelector('#df-f01893a7-55e1-4be0-a872-98eeb33699a5');\n",
              "          const dataTable =\n",
              "            await google.colab.kernel.invokeFunction('convertToInteractive',\n",
              "                                                     [key], {});\n",
              "          if (!dataTable) return;\n",
              "\n",
              "          const docLinkHtml = 'Like what you see? Visit the ' +\n",
              "            '<a target=\"_blank\" href=https://colab.research.google.com/notebooks/data_table.ipynb>data table notebook</a>'\n",
              "            + ' to learn more about interactive tables.';\n",
              "          element.innerHTML = '';\n",
              "          dataTable['output_type'] = 'display_data';\n",
              "          await google.colab.output.renderOutput(dataTable, element);\n",
              "          const docLink = document.createElement('div');\n",
              "          docLink.innerHTML = docLinkHtml;\n",
              "          element.appendChild(docLink);\n",
              "        }\n",
              "      </script>\n",
              "    </div>\n",
              "  </div>\n",
              "  "
            ]
          },
          "metadata": {},
          "execution_count": 5
        }
      ]
    },
    {
      "cell_type": "code",
      "metadata": {
        "id": "pRh47XU5nxyn"
      },
      "source": [
        "# use a dictionary\n",
        "state_height_dic = {'State':['NY', 'OK', 'TX'], 'Height':[160, 180, 140]}\n",
        "df_state_height_dic = pd.DataFrame(state_height_dic)"
      ],
      "execution_count": null,
      "outputs": []
    },
    {
      "cell_type": "code",
      "metadata": {
        "colab": {
          "base_uri": "https://localhost:8080/",
          "height": 143
        },
        "id": "JWpEtwUpoU2j",
        "outputId": "ee93bb0e-b77b-4b7a-bb60-8ad27b5f0f6c"
      },
      "source": [
        "# display the DF\n",
        "df_state_height_dic"
      ],
      "execution_count": null,
      "outputs": [
        {
          "output_type": "execute_result",
          "data": {
            "text/plain": [
              "  State  Height\n",
              "0    NY     160\n",
              "1    OK     180\n",
              "2    TX     140"
            ],
            "text/html": [
              "\n",
              "  <div id=\"df-a4b79e20-174c-4f71-8834-9bdb72aca0e0\">\n",
              "    <div class=\"colab-df-container\">\n",
              "      <div>\n",
              "<style scoped>\n",
              "    .dataframe tbody tr th:only-of-type {\n",
              "        vertical-align: middle;\n",
              "    }\n",
              "\n",
              "    .dataframe tbody tr th {\n",
              "        vertical-align: top;\n",
              "    }\n",
              "\n",
              "    .dataframe thead th {\n",
              "        text-align: right;\n",
              "    }\n",
              "</style>\n",
              "<table border=\"1\" class=\"dataframe\">\n",
              "  <thead>\n",
              "    <tr style=\"text-align: right;\">\n",
              "      <th></th>\n",
              "      <th>State</th>\n",
              "      <th>Height</th>\n",
              "    </tr>\n",
              "  </thead>\n",
              "  <tbody>\n",
              "    <tr>\n",
              "      <th>0</th>\n",
              "      <td>NY</td>\n",
              "      <td>160</td>\n",
              "    </tr>\n",
              "    <tr>\n",
              "      <th>1</th>\n",
              "      <td>OK</td>\n",
              "      <td>180</td>\n",
              "    </tr>\n",
              "    <tr>\n",
              "      <th>2</th>\n",
              "      <td>TX</td>\n",
              "      <td>140</td>\n",
              "    </tr>\n",
              "  </tbody>\n",
              "</table>\n",
              "</div>\n",
              "      <button class=\"colab-df-convert\" onclick=\"convertToInteractive('df-a4b79e20-174c-4f71-8834-9bdb72aca0e0')\"\n",
              "              title=\"Convert this dataframe to an interactive table.\"\n",
              "              style=\"display:none;\">\n",
              "        \n",
              "  <svg xmlns=\"http://www.w3.org/2000/svg\" height=\"24px\"viewBox=\"0 0 24 24\"\n",
              "       width=\"24px\">\n",
              "    <path d=\"M0 0h24v24H0V0z\" fill=\"none\"/>\n",
              "    <path d=\"M18.56 5.44l.94 2.06.94-2.06 2.06-.94-2.06-.94-.94-2.06-.94 2.06-2.06.94zm-11 1L8.5 8.5l.94-2.06 2.06-.94-2.06-.94L8.5 2.5l-.94 2.06-2.06.94zm10 10l.94 2.06.94-2.06 2.06-.94-2.06-.94-.94-2.06-.94 2.06-2.06.94z\"/><path d=\"M17.41 7.96l-1.37-1.37c-.4-.4-.92-.59-1.43-.59-.52 0-1.04.2-1.43.59L10.3 9.45l-7.72 7.72c-.78.78-.78 2.05 0 2.83L4 21.41c.39.39.9.59 1.41.59.51 0 1.02-.2 1.41-.59l7.78-7.78 2.81-2.81c.8-.78.8-2.07 0-2.86zM5.41 20L4 18.59l7.72-7.72 1.47 1.35L5.41 20z\"/>\n",
              "  </svg>\n",
              "      </button>\n",
              "      \n",
              "  <style>\n",
              "    .colab-df-container {\n",
              "      display:flex;\n",
              "      flex-wrap:wrap;\n",
              "      gap: 12px;\n",
              "    }\n",
              "\n",
              "    .colab-df-convert {\n",
              "      background-color: #E8F0FE;\n",
              "      border: none;\n",
              "      border-radius: 50%;\n",
              "      cursor: pointer;\n",
              "      display: none;\n",
              "      fill: #1967D2;\n",
              "      height: 32px;\n",
              "      padding: 0 0 0 0;\n",
              "      width: 32px;\n",
              "    }\n",
              "\n",
              "    .colab-df-convert:hover {\n",
              "      background-color: #E2EBFA;\n",
              "      box-shadow: 0px 1px 2px rgba(60, 64, 67, 0.3), 0px 1px 3px 1px rgba(60, 64, 67, 0.15);\n",
              "      fill: #174EA6;\n",
              "    }\n",
              "\n",
              "    [theme=dark] .colab-df-convert {\n",
              "      background-color: #3B4455;\n",
              "      fill: #D2E3FC;\n",
              "    }\n",
              "\n",
              "    [theme=dark] .colab-df-convert:hover {\n",
              "      background-color: #434B5C;\n",
              "      box-shadow: 0px 1px 3px 1px rgba(0, 0, 0, 0.15);\n",
              "      filter: drop-shadow(0px 1px 2px rgba(0, 0, 0, 0.3));\n",
              "      fill: #FFFFFF;\n",
              "    }\n",
              "  </style>\n",
              "\n",
              "      <script>\n",
              "        const buttonEl =\n",
              "          document.querySelector('#df-a4b79e20-174c-4f71-8834-9bdb72aca0e0 button.colab-df-convert');\n",
              "        buttonEl.style.display =\n",
              "          google.colab.kernel.accessAllowed ? 'block' : 'none';\n",
              "\n",
              "        async function convertToInteractive(key) {\n",
              "          const element = document.querySelector('#df-a4b79e20-174c-4f71-8834-9bdb72aca0e0');\n",
              "          const dataTable =\n",
              "            await google.colab.kernel.invokeFunction('convertToInteractive',\n",
              "                                                     [key], {});\n",
              "          if (!dataTable) return;\n",
              "\n",
              "          const docLinkHtml = 'Like what you see? Visit the ' +\n",
              "            '<a target=\"_blank\" href=https://colab.research.google.com/notebooks/data_table.ipynb>data table notebook</a>'\n",
              "            + ' to learn more about interactive tables.';\n",
              "          element.innerHTML = '';\n",
              "          dataTable['output_type'] = 'display_data';\n",
              "          await google.colab.output.renderOutput(dataTable, element);\n",
              "          const docLink = document.createElement('div');\n",
              "          docLink.innerHTML = docLinkHtml;\n",
              "          element.appendChild(docLink);\n",
              "        }\n",
              "      </script>\n",
              "    </div>\n",
              "  </div>\n",
              "  "
            ]
          },
          "metadata": {},
          "execution_count": 7
        }
      ]
    },
    {
      "cell_type": "code",
      "metadata": {
        "id": "Gf2IRsnJoa3K"
      },
      "source": [
        "#index\n",
        "df_state_height_dic2 = pd.DataFrame(state_height_dic, index=['Tom','Liz','John'])"
      ],
      "execution_count": null,
      "outputs": []
    },
    {
      "cell_type": "code",
      "metadata": {
        "colab": {
          "base_uri": "https://localhost:8080/",
          "height": 143
        },
        "id": "WsWml2mbovsO",
        "outputId": "5682b9dd-3ebe-4f67-aa1f-886ca3c4fb2d"
      },
      "source": [
        "# df_state_height_dic2\n",
        "df_state_height_dic2"
      ],
      "execution_count": null,
      "outputs": [
        {
          "output_type": "execute_result",
          "data": {
            "text/plain": [
              "     State  Height\n",
              "Tom     NY     160\n",
              "Liz     OK     180\n",
              "John    TX     140"
            ],
            "text/html": [
              "\n",
              "  <div id=\"df-153caeba-755b-415d-bc91-8530d040e6c7\">\n",
              "    <div class=\"colab-df-container\">\n",
              "      <div>\n",
              "<style scoped>\n",
              "    .dataframe tbody tr th:only-of-type {\n",
              "        vertical-align: middle;\n",
              "    }\n",
              "\n",
              "    .dataframe tbody tr th {\n",
              "        vertical-align: top;\n",
              "    }\n",
              "\n",
              "    .dataframe thead th {\n",
              "        text-align: right;\n",
              "    }\n",
              "</style>\n",
              "<table border=\"1\" class=\"dataframe\">\n",
              "  <thead>\n",
              "    <tr style=\"text-align: right;\">\n",
              "      <th></th>\n",
              "      <th>State</th>\n",
              "      <th>Height</th>\n",
              "    </tr>\n",
              "  </thead>\n",
              "  <tbody>\n",
              "    <tr>\n",
              "      <th>Tom</th>\n",
              "      <td>NY</td>\n",
              "      <td>160</td>\n",
              "    </tr>\n",
              "    <tr>\n",
              "      <th>Liz</th>\n",
              "      <td>OK</td>\n",
              "      <td>180</td>\n",
              "    </tr>\n",
              "    <tr>\n",
              "      <th>John</th>\n",
              "      <td>TX</td>\n",
              "      <td>140</td>\n",
              "    </tr>\n",
              "  </tbody>\n",
              "</table>\n",
              "</div>\n",
              "      <button class=\"colab-df-convert\" onclick=\"convertToInteractive('df-153caeba-755b-415d-bc91-8530d040e6c7')\"\n",
              "              title=\"Convert this dataframe to an interactive table.\"\n",
              "              style=\"display:none;\">\n",
              "        \n",
              "  <svg xmlns=\"http://www.w3.org/2000/svg\" height=\"24px\"viewBox=\"0 0 24 24\"\n",
              "       width=\"24px\">\n",
              "    <path d=\"M0 0h24v24H0V0z\" fill=\"none\"/>\n",
              "    <path d=\"M18.56 5.44l.94 2.06.94-2.06 2.06-.94-2.06-.94-.94-2.06-.94 2.06-2.06.94zm-11 1L8.5 8.5l.94-2.06 2.06-.94-2.06-.94L8.5 2.5l-.94 2.06-2.06.94zm10 10l.94 2.06.94-2.06 2.06-.94-2.06-.94-.94-2.06-.94 2.06-2.06.94z\"/><path d=\"M17.41 7.96l-1.37-1.37c-.4-.4-.92-.59-1.43-.59-.52 0-1.04.2-1.43.59L10.3 9.45l-7.72 7.72c-.78.78-.78 2.05 0 2.83L4 21.41c.39.39.9.59 1.41.59.51 0 1.02-.2 1.41-.59l7.78-7.78 2.81-2.81c.8-.78.8-2.07 0-2.86zM5.41 20L4 18.59l7.72-7.72 1.47 1.35L5.41 20z\"/>\n",
              "  </svg>\n",
              "      </button>\n",
              "      \n",
              "  <style>\n",
              "    .colab-df-container {\n",
              "      display:flex;\n",
              "      flex-wrap:wrap;\n",
              "      gap: 12px;\n",
              "    }\n",
              "\n",
              "    .colab-df-convert {\n",
              "      background-color: #E8F0FE;\n",
              "      border: none;\n",
              "      border-radius: 50%;\n",
              "      cursor: pointer;\n",
              "      display: none;\n",
              "      fill: #1967D2;\n",
              "      height: 32px;\n",
              "      padding: 0 0 0 0;\n",
              "      width: 32px;\n",
              "    }\n",
              "\n",
              "    .colab-df-convert:hover {\n",
              "      background-color: #E2EBFA;\n",
              "      box-shadow: 0px 1px 2px rgba(60, 64, 67, 0.3), 0px 1px 3px 1px rgba(60, 64, 67, 0.15);\n",
              "      fill: #174EA6;\n",
              "    }\n",
              "\n",
              "    [theme=dark] .colab-df-convert {\n",
              "      background-color: #3B4455;\n",
              "      fill: #D2E3FC;\n",
              "    }\n",
              "\n",
              "    [theme=dark] .colab-df-convert:hover {\n",
              "      background-color: #434B5C;\n",
              "      box-shadow: 0px 1px 3px 1px rgba(0, 0, 0, 0.15);\n",
              "      filter: drop-shadow(0px 1px 2px rgba(0, 0, 0, 0.3));\n",
              "      fill: #FFFFFF;\n",
              "    }\n",
              "  </style>\n",
              "\n",
              "      <script>\n",
              "        const buttonEl =\n",
              "          document.querySelector('#df-153caeba-755b-415d-bc91-8530d040e6c7 button.colab-df-convert');\n",
              "        buttonEl.style.display =\n",
              "          google.colab.kernel.accessAllowed ? 'block' : 'none';\n",
              "\n",
              "        async function convertToInteractive(key) {\n",
              "          const element = document.querySelector('#df-153caeba-755b-415d-bc91-8530d040e6c7');\n",
              "          const dataTable =\n",
              "            await google.colab.kernel.invokeFunction('convertToInteractive',\n",
              "                                                     [key], {});\n",
              "          if (!dataTable) return;\n",
              "\n",
              "          const docLinkHtml = 'Like what you see? Visit the ' +\n",
              "            '<a target=\"_blank\" href=https://colab.research.google.com/notebooks/data_table.ipynb>data table notebook</a>'\n",
              "            + ' to learn more about interactive tables.';\n",
              "          element.innerHTML = '';\n",
              "          dataTable['output_type'] = 'display_data';\n",
              "          await google.colab.output.renderOutput(dataTable, element);\n",
              "          const docLink = document.createElement('div');\n",
              "          docLink.innerHTML = docLinkHtml;\n",
              "          element.appendChild(docLink);\n",
              "        }\n",
              "      </script>\n",
              "    </div>\n",
              "  </div>\n",
              "  "
            ]
          },
          "metadata": {},
          "execution_count": 9
        }
      ]
    },
    {
      "cell_type": "markdown",
      "metadata": {
        "id": "9yWFfHUeo7NP"
      },
      "source": [
        "## Import an Excel/CSV File into Python"
      ]
    },
    {
      "cell_type": "code",
      "metadata": {
        "colab": {
          "base_uri": "https://localhost:8080/"
        },
        "id": "wjI-9hNpoxCm",
        "outputId": "982059ff-bb55-442c-dcf9-427de2e0c4ac"
      },
      "source": [
        "# mount\n",
        "# connection between colab notebook and drive\n",
        "from google.colab import drive\n",
        "drive.mount('/content/drive')"
      ],
      "execution_count": null,
      "outputs": [
        {
          "output_type": "stream",
          "name": "stdout",
          "text": [
            "Mounted at /content/drive\n"
          ]
        }
      ]
    },
    {
      "cell_type": "code",
      "metadata": {
        "id": "7hQcsERVpi7T"
      },
      "source": [
        "# import grades file\n",
        "df_grades = pd.read_excel('/content/drive/My Drive/ML_boothcamp_2022/lecture_notes/excel_files/grades.xlsx')"
      ],
      "execution_count": null,
      "outputs": []
    },
    {
      "cell_type": "code",
      "metadata": {
        "colab": {
          "base_uri": "https://localhost:8080/",
          "height": 408
        },
        "id": "R4n1kzHKp6bh",
        "outputId": "40aa5d35-ebbc-4e63-bcdb-9feab197afe7"
      },
      "source": [
        "# df_grades\n",
        "df_grades"
      ],
      "execution_count": null,
      "outputs": [
        {
          "output_type": "execute_result",
          "data": {
            "text/html": [
              "<div>\n",
              "<style scoped>\n",
              "    .dataframe tbody tr th:only-of-type {\n",
              "        vertical-align: middle;\n",
              "    }\n",
              "\n",
              "    .dataframe tbody tr th {\n",
              "        vertical-align: top;\n",
              "    }\n",
              "\n",
              "    .dataframe thead th {\n",
              "        text-align: right;\n",
              "    }\n",
              "</style>\n",
              "<table border=\"1\" class=\"dataframe\">\n",
              "  <thead>\n",
              "    <tr style=\"text-align: right;\">\n",
              "      <th></th>\n",
              "      <th>Name</th>\n",
              "      <th>ID</th>\n",
              "      <th>Grade</th>\n",
              "      <th>Gender</th>\n",
              "      <th>HW</th>\n",
              "      <th>Test-1</th>\n",
              "      <th>Test-2</th>\n",
              "      <th>Test-3</th>\n",
              "      <th>Test-4</th>\n",
              "      <th>Final</th>\n",
              "    </tr>\n",
              "  </thead>\n",
              "  <tbody>\n",
              "    <tr>\n",
              "      <th>0</th>\n",
              "      <td>mqtvy</td>\n",
              "      <td>37047871</td>\n",
              "      <td>10</td>\n",
              "      <td>M</td>\n",
              "      <td>30</td>\n",
              "      <td>91</td>\n",
              "      <td>69</td>\n",
              "      <td>93</td>\n",
              "      <td>17</td>\n",
              "      <td>50</td>\n",
              "    </tr>\n",
              "    <tr>\n",
              "      <th>1</th>\n",
              "      <td>jbbsx</td>\n",
              "      <td>35439616</td>\n",
              "      <td>11</td>\n",
              "      <td>F</td>\n",
              "      <td>6</td>\n",
              "      <td>18</td>\n",
              "      <td>93</td>\n",
              "      <td>9</td>\n",
              "      <td>98</td>\n",
              "      <td>91</td>\n",
              "    </tr>\n",
              "    <tr>\n",
              "      <th>2</th>\n",
              "      <td>mrvab</td>\n",
              "      <td>35543247</td>\n",
              "      <td>11</td>\n",
              "      <td>M</td>\n",
              "      <td>78</td>\n",
              "      <td>92</td>\n",
              "      <td>60</td>\n",
              "      <td>43</td>\n",
              "      <td>34</td>\n",
              "      <td>26</td>\n",
              "    </tr>\n",
              "    <tr>\n",
              "      <th>3</th>\n",
              "      <td>bjyve</td>\n",
              "      <td>61282135</td>\n",
              "      <td>9</td>\n",
              "      <td>M</td>\n",
              "      <td>60</td>\n",
              "      <td>8</td>\n",
              "      <td>10</td>\n",
              "      <td>99</td>\n",
              "      <td>80</td>\n",
              "      <td>87</td>\n",
              "    </tr>\n",
              "    <tr>\n",
              "      <th>4</th>\n",
              "      <td>rlpsr</td>\n",
              "      <td>53448034</td>\n",
              "      <td>10</td>\n",
              "      <td>M</td>\n",
              "      <td>3</td>\n",
              "      <td>38</td>\n",
              "      <td>45</td>\n",
              "      <td>43</td>\n",
              "      <td>79</td>\n",
              "      <td>69</td>\n",
              "    </tr>\n",
              "    <tr>\n",
              "      <th>...</th>\n",
              "      <td>...</td>\n",
              "      <td>...</td>\n",
              "      <td>...</td>\n",
              "      <td>...</td>\n",
              "      <td>...</td>\n",
              "      <td>...</td>\n",
              "      <td>...</td>\n",
              "      <td>...</td>\n",
              "      <td>...</td>\n",
              "      <td>...</td>\n",
              "    </tr>\n",
              "    <tr>\n",
              "      <th>95</th>\n",
              "      <td>zxuaq</td>\n",
              "      <td>58332078</td>\n",
              "      <td>12</td>\n",
              "      <td>M</td>\n",
              "      <td>57</td>\n",
              "      <td>1</td>\n",
              "      <td>48</td>\n",
              "      <td>61</td>\n",
              "      <td>58</td>\n",
              "      <td>99</td>\n",
              "    </tr>\n",
              "    <tr>\n",
              "      <th>96</th>\n",
              "      <td>vegye</td>\n",
              "      <td>10019910</td>\n",
              "      <td>11</td>\n",
              "      <td>F</td>\n",
              "      <td>88</td>\n",
              "      <td>30</td>\n",
              "      <td>48</td>\n",
              "      <td>85</td>\n",
              "      <td>48</td>\n",
              "      <td>17</td>\n",
              "    </tr>\n",
              "    <tr>\n",
              "      <th>97</th>\n",
              "      <td>euwlj</td>\n",
              "      <td>27967150</td>\n",
              "      <td>12</td>\n",
              "      <td>F</td>\n",
              "      <td>70</td>\n",
              "      <td>15</td>\n",
              "      <td>72</td>\n",
              "      <td>77</td>\n",
              "      <td>20</td>\n",
              "      <td>65</td>\n",
              "    </tr>\n",
              "    <tr>\n",
              "      <th>98</th>\n",
              "      <td>oesms</td>\n",
              "      <td>36171468</td>\n",
              "      <td>10</td>\n",
              "      <td>M</td>\n",
              "      <td>88</td>\n",
              "      <td>16</td>\n",
              "      <td>100</td>\n",
              "      <td>62</td>\n",
              "      <td>76</td>\n",
              "      <td>19</td>\n",
              "    </tr>\n",
              "    <tr>\n",
              "      <th>99</th>\n",
              "      <td>buugr</td>\n",
              "      <td>88783139</td>\n",
              "      <td>10</td>\n",
              "      <td>M</td>\n",
              "      <td>23</td>\n",
              "      <td>74</td>\n",
              "      <td>14</td>\n",
              "      <td>17</td>\n",
              "      <td>40</td>\n",
              "      <td>59</td>\n",
              "    </tr>\n",
              "  </tbody>\n",
              "</table>\n",
              "<p>100 rows × 10 columns</p>\n",
              "</div>"
            ],
            "text/plain": [
              "     Name        ID  Grade Gender  HW  Test-1  Test-2  Test-3  Test-4  Final\n",
              "0   mqtvy  37047871     10      M  30      91      69      93      17     50\n",
              "1   jbbsx  35439616     11      F   6      18      93       9      98     91\n",
              "2   mrvab  35543247     11      M  78      92      60      43      34     26\n",
              "3   bjyve  61282135      9      M  60       8      10      99      80     87\n",
              "4   rlpsr  53448034     10      M   3      38      45      43      79     69\n",
              "..    ...       ...    ...    ...  ..     ...     ...     ...     ...    ...\n",
              "95  zxuaq  58332078     12      M  57       1      48      61      58     99\n",
              "96  vegye  10019910     11      F  88      30      48      85      48     17\n",
              "97  euwlj  27967150     12      F  70      15      72      77      20     65\n",
              "98  oesms  36171468     10      M  88      16     100      62      76     19\n",
              "99  buugr  88783139     10      M  23      74      14      17      40     59\n",
              "\n",
              "[100 rows x 10 columns]"
            ]
          },
          "metadata": {
            "tags": []
          },
          "execution_count": 6
        }
      ]
    },
    {
      "cell_type": "markdown",
      "metadata": {
        "id": "plHXeA9zrxLI"
      },
      "source": [
        "## Shape and Length\n",
        "- shape=(row number, column number)\n",
        "- len = row number"
      ]
    },
    {
      "cell_type": "code",
      "metadata": {
        "colab": {
          "base_uri": "https://localhost:8080/"
        },
        "id": "47kfvL_irchh",
        "outputId": "6ce2e7a6-04c4-444e-a0e9-971c96b08be5"
      },
      "source": [
        "# shape\n",
        "df_grades.shape"
      ],
      "execution_count": null,
      "outputs": [
        {
          "output_type": "execute_result",
          "data": {
            "text/plain": [
              "(100, 10)"
            ]
          },
          "metadata": {
            "tags": []
          },
          "execution_count": 30
        }
      ]
    },
    {
      "cell_type": "code",
      "metadata": {
        "colab": {
          "base_uri": "https://localhost:8080/"
        },
        "id": "BirBfScOr5Qd",
        "outputId": "21617e9b-2c10-4818-ece7-9ba9bce6a92a"
      },
      "source": [
        "# length\n",
        "len(df_grades)"
      ],
      "execution_count": null,
      "outputs": [
        {
          "output_type": "execute_result",
          "data": {
            "text/plain": [
              "100"
            ]
          },
          "metadata": {
            "tags": []
          },
          "execution_count": 31
        }
      ]
    },
    {
      "cell_type": "markdown",
      "metadata": {
        "id": "uygY4wD_sB7U"
      },
      "source": [
        "## head() and tail()\n",
        "- head(n): first n rows\n",
        "- tail(n): last n rows\n",
        "- default is 5"
      ]
    },
    {
      "cell_type": "code",
      "metadata": {
        "id": "022lqNpCr-1H"
      },
      "source": [
        "# head()\n",
        "df_grades.head()"
      ],
      "execution_count": null,
      "outputs": []
    },
    {
      "cell_type": "code",
      "metadata": {
        "colab": {
          "base_uri": "https://localhost:8080/",
          "height": 349
        },
        "id": "7Ixx6E6OsI_L",
        "outputId": "a33649d7-26dd-44c0-df67-d014491c26cf"
      },
      "source": [
        "# head(10)\n",
        "df_grades.head(10)"
      ],
      "execution_count": null,
      "outputs": [
        {
          "output_type": "execute_result",
          "data": {
            "text/html": [
              "<div>\n",
              "<style scoped>\n",
              "    .dataframe tbody tr th:only-of-type {\n",
              "        vertical-align: middle;\n",
              "    }\n",
              "\n",
              "    .dataframe tbody tr th {\n",
              "        vertical-align: top;\n",
              "    }\n",
              "\n",
              "    .dataframe thead th {\n",
              "        text-align: right;\n",
              "    }\n",
              "</style>\n",
              "<table border=\"1\" class=\"dataframe\">\n",
              "  <thead>\n",
              "    <tr style=\"text-align: right;\">\n",
              "      <th></th>\n",
              "      <th>Name</th>\n",
              "      <th>ID</th>\n",
              "      <th>Grade</th>\n",
              "      <th>Gender</th>\n",
              "      <th>HW</th>\n",
              "      <th>Test-1</th>\n",
              "      <th>Test-2</th>\n",
              "      <th>Test-3</th>\n",
              "      <th>Test-4</th>\n",
              "      <th>Final</th>\n",
              "    </tr>\n",
              "  </thead>\n",
              "  <tbody>\n",
              "    <tr>\n",
              "      <th>0</th>\n",
              "      <td>mqtvy</td>\n",
              "      <td>37047871</td>\n",
              "      <td>10</td>\n",
              "      <td>M</td>\n",
              "      <td>30</td>\n",
              "      <td>91</td>\n",
              "      <td>69</td>\n",
              "      <td>93</td>\n",
              "      <td>17</td>\n",
              "      <td>50</td>\n",
              "    </tr>\n",
              "    <tr>\n",
              "      <th>1</th>\n",
              "      <td>jbbsx</td>\n",
              "      <td>35439616</td>\n",
              "      <td>11</td>\n",
              "      <td>F</td>\n",
              "      <td>6</td>\n",
              "      <td>18</td>\n",
              "      <td>93</td>\n",
              "      <td>9</td>\n",
              "      <td>98</td>\n",
              "      <td>91</td>\n",
              "    </tr>\n",
              "    <tr>\n",
              "      <th>2</th>\n",
              "      <td>mrvab</td>\n",
              "      <td>35543247</td>\n",
              "      <td>11</td>\n",
              "      <td>M</td>\n",
              "      <td>78</td>\n",
              "      <td>92</td>\n",
              "      <td>60</td>\n",
              "      <td>43</td>\n",
              "      <td>34</td>\n",
              "      <td>26</td>\n",
              "    </tr>\n",
              "    <tr>\n",
              "      <th>3</th>\n",
              "      <td>bjyve</td>\n",
              "      <td>61282135</td>\n",
              "      <td>9</td>\n",
              "      <td>M</td>\n",
              "      <td>60</td>\n",
              "      <td>8</td>\n",
              "      <td>10</td>\n",
              "      <td>99</td>\n",
              "      <td>80</td>\n",
              "      <td>87</td>\n",
              "    </tr>\n",
              "    <tr>\n",
              "      <th>4</th>\n",
              "      <td>rlpsr</td>\n",
              "      <td>53448034</td>\n",
              "      <td>10</td>\n",
              "      <td>M</td>\n",
              "      <td>3</td>\n",
              "      <td>38</td>\n",
              "      <td>45</td>\n",
              "      <td>43</td>\n",
              "      <td>79</td>\n",
              "      <td>69</td>\n",
              "    </tr>\n",
              "    <tr>\n",
              "      <th>5</th>\n",
              "      <td>hotxq</td>\n",
              "      <td>96808584</td>\n",
              "      <td>9</td>\n",
              "      <td>F</td>\n",
              "      <td>29</td>\n",
              "      <td>18</td>\n",
              "      <td>61</td>\n",
              "      <td>17</td>\n",
              "      <td>72</td>\n",
              "      <td>39</td>\n",
              "    </tr>\n",
              "    <tr>\n",
              "      <th>6</th>\n",
              "      <td>ylskw</td>\n",
              "      <td>37901138</td>\n",
              "      <td>9</td>\n",
              "      <td>M</td>\n",
              "      <td>53</td>\n",
              "      <td>85</td>\n",
              "      <td>61</td>\n",
              "      <td>87</td>\n",
              "      <td>9</td>\n",
              "      <td>94</td>\n",
              "    </tr>\n",
              "    <tr>\n",
              "      <th>7</th>\n",
              "      <td>cuepi</td>\n",
              "      <td>91568175</td>\n",
              "      <td>11</td>\n",
              "      <td>M</td>\n",
              "      <td>27</td>\n",
              "      <td>61</td>\n",
              "      <td>82</td>\n",
              "      <td>19</td>\n",
              "      <td>19</td>\n",
              "      <td>8</td>\n",
              "    </tr>\n",
              "    <tr>\n",
              "      <th>8</th>\n",
              "      <td>fmrdj</td>\n",
              "      <td>70101966</td>\n",
              "      <td>9</td>\n",
              "      <td>F</td>\n",
              "      <td>52</td>\n",
              "      <td>35</td>\n",
              "      <td>14</td>\n",
              "      <td>70</td>\n",
              "      <td>12</td>\n",
              "      <td>78</td>\n",
              "    </tr>\n",
              "    <tr>\n",
              "      <th>9</th>\n",
              "      <td>iyhzx</td>\n",
              "      <td>840574</td>\n",
              "      <td>11</td>\n",
              "      <td>M</td>\n",
              "      <td>91</td>\n",
              "      <td>89</td>\n",
              "      <td>37</td>\n",
              "      <td>93</td>\n",
              "      <td>96</td>\n",
              "      <td>28</td>\n",
              "    </tr>\n",
              "  </tbody>\n",
              "</table>\n",
              "</div>"
            ],
            "text/plain": [
              "    Name        ID  Grade Gender  HW  Test-1  Test-2  Test-3  Test-4  Final\n",
              "0  mqtvy  37047871     10      M  30      91      69      93      17     50\n",
              "1  jbbsx  35439616     11      F   6      18      93       9      98     91\n",
              "2  mrvab  35543247     11      M  78      92      60      43      34     26\n",
              "3  bjyve  61282135      9      M  60       8      10      99      80     87\n",
              "4  rlpsr  53448034     10      M   3      38      45      43      79     69\n",
              "5  hotxq  96808584      9      F  29      18      61      17      72     39\n",
              "6  ylskw  37901138      9      M  53      85      61      87       9     94\n",
              "7  cuepi  91568175     11      M  27      61      82      19      19      8\n",
              "8  fmrdj  70101966      9      F  52      35      14      70      12     78\n",
              "9  iyhzx    840574     11      M  91      89      37      93      96     28"
            ]
          },
          "metadata": {
            "tags": []
          },
          "execution_count": 33
        }
      ]
    },
    {
      "cell_type": "code",
      "metadata": {
        "id": "iGw9VDWusPkk",
        "colab": {
          "base_uri": "https://localhost:8080/",
          "height": 198
        },
        "outputId": "ba0cf983-d851-4dac-822c-e3e7a5ca247c"
      },
      "source": [
        "# tail()\n",
        "df_grades.tail()"
      ],
      "execution_count": null,
      "outputs": [
        {
          "output_type": "execute_result",
          "data": {
            "text/html": [
              "<div>\n",
              "<style scoped>\n",
              "    .dataframe tbody tr th:only-of-type {\n",
              "        vertical-align: middle;\n",
              "    }\n",
              "\n",
              "    .dataframe tbody tr th {\n",
              "        vertical-align: top;\n",
              "    }\n",
              "\n",
              "    .dataframe thead th {\n",
              "        text-align: right;\n",
              "    }\n",
              "</style>\n",
              "<table border=\"1\" class=\"dataframe\">\n",
              "  <thead>\n",
              "    <tr style=\"text-align: right;\">\n",
              "      <th></th>\n",
              "      <th>Name</th>\n",
              "      <th>ID</th>\n",
              "      <th>Grade</th>\n",
              "      <th>Gender</th>\n",
              "      <th>HW</th>\n",
              "      <th>Test-1</th>\n",
              "      <th>Test-2</th>\n",
              "      <th>Test-3</th>\n",
              "      <th>Test-4</th>\n",
              "      <th>Final</th>\n",
              "    </tr>\n",
              "  </thead>\n",
              "  <tbody>\n",
              "    <tr>\n",
              "      <th>95</th>\n",
              "      <td>zxuaq</td>\n",
              "      <td>58332078</td>\n",
              "      <td>12</td>\n",
              "      <td>M</td>\n",
              "      <td>57</td>\n",
              "      <td>1</td>\n",
              "      <td>48</td>\n",
              "      <td>61</td>\n",
              "      <td>58</td>\n",
              "      <td>99</td>\n",
              "    </tr>\n",
              "    <tr>\n",
              "      <th>96</th>\n",
              "      <td>vegye</td>\n",
              "      <td>10019910</td>\n",
              "      <td>11</td>\n",
              "      <td>F</td>\n",
              "      <td>88</td>\n",
              "      <td>30</td>\n",
              "      <td>48</td>\n",
              "      <td>85</td>\n",
              "      <td>48</td>\n",
              "      <td>17</td>\n",
              "    </tr>\n",
              "    <tr>\n",
              "      <th>97</th>\n",
              "      <td>euwlj</td>\n",
              "      <td>27967150</td>\n",
              "      <td>12</td>\n",
              "      <td>F</td>\n",
              "      <td>70</td>\n",
              "      <td>15</td>\n",
              "      <td>72</td>\n",
              "      <td>77</td>\n",
              "      <td>20</td>\n",
              "      <td>65</td>\n",
              "    </tr>\n",
              "    <tr>\n",
              "      <th>98</th>\n",
              "      <td>oesms</td>\n",
              "      <td>36171468</td>\n",
              "      <td>10</td>\n",
              "      <td>M</td>\n",
              "      <td>88</td>\n",
              "      <td>16</td>\n",
              "      <td>100</td>\n",
              "      <td>62</td>\n",
              "      <td>76</td>\n",
              "      <td>19</td>\n",
              "    </tr>\n",
              "    <tr>\n",
              "      <th>99</th>\n",
              "      <td>buugr</td>\n",
              "      <td>88783139</td>\n",
              "      <td>10</td>\n",
              "      <td>M</td>\n",
              "      <td>23</td>\n",
              "      <td>74</td>\n",
              "      <td>14</td>\n",
              "      <td>17</td>\n",
              "      <td>40</td>\n",
              "      <td>59</td>\n",
              "    </tr>\n",
              "  </tbody>\n",
              "</table>\n",
              "</div>"
            ],
            "text/plain": [
              "     Name        ID  Grade Gender  HW  Test-1  Test-2  Test-3  Test-4  Final\n",
              "95  zxuaq  58332078     12      M  57       1      48      61      58     99\n",
              "96  vegye  10019910     11      F  88      30      48      85      48     17\n",
              "97  euwlj  27967150     12      F  70      15      72      77      20     65\n",
              "98  oesms  36171468     10      M  88      16     100      62      76     19\n",
              "99  buugr  88783139     10      M  23      74      14      17      40     59"
            ]
          },
          "metadata": {
            "tags": []
          },
          "execution_count": 34
        }
      ]
    },
    {
      "cell_type": "code",
      "metadata": {
        "colab": {
          "base_uri": "https://localhost:8080/",
          "height": 349
        },
        "id": "8WPm4ZN9sPk8",
        "outputId": "e7f257bb-7766-4cb7-d97b-55b99b231b69"
      },
      "source": [
        "# tail(10)\n",
        "df_grades.tail(10)"
      ],
      "execution_count": null,
      "outputs": [
        {
          "output_type": "execute_result",
          "data": {
            "text/html": [
              "<div>\n",
              "<style scoped>\n",
              "    .dataframe tbody tr th:only-of-type {\n",
              "        vertical-align: middle;\n",
              "    }\n",
              "\n",
              "    .dataframe tbody tr th {\n",
              "        vertical-align: top;\n",
              "    }\n",
              "\n",
              "    .dataframe thead th {\n",
              "        text-align: right;\n",
              "    }\n",
              "</style>\n",
              "<table border=\"1\" class=\"dataframe\">\n",
              "  <thead>\n",
              "    <tr style=\"text-align: right;\">\n",
              "      <th></th>\n",
              "      <th>Name</th>\n",
              "      <th>ID</th>\n",
              "      <th>Grade</th>\n",
              "      <th>Gender</th>\n",
              "      <th>HW</th>\n",
              "      <th>Test-1</th>\n",
              "      <th>Test-2</th>\n",
              "      <th>Test-3</th>\n",
              "      <th>Test-4</th>\n",
              "      <th>Final</th>\n",
              "    </tr>\n",
              "  </thead>\n",
              "  <tbody>\n",
              "    <tr>\n",
              "      <th>90</th>\n",
              "      <td>wxtpu</td>\n",
              "      <td>98301627</td>\n",
              "      <td>12</td>\n",
              "      <td>M</td>\n",
              "      <td>44</td>\n",
              "      <td>57</td>\n",
              "      <td>99</td>\n",
              "      <td>87</td>\n",
              "      <td>9</td>\n",
              "      <td>62</td>\n",
              "    </tr>\n",
              "    <tr>\n",
              "      <th>91</th>\n",
              "      <td>dvadf</td>\n",
              "      <td>79686024</td>\n",
              "      <td>11</td>\n",
              "      <td>F</td>\n",
              "      <td>1</td>\n",
              "      <td>80</td>\n",
              "      <td>24</td>\n",
              "      <td>77</td>\n",
              "      <td>80</td>\n",
              "      <td>77</td>\n",
              "    </tr>\n",
              "    <tr>\n",
              "      <th>92</th>\n",
              "      <td>lagws</td>\n",
              "      <td>82526433</td>\n",
              "      <td>12</td>\n",
              "      <td>F</td>\n",
              "      <td>12</td>\n",
              "      <td>45</td>\n",
              "      <td>97</td>\n",
              "      <td>92</td>\n",
              "      <td>20</td>\n",
              "      <td>29</td>\n",
              "    </tr>\n",
              "    <tr>\n",
              "      <th>93</th>\n",
              "      <td>yzljj</td>\n",
              "      <td>10884705</td>\n",
              "      <td>10</td>\n",
              "      <td>M</td>\n",
              "      <td>92</td>\n",
              "      <td>75</td>\n",
              "      <td>41</td>\n",
              "      <td>33</td>\n",
              "      <td>61</td>\n",
              "      <td>66</td>\n",
              "    </tr>\n",
              "    <tr>\n",
              "      <th>94</th>\n",
              "      <td>jloze</td>\n",
              "      <td>30408806</td>\n",
              "      <td>10</td>\n",
              "      <td>M</td>\n",
              "      <td>19</td>\n",
              "      <td>24</td>\n",
              "      <td>73</td>\n",
              "      <td>98</td>\n",
              "      <td>48</td>\n",
              "      <td>95</td>\n",
              "    </tr>\n",
              "    <tr>\n",
              "      <th>95</th>\n",
              "      <td>zxuaq</td>\n",
              "      <td>58332078</td>\n",
              "      <td>12</td>\n",
              "      <td>M</td>\n",
              "      <td>57</td>\n",
              "      <td>1</td>\n",
              "      <td>48</td>\n",
              "      <td>61</td>\n",
              "      <td>58</td>\n",
              "      <td>99</td>\n",
              "    </tr>\n",
              "    <tr>\n",
              "      <th>96</th>\n",
              "      <td>vegye</td>\n",
              "      <td>10019910</td>\n",
              "      <td>11</td>\n",
              "      <td>F</td>\n",
              "      <td>88</td>\n",
              "      <td>30</td>\n",
              "      <td>48</td>\n",
              "      <td>85</td>\n",
              "      <td>48</td>\n",
              "      <td>17</td>\n",
              "    </tr>\n",
              "    <tr>\n",
              "      <th>97</th>\n",
              "      <td>euwlj</td>\n",
              "      <td>27967150</td>\n",
              "      <td>12</td>\n",
              "      <td>F</td>\n",
              "      <td>70</td>\n",
              "      <td>15</td>\n",
              "      <td>72</td>\n",
              "      <td>77</td>\n",
              "      <td>20</td>\n",
              "      <td>65</td>\n",
              "    </tr>\n",
              "    <tr>\n",
              "      <th>98</th>\n",
              "      <td>oesms</td>\n",
              "      <td>36171468</td>\n",
              "      <td>10</td>\n",
              "      <td>M</td>\n",
              "      <td>88</td>\n",
              "      <td>16</td>\n",
              "      <td>100</td>\n",
              "      <td>62</td>\n",
              "      <td>76</td>\n",
              "      <td>19</td>\n",
              "    </tr>\n",
              "    <tr>\n",
              "      <th>99</th>\n",
              "      <td>buugr</td>\n",
              "      <td>88783139</td>\n",
              "      <td>10</td>\n",
              "      <td>M</td>\n",
              "      <td>23</td>\n",
              "      <td>74</td>\n",
              "      <td>14</td>\n",
              "      <td>17</td>\n",
              "      <td>40</td>\n",
              "      <td>59</td>\n",
              "    </tr>\n",
              "  </tbody>\n",
              "</table>\n",
              "</div>"
            ],
            "text/plain": [
              "     Name        ID  Grade Gender  HW  Test-1  Test-2  Test-3  Test-4  Final\n",
              "90  wxtpu  98301627     12      M  44      57      99      87       9     62\n",
              "91  dvadf  79686024     11      F   1      80      24      77      80     77\n",
              "92  lagws  82526433     12      F  12      45      97      92      20     29\n",
              "93  yzljj  10884705     10      M  92      75      41      33      61     66\n",
              "94  jloze  30408806     10      M  19      24      73      98      48     95\n",
              "95  zxuaq  58332078     12      M  57       1      48      61      58     99\n",
              "96  vegye  10019910     11      F  88      30      48      85      48     17\n",
              "97  euwlj  27967150     12      F  70      15      72      77      20     65\n",
              "98  oesms  36171468     10      M  88      16     100      62      76     19\n",
              "99  buugr  88783139     10      M  23      74      14      17      40     59"
            ]
          },
          "metadata": {
            "tags": []
          },
          "execution_count": 35
        }
      ]
    },
    {
      "cell_type": "markdown",
      "metadata": {
        "id": "mForoxVBsuSA"
      },
      "source": [
        "## info()\n",
        "- index, number of columns, dtypes, non-null values"
      ]
    },
    {
      "cell_type": "code",
      "metadata": {
        "colab": {
          "base_uri": "https://localhost:8080/"
        },
        "id": "rsPRrXB4sacF",
        "outputId": "80279243-1791-448b-bd47-be25d31dc562"
      },
      "source": [
        "# info()\n",
        "df_grades.info()"
      ],
      "execution_count": null,
      "outputs": [
        {
          "output_type": "stream",
          "text": [
            "<class 'pandas.core.frame.DataFrame'>\n",
            "RangeIndex: 100 entries, 0 to 99\n",
            "Data columns (total 10 columns):\n",
            " #   Column  Non-Null Count  Dtype \n",
            "---  ------  --------------  ----- \n",
            " 0   Name    100 non-null    object\n",
            " 1   ID      100 non-null    int64 \n",
            " 2   Grade   100 non-null    int64 \n",
            " 3   Gender  100 non-null    object\n",
            " 4   HW      100 non-null    int64 \n",
            " 5   Test-1  100 non-null    int64 \n",
            " 6   Test-2  100 non-null    int64 \n",
            " 7   Test-3  100 non-null    int64 \n",
            " 8   Test-4  100 non-null    int64 \n",
            " 9   Final   100 non-null    int64 \n",
            "dtypes: int64(8), object(2)\n",
            "memory usage: 7.9+ KB\n"
          ],
          "name": "stdout"
        }
      ]
    },
    {
      "cell_type": "markdown",
      "metadata": {
        "id": "DiTifmYcs0Kg"
      },
      "source": [
        "## describe()\n",
        "- descriptive statistics"
      ]
    },
    {
      "cell_type": "code",
      "metadata": {
        "colab": {
          "base_uri": "https://localhost:8080/",
          "height": 289
        },
        "id": "BARyunnksoME",
        "outputId": "07f1eeac-e086-4204-d4fc-e0d089175806"
      },
      "source": [
        "# describe\n",
        "df_grades.describe().round(2)"
      ],
      "execution_count": null,
      "outputs": [
        {
          "output_type": "execute_result",
          "data": {
            "text/html": [
              "<div>\n",
              "<style scoped>\n",
              "    .dataframe tbody tr th:only-of-type {\n",
              "        vertical-align: middle;\n",
              "    }\n",
              "\n",
              "    .dataframe tbody tr th {\n",
              "        vertical-align: top;\n",
              "    }\n",
              "\n",
              "    .dataframe thead th {\n",
              "        text-align: right;\n",
              "    }\n",
              "</style>\n",
              "<table border=\"1\" class=\"dataframe\">\n",
              "  <thead>\n",
              "    <tr style=\"text-align: right;\">\n",
              "      <th></th>\n",
              "      <th>ID</th>\n",
              "      <th>Grade</th>\n",
              "      <th>HW</th>\n",
              "      <th>Test-1</th>\n",
              "      <th>Test-2</th>\n",
              "      <th>Test-3</th>\n",
              "      <th>Test-4</th>\n",
              "      <th>Final</th>\n",
              "    </tr>\n",
              "  </thead>\n",
              "  <tbody>\n",
              "    <tr>\n",
              "      <th>count</th>\n",
              "      <td>100.00</td>\n",
              "      <td>100.00</td>\n",
              "      <td>100.00</td>\n",
              "      <td>100.00</td>\n",
              "      <td>100.00</td>\n",
              "      <td>100.00</td>\n",
              "      <td>100.00</td>\n",
              "      <td>100.00</td>\n",
              "    </tr>\n",
              "    <tr>\n",
              "      <th>mean</th>\n",
              "      <td>55308199.72</td>\n",
              "      <td>10.47</td>\n",
              "      <td>48.18</td>\n",
              "      <td>51.64</td>\n",
              "      <td>51.41</td>\n",
              "      <td>52.74</td>\n",
              "      <td>52.10</td>\n",
              "      <td>54.49</td>\n",
              "    </tr>\n",
              "    <tr>\n",
              "      <th>std</th>\n",
              "      <td>27515885.43</td>\n",
              "      <td>1.13</td>\n",
              "      <td>29.68</td>\n",
              "      <td>29.10</td>\n",
              "      <td>28.25</td>\n",
              "      <td>29.54</td>\n",
              "      <td>27.89</td>\n",
              "      <td>28.38</td>\n",
              "    </tr>\n",
              "    <tr>\n",
              "      <th>min</th>\n",
              "      <td>840574.00</td>\n",
              "      <td>9.00</td>\n",
              "      <td>1.00</td>\n",
              "      <td>1.00</td>\n",
              "      <td>1.00</td>\n",
              "      <td>1.00</td>\n",
              "      <td>2.00</td>\n",
              "      <td>2.00</td>\n",
              "    </tr>\n",
              "    <tr>\n",
              "      <th>25%</th>\n",
              "      <td>35517339.25</td>\n",
              "      <td>9.00</td>\n",
              "      <td>21.75</td>\n",
              "      <td>24.00</td>\n",
              "      <td>27.00</td>\n",
              "      <td>29.00</td>\n",
              "      <td>26.00</td>\n",
              "      <td>28.75</td>\n",
              "    </tr>\n",
              "    <tr>\n",
              "      <th>50%</th>\n",
              "      <td>57157619.00</td>\n",
              "      <td>10.50</td>\n",
              "      <td>47.50</td>\n",
              "      <td>51.50</td>\n",
              "      <td>47.50</td>\n",
              "      <td>49.00</td>\n",
              "      <td>58.00</td>\n",
              "      <td>55.50</td>\n",
              "    </tr>\n",
              "    <tr>\n",
              "      <th>75%</th>\n",
              "      <td>80070324.00</td>\n",
              "      <td>11.00</td>\n",
              "      <td>71.50</td>\n",
              "      <td>75.50</td>\n",
              "      <td>73.25</td>\n",
              "      <td>80.25</td>\n",
              "      <td>76.00</td>\n",
              "      <td>78.00</td>\n",
              "    </tr>\n",
              "    <tr>\n",
              "      <th>max</th>\n",
              "      <td>98668014.00</td>\n",
              "      <td>12.00</td>\n",
              "      <td>100.00</td>\n",
              "      <td>99.00</td>\n",
              "      <td>100.00</td>\n",
              "      <td>100.00</td>\n",
              "      <td>98.00</td>\n",
              "      <td>99.00</td>\n",
              "    </tr>\n",
              "  </tbody>\n",
              "</table>\n",
              "</div>"
            ],
            "text/plain": [
              "                ID   Grade      HW  Test-1  Test-2  Test-3  Test-4   Final\n",
              "count       100.00  100.00  100.00  100.00  100.00  100.00  100.00  100.00\n",
              "mean   55308199.72   10.47   48.18   51.64   51.41   52.74   52.10   54.49\n",
              "std    27515885.43    1.13   29.68   29.10   28.25   29.54   27.89   28.38\n",
              "min      840574.00    9.00    1.00    1.00    1.00    1.00    2.00    2.00\n",
              "25%    35517339.25    9.00   21.75   24.00   27.00   29.00   26.00   28.75\n",
              "50%    57157619.00   10.50   47.50   51.50   47.50   49.00   58.00   55.50\n",
              "75%    80070324.00   11.00   71.50   75.50   73.25   80.25   76.00   78.00\n",
              "max    98668014.00   12.00  100.00   99.00  100.00  100.00   98.00   99.00"
            ]
          },
          "metadata": {
            "tags": []
          },
          "execution_count": 154
        }
      ]
    },
    {
      "cell_type": "markdown",
      "metadata": {
        "id": "SyJr0YX6_Pit"
      },
      "source": [
        "## Value Counts\n",
        "- counts of values"
      ]
    },
    {
      "cell_type": "code",
      "metadata": {
        "colab": {
          "base_uri": "https://localhost:8080/"
        },
        "id": "RsxOjUZT_B48",
        "outputId": "10cc3780-8e55-4288-e361-fe56212a894a"
      },
      "source": [
        "# gender\n",
        "df_grades['Gender'].value_counts()"
      ],
      "execution_count": null,
      "outputs": [
        {
          "output_type": "execute_result",
          "data": {
            "text/plain": [
              "M    54\n",
              "F    46\n",
              "Name: Gender, dtype: int64"
            ]
          },
          "metadata": {
            "tags": []
          },
          "execution_count": 158
        }
      ]
    },
    {
      "cell_type": "code",
      "metadata": {
        "id": "AB2CopgNHmam"
      },
      "source": [
        "# grade\n",
        "df_grades['Grade'].value_counts()"
      ],
      "execution_count": null,
      "outputs": []
    },
    {
      "cell_type": "markdown",
      "metadata": {
        "id": "gmIWQdQeveeG"
      },
      "source": [
        "## index"
      ]
    },
    {
      "cell_type": "code",
      "metadata": {
        "colab": {
          "base_uri": "https://localhost:8080/"
        },
        "id": "_njxDXX3s6iw",
        "outputId": "579e696c-e46b-4d3f-8813-a9ef8fbc75ae"
      },
      "source": [
        "# index\n",
        "df_grades.index"
      ],
      "execution_count": null,
      "outputs": [
        {
          "output_type": "execute_result",
          "data": {
            "text/plain": [
              "RangeIndex(start=0, stop=100, step=1)"
            ]
          },
          "metadata": {
            "tags": []
          },
          "execution_count": 42
        }
      ]
    },
    {
      "cell_type": "markdown",
      "metadata": {
        "id": "OaE88iq-vlON"
      },
      "source": [
        "## column"
      ]
    },
    {
      "cell_type": "code",
      "metadata": {
        "colab": {
          "base_uri": "https://localhost:8080/"
        },
        "id": "CByauJyFvh-s",
        "outputId": "227b965f-bda0-40f9-a202-e2c4183bb493"
      },
      "source": [
        "# columns\n",
        "df_grades.columns"
      ],
      "execution_count": null,
      "outputs": [
        {
          "output_type": "execute_result",
          "data": {
            "text/plain": [
              "Index(['Name', 'ID', 'Grade', 'Gender', 'HW', 'Test-1', 'Test-2', 'Test-3',\n",
              "       'Test-4', 'Final'],\n",
              "      dtype='object')"
            ]
          },
          "metadata": {
            "tags": []
          },
          "execution_count": 41
        }
      ]
    },
    {
      "cell_type": "markdown",
      "metadata": {
        "id": "HE3W1FbQvxLU"
      },
      "source": [
        "## Select a single column and values"
      ]
    },
    {
      "cell_type": "code",
      "metadata": {
        "colab": {
          "base_uri": "https://localhost:8080/"
        },
        "id": "ff4NmlM0vwDK",
        "outputId": "4dc0ec4a-5a28-46c2-96d7-f2485df0c593"
      },
      "source": [
        "# gender column\n",
        "df_grades['Gender']"
      ],
      "execution_count": null,
      "outputs": [
        {
          "output_type": "execute_result",
          "data": {
            "text/plain": [
              "0     M\n",
              "1     F\n",
              "2     M\n",
              "3     M\n",
              "4     M\n",
              "     ..\n",
              "95    M\n",
              "96    F\n",
              "97    F\n",
              "98    M\n",
              "99    M\n",
              "Name: Gender, Length: 100, dtype: object"
            ]
          },
          "metadata": {
            "tags": []
          },
          "execution_count": 40
        }
      ]
    },
    {
      "cell_type": "code",
      "metadata": {
        "id": "CnXAbeuEIKq1"
      },
      "source": [
        "df_grades['Test-1'].values"
      ],
      "execution_count": null,
      "outputs": []
    },
    {
      "cell_type": "markdown",
      "metadata": {
        "id": "H9X8lX94wSma"
      },
      "source": [
        "## Indexing\n",
        "- iloc[row index, column index]  \n",
        "- loc[row label, column label]"
      ]
    },
    {
      "cell_type": "code",
      "metadata": {
        "colab": {
          "base_uri": "https://localhost:8080/",
          "height": 138
        },
        "id": "N1g3ka4rwR9V",
        "outputId": "7fcb9b07-ae1f-4c4e-f520-e8de002b8577"
      },
      "source": [
        "# df_state_height_dic2\n",
        "df_state_height_dic2"
      ],
      "execution_count": null,
      "outputs": [
        {
          "output_type": "execute_result",
          "data": {
            "text/html": [
              "<div>\n",
              "<style scoped>\n",
              "    .dataframe tbody tr th:only-of-type {\n",
              "        vertical-align: middle;\n",
              "    }\n",
              "\n",
              "    .dataframe tbody tr th {\n",
              "        vertical-align: top;\n",
              "    }\n",
              "\n",
              "    .dataframe thead th {\n",
              "        text-align: right;\n",
              "    }\n",
              "</style>\n",
              "<table border=\"1\" class=\"dataframe\">\n",
              "  <thead>\n",
              "    <tr style=\"text-align: right;\">\n",
              "      <th></th>\n",
              "      <th>State</th>\n",
              "      <th>Height</th>\n",
              "    </tr>\n",
              "  </thead>\n",
              "  <tbody>\n",
              "    <tr>\n",
              "      <th>Tom</th>\n",
              "      <td>NY</td>\n",
              "      <td>160</td>\n",
              "    </tr>\n",
              "    <tr>\n",
              "      <th>Liz</th>\n",
              "      <td>OK</td>\n",
              "      <td>180</td>\n",
              "    </tr>\n",
              "    <tr>\n",
              "      <th>John</th>\n",
              "      <td>TX</td>\n",
              "      <td>140</td>\n",
              "    </tr>\n",
              "  </tbody>\n",
              "</table>\n",
              "</div>"
            ],
            "text/plain": [
              "     State  Height\n",
              "Tom     NY     160\n",
              "Liz     OK     180\n",
              "John    TX     140"
            ]
          },
          "metadata": {
            "tags": []
          },
          "execution_count": 45
        }
      ]
    },
    {
      "cell_type": "code",
      "metadata": {
        "colab": {
          "base_uri": "https://localhost:8080/"
        },
        "id": "BSnukDk0vpKG",
        "outputId": "56715c31-6837-44f0-b7c0-92764071a619"
      },
      "source": [
        "# loc['John','Height']\n",
        "df_state_height_dic2.loc['John','Height']"
      ],
      "execution_count": null,
      "outputs": [
        {
          "output_type": "execute_result",
          "data": {
            "text/plain": [
              "140"
            ]
          },
          "metadata": {
            "tags": []
          },
          "execution_count": 46
        }
      ]
    },
    {
      "cell_type": "code",
      "metadata": {
        "colab": {
          "base_uri": "https://localhost:8080/"
        },
        "id": "H560PDMNw0rq",
        "outputId": "e7c8a387-5fc7-449f-fc83-09d69ab90be3"
      },
      "source": [
        "# iloc\n",
        "df_state_height_dic2.iloc[2,1]"
      ],
      "execution_count": null,
      "outputs": [
        {
          "output_type": "execute_result",
          "data": {
            "text/plain": [
              "140"
            ]
          },
          "metadata": {
            "tags": []
          },
          "execution_count": 48
        }
      ]
    },
    {
      "cell_type": "markdown",
      "metadata": {
        "id": "uy66bk7GyQyc"
      },
      "source": [
        "## FIltering"
      ]
    },
    {
      "cell_type": "code",
      "metadata": {
        "colab": {
          "base_uri": "https://localhost:8080/",
          "height": 710
        },
        "id": "t2Fw3Zd8yPn1",
        "outputId": "51801024-9808-4c70-a0f8-7cc07010c3ef"
      },
      "source": [
        "# test1>80\n",
        "df_grades[df_grades['Test-1']>80]"
      ],
      "execution_count": null,
      "outputs": [
        {
          "output_type": "execute_result",
          "data": {
            "text/html": [
              "<div>\n",
              "<style scoped>\n",
              "    .dataframe tbody tr th:only-of-type {\n",
              "        vertical-align: middle;\n",
              "    }\n",
              "\n",
              "    .dataframe tbody tr th {\n",
              "        vertical-align: top;\n",
              "    }\n",
              "\n",
              "    .dataframe thead th {\n",
              "        text-align: right;\n",
              "    }\n",
              "</style>\n",
              "<table border=\"1\" class=\"dataframe\">\n",
              "  <thead>\n",
              "    <tr style=\"text-align: right;\">\n",
              "      <th></th>\n",
              "      <th>Name</th>\n",
              "      <th>ID</th>\n",
              "      <th>Grade</th>\n",
              "      <th>Gender</th>\n",
              "      <th>HW</th>\n",
              "      <th>Test-1</th>\n",
              "      <th>Test-2</th>\n",
              "      <th>Test-3</th>\n",
              "      <th>Test-4</th>\n",
              "      <th>Final</th>\n",
              "      <th>T1+T2</th>\n",
              "    </tr>\n",
              "  </thead>\n",
              "  <tbody>\n",
              "    <tr>\n",
              "      <th>0</th>\n",
              "      <td>mqtvy</td>\n",
              "      <td>37047871</td>\n",
              "      <td>10</td>\n",
              "      <td>M</td>\n",
              "      <td>30</td>\n",
              "      <td>91</td>\n",
              "      <td>69</td>\n",
              "      <td>93</td>\n",
              "      <td>17</td>\n",
              "      <td>50</td>\n",
              "      <td>160</td>\n",
              "    </tr>\n",
              "    <tr>\n",
              "      <th>2</th>\n",
              "      <td>mrvab</td>\n",
              "      <td>35543247</td>\n",
              "      <td>11</td>\n",
              "      <td>M</td>\n",
              "      <td>78</td>\n",
              "      <td>92</td>\n",
              "      <td>60</td>\n",
              "      <td>43</td>\n",
              "      <td>34</td>\n",
              "      <td>26</td>\n",
              "      <td>152</td>\n",
              "    </tr>\n",
              "    <tr>\n",
              "      <th>6</th>\n",
              "      <td>ylskw</td>\n",
              "      <td>37901138</td>\n",
              "      <td>9</td>\n",
              "      <td>M</td>\n",
              "      <td>53</td>\n",
              "      <td>85</td>\n",
              "      <td>61</td>\n",
              "      <td>87</td>\n",
              "      <td>9</td>\n",
              "      <td>94</td>\n",
              "      <td>146</td>\n",
              "    </tr>\n",
              "    <tr>\n",
              "      <th>9</th>\n",
              "      <td>iyhzx</td>\n",
              "      <td>840574</td>\n",
              "      <td>11</td>\n",
              "      <td>M</td>\n",
              "      <td>91</td>\n",
              "      <td>89</td>\n",
              "      <td>37</td>\n",
              "      <td>93</td>\n",
              "      <td>96</td>\n",
              "      <td>28</td>\n",
              "      <td>126</td>\n",
              "    </tr>\n",
              "    <tr>\n",
              "      <th>16</th>\n",
              "      <td>abqln</td>\n",
              "      <td>59927557</td>\n",
              "      <td>11</td>\n",
              "      <td>F</td>\n",
              "      <td>26</td>\n",
              "      <td>97</td>\n",
              "      <td>100</td>\n",
              "      <td>46</td>\n",
              "      <td>94</td>\n",
              "      <td>78</td>\n",
              "      <td>197</td>\n",
              "    </tr>\n",
              "    <tr>\n",
              "      <th>17</th>\n",
              "      <td>pwaiz</td>\n",
              "      <td>78776734</td>\n",
              "      <td>10</td>\n",
              "      <td>M</td>\n",
              "      <td>54</td>\n",
              "      <td>91</td>\n",
              "      <td>34</td>\n",
              "      <td>37</td>\n",
              "      <td>22</td>\n",
              "      <td>41</td>\n",
              "      <td>125</td>\n",
              "    </tr>\n",
              "    <tr>\n",
              "      <th>23</th>\n",
              "      <td>qlvcp</td>\n",
              "      <td>86262124</td>\n",
              "      <td>11</td>\n",
              "      <td>F</td>\n",
              "      <td>52</td>\n",
              "      <td>93</td>\n",
              "      <td>32</td>\n",
              "      <td>86</td>\n",
              "      <td>58</td>\n",
              "      <td>30</td>\n",
              "      <td>125</td>\n",
              "    </tr>\n",
              "    <tr>\n",
              "      <th>29</th>\n",
              "      <td>htboh</td>\n",
              "      <td>16544350</td>\n",
              "      <td>10</td>\n",
              "      <td>M</td>\n",
              "      <td>22</td>\n",
              "      <td>93</td>\n",
              "      <td>35</td>\n",
              "      <td>42</td>\n",
              "      <td>12</td>\n",
              "      <td>99</td>\n",
              "      <td>128</td>\n",
              "    </tr>\n",
              "    <tr>\n",
              "      <th>33</th>\n",
              "      <td>mjhrm</td>\n",
              "      <td>14928207</td>\n",
              "      <td>9</td>\n",
              "      <td>F</td>\n",
              "      <td>42</td>\n",
              "      <td>89</td>\n",
              "      <td>74</td>\n",
              "      <td>69</td>\n",
              "      <td>6</td>\n",
              "      <td>45</td>\n",
              "      <td>163</td>\n",
              "    </tr>\n",
              "    <tr>\n",
              "      <th>45</th>\n",
              "      <td>wmprn</td>\n",
              "      <td>87253938</td>\n",
              "      <td>12</td>\n",
              "      <td>F</td>\n",
              "      <td>60</td>\n",
              "      <td>92</td>\n",
              "      <td>22</td>\n",
              "      <td>23</td>\n",
              "      <td>76</td>\n",
              "      <td>54</td>\n",
              "      <td>114</td>\n",
              "    </tr>\n",
              "    <tr>\n",
              "      <th>49</th>\n",
              "      <td>amadn</td>\n",
              "      <td>91219544</td>\n",
              "      <td>10</td>\n",
              "      <td>M</td>\n",
              "      <td>86</td>\n",
              "      <td>97</td>\n",
              "      <td>39</td>\n",
              "      <td>55</td>\n",
              "      <td>94</td>\n",
              "      <td>91</td>\n",
              "      <td>136</td>\n",
              "    </tr>\n",
              "    <tr>\n",
              "      <th>50</th>\n",
              "      <td>yxofd</td>\n",
              "      <td>59973913</td>\n",
              "      <td>9</td>\n",
              "      <td>M</td>\n",
              "      <td>38</td>\n",
              "      <td>81</td>\n",
              "      <td>18</td>\n",
              "      <td>47</td>\n",
              "      <td>76</td>\n",
              "      <td>64</td>\n",
              "      <td>99</td>\n",
              "    </tr>\n",
              "    <tr>\n",
              "      <th>52</th>\n",
              "      <td>zbenx</td>\n",
              "      <td>44447673</td>\n",
              "      <td>10</td>\n",
              "      <td>M</td>\n",
              "      <td>96</td>\n",
              "      <td>99</td>\n",
              "      <td>18</td>\n",
              "      <td>87</td>\n",
              "      <td>78</td>\n",
              "      <td>29</td>\n",
              "      <td>117</td>\n",
              "    </tr>\n",
              "    <tr>\n",
              "      <th>62</th>\n",
              "      <td>mwsqn</td>\n",
              "      <td>85824590</td>\n",
              "      <td>11</td>\n",
              "      <td>M</td>\n",
              "      <td>89</td>\n",
              "      <td>95</td>\n",
              "      <td>4</td>\n",
              "      <td>34</td>\n",
              "      <td>94</td>\n",
              "      <td>21</td>\n",
              "      <td>99</td>\n",
              "    </tr>\n",
              "    <tr>\n",
              "      <th>63</th>\n",
              "      <td>gvnsl</td>\n",
              "      <td>50073515</td>\n",
              "      <td>10</td>\n",
              "      <td>F</td>\n",
              "      <td>19</td>\n",
              "      <td>84</td>\n",
              "      <td>93</td>\n",
              "      <td>76</td>\n",
              "      <td>45</td>\n",
              "      <td>58</td>\n",
              "      <td>177</td>\n",
              "    </tr>\n",
              "    <tr>\n",
              "      <th>64</th>\n",
              "      <td>bimjz</td>\n",
              "      <td>2308174</td>\n",
              "      <td>10</td>\n",
              "      <td>F</td>\n",
              "      <td>41</td>\n",
              "      <td>83</td>\n",
              "      <td>38</td>\n",
              "      <td>40</td>\n",
              "      <td>65</td>\n",
              "      <td>66</td>\n",
              "      <td>121</td>\n",
              "    </tr>\n",
              "    <tr>\n",
              "      <th>67</th>\n",
              "      <td>ngypi</td>\n",
              "      <td>60236619</td>\n",
              "      <td>10</td>\n",
              "      <td>F</td>\n",
              "      <td>38</td>\n",
              "      <td>87</td>\n",
              "      <td>65</td>\n",
              "      <td>74</td>\n",
              "      <td>22</td>\n",
              "      <td>10</td>\n",
              "      <td>152</td>\n",
              "    </tr>\n",
              "    <tr>\n",
              "      <th>72</th>\n",
              "      <td>zxcxp</td>\n",
              "      <td>20038421</td>\n",
              "      <td>12</td>\n",
              "      <td>M</td>\n",
              "      <td>93</td>\n",
              "      <td>96</td>\n",
              "      <td>65</td>\n",
              "      <td>6</td>\n",
              "      <td>73</td>\n",
              "      <td>17</td>\n",
              "      <td>161</td>\n",
              "    </tr>\n",
              "    <tr>\n",
              "      <th>76</th>\n",
              "      <td>wsczr</td>\n",
              "      <td>44430381</td>\n",
              "      <td>12</td>\n",
              "      <td>F</td>\n",
              "      <td>49</td>\n",
              "      <td>90</td>\n",
              "      <td>20</td>\n",
              "      <td>23</td>\n",
              "      <td>47</td>\n",
              "      <td>73</td>\n",
              "      <td>110</td>\n",
              "    </tr>\n",
              "    <tr>\n",
              "      <th>81</th>\n",
              "      <td>mndro</td>\n",
              "      <td>52386329</td>\n",
              "      <td>11</td>\n",
              "      <td>M</td>\n",
              "      <td>76</td>\n",
              "      <td>88</td>\n",
              "      <td>85</td>\n",
              "      <td>91</td>\n",
              "      <td>80</td>\n",
              "      <td>44</td>\n",
              "      <td>173</td>\n",
              "    </tr>\n",
              "    <tr>\n",
              "      <th>84</th>\n",
              "      <td>aymtf</td>\n",
              "      <td>54447042</td>\n",
              "      <td>11</td>\n",
              "      <td>M</td>\n",
              "      <td>36</td>\n",
              "      <td>97</td>\n",
              "      <td>15</td>\n",
              "      <td>33</td>\n",
              "      <td>48</td>\n",
              "      <td>42</td>\n",
              "      <td>112</td>\n",
              "    </tr>\n",
              "    <tr>\n",
              "      <th>89</th>\n",
              "      <td>rulxi</td>\n",
              "      <td>96116362</td>\n",
              "      <td>11</td>\n",
              "      <td>M</td>\n",
              "      <td>57</td>\n",
              "      <td>93</td>\n",
              "      <td>64</td>\n",
              "      <td>3</td>\n",
              "      <td>80</td>\n",
              "      <td>92</td>\n",
              "      <td>157</td>\n",
              "    </tr>\n",
              "  </tbody>\n",
              "</table>\n",
              "</div>"
            ],
            "text/plain": [
              "     Name        ID  Grade Gender  HW  ...  Test-2  Test-3  Test-4  Final  T1+T2\n",
              "0   mqtvy  37047871     10      M  30  ...      69      93      17     50    160\n",
              "2   mrvab  35543247     11      M  78  ...      60      43      34     26    152\n",
              "6   ylskw  37901138      9      M  53  ...      61      87       9     94    146\n",
              "9   iyhzx    840574     11      M  91  ...      37      93      96     28    126\n",
              "16  abqln  59927557     11      F  26  ...     100      46      94     78    197\n",
              "17  pwaiz  78776734     10      M  54  ...      34      37      22     41    125\n",
              "23  qlvcp  86262124     11      F  52  ...      32      86      58     30    125\n",
              "29  htboh  16544350     10      M  22  ...      35      42      12     99    128\n",
              "33  mjhrm  14928207      9      F  42  ...      74      69       6     45    163\n",
              "45  wmprn  87253938     12      F  60  ...      22      23      76     54    114\n",
              "49  amadn  91219544     10      M  86  ...      39      55      94     91    136\n",
              "50  yxofd  59973913      9      M  38  ...      18      47      76     64     99\n",
              "52  zbenx  44447673     10      M  96  ...      18      87      78     29    117\n",
              "62  mwsqn  85824590     11      M  89  ...       4      34      94     21     99\n",
              "63  gvnsl  50073515     10      F  19  ...      93      76      45     58    177\n",
              "64  bimjz   2308174     10      F  41  ...      38      40      65     66    121\n",
              "67  ngypi  60236619     10      F  38  ...      65      74      22     10    152\n",
              "72  zxcxp  20038421     12      M  93  ...      65       6      73     17    161\n",
              "76  wsczr  44430381     12      F  49  ...      20      23      47     73    110\n",
              "81  mndro  52386329     11      M  76  ...      85      91      80     44    173\n",
              "84  aymtf  54447042     11      M  36  ...      15      33      48     42    112\n",
              "89  rulxi  96116362     11      M  57  ...      64       3      80     92    157\n",
              "\n",
              "[22 rows x 11 columns]"
            ]
          },
          "metadata": {
            "tags": []
          },
          "execution_count": 55
        }
      ]
    },
    {
      "cell_type": "code",
      "metadata": {
        "colab": {
          "base_uri": "https://localhost:8080/"
        },
        "id": "BdrczF4WygS9",
        "outputId": "74fe1756-31a2-4dd6-af96-b23dbdca7207"
      },
      "source": [
        "# how many students\n",
        "len(df_grades[df_grades['Test-1']>80])"
      ],
      "execution_count": null,
      "outputs": [
        {
          "output_type": "execute_result",
          "data": {
            "text/plain": [
              "22"
            ]
          },
          "metadata": {
            "tags": []
          },
          "execution_count": 56
        }
      ]
    },
    {
      "cell_type": "code",
      "metadata": {
        "id": "jGQZdSLuKlL1"
      },
      "source": [
        "# use iloc\n",
        "df_grades.iloc[20:40,5:7]"
      ],
      "execution_count": null,
      "outputs": []
    },
    {
      "cell_type": "markdown",
      "metadata": {
        "id": "ZEVJURszxJUa"
      },
      "source": [
        "## Creating a new column"
      ]
    },
    {
      "cell_type": "code",
      "metadata": {
        "colab": {
          "base_uri": "https://localhost:8080/",
          "height": 138
        },
        "id": "sH4LRrcFw7FD",
        "outputId": "810854e5-9c4c-493e-a5c1-9bccc4269761"
      },
      "source": [
        "# weight column\n",
        "df_state_height_dic2['Weight'] = [50,60,70]\n",
        "df_state_height_dic2"
      ],
      "execution_count": null,
      "outputs": [
        {
          "output_type": "execute_result",
          "data": {
            "text/html": [
              "<div>\n",
              "<style scoped>\n",
              "    .dataframe tbody tr th:only-of-type {\n",
              "        vertical-align: middle;\n",
              "    }\n",
              "\n",
              "    .dataframe tbody tr th {\n",
              "        vertical-align: top;\n",
              "    }\n",
              "\n",
              "    .dataframe thead th {\n",
              "        text-align: right;\n",
              "    }\n",
              "</style>\n",
              "<table border=\"1\" class=\"dataframe\">\n",
              "  <thead>\n",
              "    <tr style=\"text-align: right;\">\n",
              "      <th></th>\n",
              "      <th>State</th>\n",
              "      <th>Height</th>\n",
              "      <th>Weight</th>\n",
              "    </tr>\n",
              "  </thead>\n",
              "  <tbody>\n",
              "    <tr>\n",
              "      <th>Tom</th>\n",
              "      <td>NY</td>\n",
              "      <td>160</td>\n",
              "      <td>50</td>\n",
              "    </tr>\n",
              "    <tr>\n",
              "      <th>Liz</th>\n",
              "      <td>OK</td>\n",
              "      <td>180</td>\n",
              "      <td>60</td>\n",
              "    </tr>\n",
              "    <tr>\n",
              "      <th>John</th>\n",
              "      <td>TX</td>\n",
              "      <td>140</td>\n",
              "      <td>70</td>\n",
              "    </tr>\n",
              "  </tbody>\n",
              "</table>\n",
              "</div>"
            ],
            "text/plain": [
              "     State  Height  Weight\n",
              "Tom     NY     160      50\n",
              "Liz     OK     180      60\n",
              "John    TX     140      70"
            ]
          },
          "metadata": {
            "tags": []
          },
          "execution_count": 85
        }
      ]
    },
    {
      "cell_type": "markdown",
      "metadata": {
        "id": "t46sdotVxvjt"
      },
      "source": [
        "## Operations on Columns"
      ]
    },
    {
      "cell_type": "code",
      "metadata": {
        "colab": {
          "base_uri": "https://localhost:8080/",
          "height": 198
        },
        "id": "nNza2RzTxXC0",
        "outputId": "62f4d7e1-d245-4dcc-c844-0e643287d2bc"
      },
      "source": [
        "# df_grades\n",
        "df_grades.head()"
      ],
      "execution_count": null,
      "outputs": [
        {
          "output_type": "execute_result",
          "data": {
            "text/html": [
              "<div>\n",
              "<style scoped>\n",
              "    .dataframe tbody tr th:only-of-type {\n",
              "        vertical-align: middle;\n",
              "    }\n",
              "\n",
              "    .dataframe tbody tr th {\n",
              "        vertical-align: top;\n",
              "    }\n",
              "\n",
              "    .dataframe thead th {\n",
              "        text-align: right;\n",
              "    }\n",
              "</style>\n",
              "<table border=\"1\" class=\"dataframe\">\n",
              "  <thead>\n",
              "    <tr style=\"text-align: right;\">\n",
              "      <th></th>\n",
              "      <th>Name</th>\n",
              "      <th>ID</th>\n",
              "      <th>Grade</th>\n",
              "      <th>Gender</th>\n",
              "      <th>HW</th>\n",
              "      <th>Test-1</th>\n",
              "      <th>Test-2</th>\n",
              "      <th>Test-3</th>\n",
              "      <th>Test-4</th>\n",
              "      <th>Final</th>\n",
              "    </tr>\n",
              "  </thead>\n",
              "  <tbody>\n",
              "    <tr>\n",
              "      <th>0</th>\n",
              "      <td>mqtvy</td>\n",
              "      <td>37047871</td>\n",
              "      <td>10</td>\n",
              "      <td>M</td>\n",
              "      <td>30</td>\n",
              "      <td>91</td>\n",
              "      <td>69</td>\n",
              "      <td>93</td>\n",
              "      <td>17</td>\n",
              "      <td>50</td>\n",
              "    </tr>\n",
              "    <tr>\n",
              "      <th>1</th>\n",
              "      <td>jbbsx</td>\n",
              "      <td>35439616</td>\n",
              "      <td>11</td>\n",
              "      <td>F</td>\n",
              "      <td>6</td>\n",
              "      <td>18</td>\n",
              "      <td>93</td>\n",
              "      <td>9</td>\n",
              "      <td>98</td>\n",
              "      <td>91</td>\n",
              "    </tr>\n",
              "    <tr>\n",
              "      <th>2</th>\n",
              "      <td>mrvab</td>\n",
              "      <td>35543247</td>\n",
              "      <td>11</td>\n",
              "      <td>M</td>\n",
              "      <td>78</td>\n",
              "      <td>92</td>\n",
              "      <td>60</td>\n",
              "      <td>43</td>\n",
              "      <td>34</td>\n",
              "      <td>26</td>\n",
              "    </tr>\n",
              "    <tr>\n",
              "      <th>3</th>\n",
              "      <td>bjyve</td>\n",
              "      <td>61282135</td>\n",
              "      <td>9</td>\n",
              "      <td>M</td>\n",
              "      <td>60</td>\n",
              "      <td>8</td>\n",
              "      <td>10</td>\n",
              "      <td>99</td>\n",
              "      <td>80</td>\n",
              "      <td>87</td>\n",
              "    </tr>\n",
              "    <tr>\n",
              "      <th>4</th>\n",
              "      <td>rlpsr</td>\n",
              "      <td>53448034</td>\n",
              "      <td>10</td>\n",
              "      <td>M</td>\n",
              "      <td>3</td>\n",
              "      <td>38</td>\n",
              "      <td>45</td>\n",
              "      <td>43</td>\n",
              "      <td>79</td>\n",
              "      <td>69</td>\n",
              "    </tr>\n",
              "  </tbody>\n",
              "</table>\n",
              "</div>"
            ],
            "text/plain": [
              "    Name        ID  Grade Gender  HW  Test-1  Test-2  Test-3  Test-4  Final\n",
              "0  mqtvy  37047871     10      M  30      91      69      93      17     50\n",
              "1  jbbsx  35439616     11      F   6      18      93       9      98     91\n",
              "2  mrvab  35543247     11      M  78      92      60      43      34     26\n",
              "3  bjyve  61282135      9      M  60       8      10      99      80     87\n",
              "4  rlpsr  53448034     10      M   3      38      45      43      79     69"
            ]
          },
          "metadata": {
            "tags": []
          },
          "execution_count": 86
        }
      ]
    },
    {
      "cell_type": "code",
      "metadata": {
        "colab": {
          "base_uri": "https://localhost:8080/",
          "height": 198
        },
        "id": "-7LBpFWexxkd",
        "outputId": "d08839b1-1dff-4410-bc7c-5977c0e144db"
      },
      "source": [
        "# test1+test2\n",
        "df_grades['T1+T2'] = df_grades['Test-1'] + df_grades['Test-2']\n",
        "df_grades.head()"
      ],
      "execution_count": null,
      "outputs": [
        {
          "output_type": "execute_result",
          "data": {
            "text/html": [
              "<div>\n",
              "<style scoped>\n",
              "    .dataframe tbody tr th:only-of-type {\n",
              "        vertical-align: middle;\n",
              "    }\n",
              "\n",
              "    .dataframe tbody tr th {\n",
              "        vertical-align: top;\n",
              "    }\n",
              "\n",
              "    .dataframe thead th {\n",
              "        text-align: right;\n",
              "    }\n",
              "</style>\n",
              "<table border=\"1\" class=\"dataframe\">\n",
              "  <thead>\n",
              "    <tr style=\"text-align: right;\">\n",
              "      <th></th>\n",
              "      <th>Name</th>\n",
              "      <th>ID</th>\n",
              "      <th>Grade</th>\n",
              "      <th>Gender</th>\n",
              "      <th>HW</th>\n",
              "      <th>Test-1</th>\n",
              "      <th>Test-2</th>\n",
              "      <th>Test-3</th>\n",
              "      <th>Test-4</th>\n",
              "      <th>Final</th>\n",
              "      <th>T1+T2</th>\n",
              "    </tr>\n",
              "  </thead>\n",
              "  <tbody>\n",
              "    <tr>\n",
              "      <th>0</th>\n",
              "      <td>mqtvy</td>\n",
              "      <td>37047871</td>\n",
              "      <td>10</td>\n",
              "      <td>M</td>\n",
              "      <td>30</td>\n",
              "      <td>91</td>\n",
              "      <td>69</td>\n",
              "      <td>93</td>\n",
              "      <td>17</td>\n",
              "      <td>50</td>\n",
              "      <td>160</td>\n",
              "    </tr>\n",
              "    <tr>\n",
              "      <th>1</th>\n",
              "      <td>jbbsx</td>\n",
              "      <td>35439616</td>\n",
              "      <td>11</td>\n",
              "      <td>F</td>\n",
              "      <td>6</td>\n",
              "      <td>18</td>\n",
              "      <td>93</td>\n",
              "      <td>9</td>\n",
              "      <td>98</td>\n",
              "      <td>91</td>\n",
              "      <td>111</td>\n",
              "    </tr>\n",
              "    <tr>\n",
              "      <th>2</th>\n",
              "      <td>mrvab</td>\n",
              "      <td>35543247</td>\n",
              "      <td>11</td>\n",
              "      <td>M</td>\n",
              "      <td>78</td>\n",
              "      <td>92</td>\n",
              "      <td>60</td>\n",
              "      <td>43</td>\n",
              "      <td>34</td>\n",
              "      <td>26</td>\n",
              "      <td>152</td>\n",
              "    </tr>\n",
              "    <tr>\n",
              "      <th>3</th>\n",
              "      <td>bjyve</td>\n",
              "      <td>61282135</td>\n",
              "      <td>9</td>\n",
              "      <td>M</td>\n",
              "      <td>60</td>\n",
              "      <td>8</td>\n",
              "      <td>10</td>\n",
              "      <td>99</td>\n",
              "      <td>80</td>\n",
              "      <td>87</td>\n",
              "      <td>18</td>\n",
              "    </tr>\n",
              "    <tr>\n",
              "      <th>4</th>\n",
              "      <td>rlpsr</td>\n",
              "      <td>53448034</td>\n",
              "      <td>10</td>\n",
              "      <td>M</td>\n",
              "      <td>3</td>\n",
              "      <td>38</td>\n",
              "      <td>45</td>\n",
              "      <td>43</td>\n",
              "      <td>79</td>\n",
              "      <td>69</td>\n",
              "      <td>83</td>\n",
              "    </tr>\n",
              "  </tbody>\n",
              "</table>\n",
              "</div>"
            ],
            "text/plain": [
              "    Name        ID  Grade Gender  HW  ...  Test-2  Test-3  Test-4  Final  T1+T2\n",
              "0  mqtvy  37047871     10      M  30  ...      69      93      17     50    160\n",
              "1  jbbsx  35439616     11      F   6  ...      93       9      98     91    111\n",
              "2  mrvab  35543247     11      M  78  ...      60      43      34     26    152\n",
              "3  bjyve  61282135      9      M  60  ...      10      99      80     87     18\n",
              "4  rlpsr  53448034     10      M   3  ...      45      43      79     69     83\n",
              "\n",
              "[5 rows x 11 columns]"
            ]
          },
          "metadata": {
            "tags": []
          },
          "execution_count": 90
        }
      ]
    },
    {
      "cell_type": "markdown",
      "metadata": {
        "id": "5bAJlrgy4FgA"
      },
      "source": [
        "## Drop a column"
      ]
    },
    {
      "cell_type": "code",
      "metadata": {
        "colab": {
          "base_uri": "https://localhost:8080/",
          "height": 198
        },
        "id": "RDSc62Ms4EG5",
        "outputId": "ff74a5de-2028-412f-f586-ffb6ad8d6f80"
      },
      "source": [
        "# drop T1+T2\n",
        "df_grades.drop('T1+T2', axis=1, inplace=True)\n",
        "df_grades.head()"
      ],
      "execution_count": null,
      "outputs": [
        {
          "output_type": "execute_result",
          "data": {
            "text/html": [
              "<div>\n",
              "<style scoped>\n",
              "    .dataframe tbody tr th:only-of-type {\n",
              "        vertical-align: middle;\n",
              "    }\n",
              "\n",
              "    .dataframe tbody tr th {\n",
              "        vertical-align: top;\n",
              "    }\n",
              "\n",
              "    .dataframe thead th {\n",
              "        text-align: right;\n",
              "    }\n",
              "</style>\n",
              "<table border=\"1\" class=\"dataframe\">\n",
              "  <thead>\n",
              "    <tr style=\"text-align: right;\">\n",
              "      <th></th>\n",
              "      <th>Name</th>\n",
              "      <th>ID</th>\n",
              "      <th>Grade</th>\n",
              "      <th>Gender</th>\n",
              "      <th>HW</th>\n",
              "      <th>Test-1</th>\n",
              "      <th>Test-2</th>\n",
              "      <th>Test-3</th>\n",
              "      <th>Test-4</th>\n",
              "      <th>Final</th>\n",
              "    </tr>\n",
              "  </thead>\n",
              "  <tbody>\n",
              "    <tr>\n",
              "      <th>0</th>\n",
              "      <td>mqtvy</td>\n",
              "      <td>37047871</td>\n",
              "      <td>10</td>\n",
              "      <td>M</td>\n",
              "      <td>30</td>\n",
              "      <td>91</td>\n",
              "      <td>69</td>\n",
              "      <td>93</td>\n",
              "      <td>17</td>\n",
              "      <td>50</td>\n",
              "    </tr>\n",
              "    <tr>\n",
              "      <th>1</th>\n",
              "      <td>jbbsx</td>\n",
              "      <td>35439616</td>\n",
              "      <td>11</td>\n",
              "      <td>F</td>\n",
              "      <td>6</td>\n",
              "      <td>18</td>\n",
              "      <td>93</td>\n",
              "      <td>9</td>\n",
              "      <td>98</td>\n",
              "      <td>91</td>\n",
              "    </tr>\n",
              "    <tr>\n",
              "      <th>2</th>\n",
              "      <td>mrvab</td>\n",
              "      <td>35543247</td>\n",
              "      <td>11</td>\n",
              "      <td>M</td>\n",
              "      <td>78</td>\n",
              "      <td>92</td>\n",
              "      <td>60</td>\n",
              "      <td>43</td>\n",
              "      <td>34</td>\n",
              "      <td>26</td>\n",
              "    </tr>\n",
              "    <tr>\n",
              "      <th>3</th>\n",
              "      <td>bjyve</td>\n",
              "      <td>61282135</td>\n",
              "      <td>9</td>\n",
              "      <td>M</td>\n",
              "      <td>60</td>\n",
              "      <td>8</td>\n",
              "      <td>10</td>\n",
              "      <td>99</td>\n",
              "      <td>80</td>\n",
              "      <td>87</td>\n",
              "    </tr>\n",
              "    <tr>\n",
              "      <th>4</th>\n",
              "      <td>rlpsr</td>\n",
              "      <td>53448034</td>\n",
              "      <td>10</td>\n",
              "      <td>M</td>\n",
              "      <td>3</td>\n",
              "      <td>38</td>\n",
              "      <td>45</td>\n",
              "      <td>43</td>\n",
              "      <td>79</td>\n",
              "      <td>69</td>\n",
              "    </tr>\n",
              "  </tbody>\n",
              "</table>\n",
              "</div>"
            ],
            "text/plain": [
              "    Name        ID  Grade Gender  HW  Test-1  Test-2  Test-3  Test-4  Final\n",
              "0  mqtvy  37047871     10      M  30      91      69      93      17     50\n",
              "1  jbbsx  35439616     11      F   6      18      93       9      98     91\n",
              "2  mrvab  35543247     11      M  78      92      60      43      34     26\n",
              "3  bjyve  61282135      9      M  60       8      10      99      80     87\n",
              "4  rlpsr  53448034     10      M   3      38      45      43      79     69"
            ]
          },
          "metadata": {
            "tags": []
          },
          "execution_count": 91
        }
      ]
    },
    {
      "cell_type": "markdown",
      "metadata": {
        "id": "GbJPx__d1r7r"
      },
      "source": [
        "## sum()\n",
        "- mean() is similar"
      ]
    },
    {
      "cell_type": "code",
      "metadata": {
        "colab": {
          "base_uri": "https://localhost:8080/"
        },
        "id": "JFFbaZPe1p7v",
        "outputId": "86fc088e-9507-4571-ba00-c705ba76f8c2"
      },
      "source": [
        "## column sum\n",
        "df_grades.sum()"
      ],
      "execution_count": null,
      "outputs": [
        {
          "output_type": "execute_result",
          "data": {
            "text/plain": [
              "Name      mqtvyjbbsxmrvabbjyverlpsrhotxqylskwcuepifmrdji...\n",
              "ID                                               5530819972\n",
              "Grade                                                  1047\n",
              "Gender    MFMMMFMMFMMFFMMFFMMMFFMFMFFFMMFMFFMMMFFMFFMMFF...\n",
              "HW                                                     4818\n",
              "Test-1                                                 5164\n",
              "Test-2                                                 5141\n",
              "Test-3                                                 5274\n",
              "Test-4                                                 5210\n",
              "Final                                                  5449\n",
              "T1+T2                                                 10305\n",
              "dtype: object"
            ]
          },
          "metadata": {
            "tags": []
          },
          "execution_count": 65
        }
      ]
    },
    {
      "cell_type": "code",
      "metadata": {
        "colab": {
          "base_uri": "https://localhost:8080/"
        },
        "id": "ObBIUOcF2SlN",
        "outputId": "35cb62dd-f446-422b-f36e-f07853d376c1"
      },
      "source": [
        "## row sum\n",
        "df_grades.sum(1)"
      ],
      "execution_count": null,
      "outputs": [
        {
          "output_type": "execute_result",
          "data": {
            "text/plain": [
              "0     37048391\n",
              "1     35440053\n",
              "2     35543743\n",
              "3     61282506\n",
              "4     53448404\n",
              "        ...   \n",
              "95    58332463\n",
              "96    10020315\n",
              "97    27967568\n",
              "98    36171955\n",
              "99    88783464\n",
              "Length: 100, dtype: int64"
            ]
          },
          "metadata": {
            "tags": []
          },
          "execution_count": 69
        }
      ]
    },
    {
      "cell_type": "code",
      "metadata": {
        "id": "UxwXjldCNArj"
      },
      "source": [
        "# sum of tests\n",
        "df_grades.iloc[:,5:].sum(1)"
      ],
      "execution_count": null,
      "outputs": []
    },
    {
      "cell_type": "markdown",
      "metadata": {
        "id": "w02Wx1CE5_6a"
      },
      "source": [
        "## set_index()"
      ]
    },
    {
      "cell_type": "code",
      "metadata": {
        "colab": {
          "base_uri": "https://localhost:8080/",
          "height": 198
        },
        "id": "GJQQwNJK5_SR",
        "outputId": "36c60720-cada-4f8b-89e4-3858b1134025"
      },
      "source": [
        "# df_courses\n",
        "df_grades.head()"
      ],
      "execution_count": null,
      "outputs": [
        {
          "output_type": "execute_result",
          "data": {
            "text/html": [
              "<div>\n",
              "<style scoped>\n",
              "    .dataframe tbody tr th:only-of-type {\n",
              "        vertical-align: middle;\n",
              "    }\n",
              "\n",
              "    .dataframe tbody tr th {\n",
              "        vertical-align: top;\n",
              "    }\n",
              "\n",
              "    .dataframe thead th {\n",
              "        text-align: right;\n",
              "    }\n",
              "</style>\n",
              "<table border=\"1\" class=\"dataframe\">\n",
              "  <thead>\n",
              "    <tr style=\"text-align: right;\">\n",
              "      <th></th>\n",
              "      <th>Name</th>\n",
              "      <th>ID</th>\n",
              "      <th>Grade</th>\n",
              "      <th>Gender</th>\n",
              "      <th>HW</th>\n",
              "      <th>Test-1</th>\n",
              "      <th>Test-2</th>\n",
              "      <th>Test-3</th>\n",
              "      <th>Test-4</th>\n",
              "      <th>Final</th>\n",
              "    </tr>\n",
              "  </thead>\n",
              "  <tbody>\n",
              "    <tr>\n",
              "      <th>0</th>\n",
              "      <td>mqtvy</td>\n",
              "      <td>37047871</td>\n",
              "      <td>10</td>\n",
              "      <td>M</td>\n",
              "      <td>30</td>\n",
              "      <td>91</td>\n",
              "      <td>69</td>\n",
              "      <td>93</td>\n",
              "      <td>17</td>\n",
              "      <td>50</td>\n",
              "    </tr>\n",
              "    <tr>\n",
              "      <th>1</th>\n",
              "      <td>jbbsx</td>\n",
              "      <td>35439616</td>\n",
              "      <td>11</td>\n",
              "      <td>F</td>\n",
              "      <td>6</td>\n",
              "      <td>18</td>\n",
              "      <td>93</td>\n",
              "      <td>9</td>\n",
              "      <td>98</td>\n",
              "      <td>91</td>\n",
              "    </tr>\n",
              "    <tr>\n",
              "      <th>2</th>\n",
              "      <td>mrvab</td>\n",
              "      <td>35543247</td>\n",
              "      <td>11</td>\n",
              "      <td>M</td>\n",
              "      <td>78</td>\n",
              "      <td>92</td>\n",
              "      <td>60</td>\n",
              "      <td>43</td>\n",
              "      <td>34</td>\n",
              "      <td>26</td>\n",
              "    </tr>\n",
              "    <tr>\n",
              "      <th>3</th>\n",
              "      <td>bjyve</td>\n",
              "      <td>61282135</td>\n",
              "      <td>9</td>\n",
              "      <td>M</td>\n",
              "      <td>60</td>\n",
              "      <td>8</td>\n",
              "      <td>10</td>\n",
              "      <td>99</td>\n",
              "      <td>80</td>\n",
              "      <td>87</td>\n",
              "    </tr>\n",
              "    <tr>\n",
              "      <th>4</th>\n",
              "      <td>rlpsr</td>\n",
              "      <td>53448034</td>\n",
              "      <td>10</td>\n",
              "      <td>M</td>\n",
              "      <td>3</td>\n",
              "      <td>38</td>\n",
              "      <td>45</td>\n",
              "      <td>43</td>\n",
              "      <td>79</td>\n",
              "      <td>69</td>\n",
              "    </tr>\n",
              "  </tbody>\n",
              "</table>\n",
              "</div>"
            ],
            "text/plain": [
              "    Name        ID  Grade Gender  HW  Test-1  Test-2  Test-3  Test-4  Final\n",
              "0  mqtvy  37047871     10      M  30      91      69      93      17     50\n",
              "1  jbbsx  35439616     11      F   6      18      93       9      98     91\n",
              "2  mrvab  35543247     11      M  78      92      60      43      34     26\n",
              "3  bjyve  61282135      9      M  60       8      10      99      80     87\n",
              "4  rlpsr  53448034     10      M   3      38      45      43      79     69"
            ]
          },
          "metadata": {
            "tags": []
          },
          "execution_count": 104
        }
      ]
    },
    {
      "cell_type": "code",
      "metadata": {
        "colab": {
          "base_uri": "https://localhost:8080/",
          "height": 228
        },
        "id": "pMbhFIJE6JFS",
        "outputId": "2f34afdb-1acd-4ff1-ff6b-d2a7ed9abd6c"
      },
      "source": [
        "# set_index name\n",
        "df_grades.set_index('Name', inplace=True)\n",
        "df_grades.head()"
      ],
      "execution_count": null,
      "outputs": [
        {
          "output_type": "execute_result",
          "data": {
            "text/html": [
              "<div>\n",
              "<style scoped>\n",
              "    .dataframe tbody tr th:only-of-type {\n",
              "        vertical-align: middle;\n",
              "    }\n",
              "\n",
              "    .dataframe tbody tr th {\n",
              "        vertical-align: top;\n",
              "    }\n",
              "\n",
              "    .dataframe thead th {\n",
              "        text-align: right;\n",
              "    }\n",
              "</style>\n",
              "<table border=\"1\" class=\"dataframe\">\n",
              "  <thead>\n",
              "    <tr style=\"text-align: right;\">\n",
              "      <th></th>\n",
              "      <th>ID</th>\n",
              "      <th>Grade</th>\n",
              "      <th>Gender</th>\n",
              "      <th>HW</th>\n",
              "      <th>Test-1</th>\n",
              "      <th>Test-2</th>\n",
              "      <th>Test-3</th>\n",
              "      <th>Test-4</th>\n",
              "      <th>Final</th>\n",
              "    </tr>\n",
              "    <tr>\n",
              "      <th>Name</th>\n",
              "      <th></th>\n",
              "      <th></th>\n",
              "      <th></th>\n",
              "      <th></th>\n",
              "      <th></th>\n",
              "      <th></th>\n",
              "      <th></th>\n",
              "      <th></th>\n",
              "      <th></th>\n",
              "    </tr>\n",
              "  </thead>\n",
              "  <tbody>\n",
              "    <tr>\n",
              "      <th>mqtvy</th>\n",
              "      <td>37047871</td>\n",
              "      <td>10</td>\n",
              "      <td>M</td>\n",
              "      <td>30</td>\n",
              "      <td>91</td>\n",
              "      <td>69</td>\n",
              "      <td>93</td>\n",
              "      <td>17</td>\n",
              "      <td>50</td>\n",
              "    </tr>\n",
              "    <tr>\n",
              "      <th>jbbsx</th>\n",
              "      <td>35439616</td>\n",
              "      <td>11</td>\n",
              "      <td>F</td>\n",
              "      <td>6</td>\n",
              "      <td>18</td>\n",
              "      <td>93</td>\n",
              "      <td>9</td>\n",
              "      <td>98</td>\n",
              "      <td>91</td>\n",
              "    </tr>\n",
              "    <tr>\n",
              "      <th>mrvab</th>\n",
              "      <td>35543247</td>\n",
              "      <td>11</td>\n",
              "      <td>M</td>\n",
              "      <td>78</td>\n",
              "      <td>92</td>\n",
              "      <td>60</td>\n",
              "      <td>43</td>\n",
              "      <td>34</td>\n",
              "      <td>26</td>\n",
              "    </tr>\n",
              "    <tr>\n",
              "      <th>bjyve</th>\n",
              "      <td>61282135</td>\n",
              "      <td>9</td>\n",
              "      <td>M</td>\n",
              "      <td>60</td>\n",
              "      <td>8</td>\n",
              "      <td>10</td>\n",
              "      <td>99</td>\n",
              "      <td>80</td>\n",
              "      <td>87</td>\n",
              "    </tr>\n",
              "    <tr>\n",
              "      <th>rlpsr</th>\n",
              "      <td>53448034</td>\n",
              "      <td>10</td>\n",
              "      <td>M</td>\n",
              "      <td>3</td>\n",
              "      <td>38</td>\n",
              "      <td>45</td>\n",
              "      <td>43</td>\n",
              "      <td>79</td>\n",
              "      <td>69</td>\n",
              "    </tr>\n",
              "  </tbody>\n",
              "</table>\n",
              "</div>"
            ],
            "text/plain": [
              "             ID  Grade Gender  HW  Test-1  Test-2  Test-3  Test-4  Final\n",
              "Name                                                                    \n",
              "mqtvy  37047871     10      M  30      91      69      93      17     50\n",
              "jbbsx  35439616     11      F   6      18      93       9      98     91\n",
              "mrvab  35543247     11      M  78      92      60      43      34     26\n",
              "bjyve  61282135      9      M  60       8      10      99      80     87\n",
              "rlpsr  53448034     10      M   3      38      45      43      79     69"
            ]
          },
          "metadata": {
            "tags": []
          },
          "execution_count": 106
        }
      ]
    },
    {
      "cell_type": "markdown",
      "metadata": {
        "id": "HbNS7SAlN51k"
      },
      "source": [
        "## Reset Index"
      ]
    },
    {
      "cell_type": "code",
      "metadata": {
        "id": "75tKrWEQN6Ka"
      },
      "source": [
        "df_grades.reset_index(drop=True)\n",
        "df_grades.head()"
      ],
      "execution_count": null,
      "outputs": []
    },
    {
      "cell_type": "markdown",
      "metadata": {
        "id": "OZ8o2SR5yvLh"
      },
      "source": [
        "## Iterations over rows"
      ]
    },
    {
      "cell_type": "code",
      "metadata": {
        "colab": {
          "base_uri": "https://localhost:8080/"
        },
        "id": "KEyMV1CiyFrk",
        "outputId": "4a3c0f20-d932-400e-c31d-96cb24652edd"
      },
      "source": [
        "# print names\n",
        "for i in range(len(df_grades)):\n",
        "  print(df_grades.iloc[i,0])"
      ],
      "execution_count": null,
      "outputs": [
        {
          "output_type": "stream",
          "text": [
            "mqtvy\n",
            "jbbsx\n",
            "mrvab\n",
            "bjyve\n",
            "rlpsr\n",
            "hotxq\n",
            "ylskw\n",
            "cuepi\n",
            "fmrdj\n",
            "iyhzx\n",
            "xktbg\n",
            "fxcef\n",
            "jjgag\n",
            "gohlm\n",
            "nwdnl\n",
            "assmv\n",
            "abqln\n",
            "pwaiz\n",
            "uzqqn\n",
            "cxkpb\n",
            "vrzmj\n",
            "clxut\n",
            "vwhzh\n",
            "qlvcp\n",
            "affft\n",
            "tkhtm\n",
            "mnegf\n",
            "revsb\n",
            "wwfid\n",
            "htboh\n",
            "ypmhc\n",
            "ptsec\n",
            "gpgvh\n",
            "mjhrm\n",
            "qrzff\n",
            "gauus\n",
            "hbkmj\n",
            "nraon\n",
            "xkrmv\n",
            "micxs\n",
            "ktokl\n",
            "xhpxv\n",
            "apiio\n",
            "etdql\n",
            "nbwni\n",
            "wmprn\n",
            "kxltb\n",
            "zryuo\n",
            "xavfj\n",
            "amadn\n",
            "yxofd\n",
            "tlwtm\n",
            "zbenx\n",
            "jgwhe\n",
            "waxbu\n",
            "pwnoq\n",
            "hnewl\n",
            "hodib\n",
            "rhjkj\n",
            "lvajb\n",
            "eunkr\n",
            "rulsy\n",
            "mwsqn\n",
            "gvnsl\n",
            "bimjz\n",
            "yxchm\n",
            "awwbv\n",
            "ngypi\n",
            "hsixh\n",
            "dnvky\n",
            "ycuoc\n",
            "ujnaz\n",
            "zxcxp\n",
            "dteoy\n",
            "xohww\n",
            "chwcq\n",
            "wsczr\n",
            "sxjia\n",
            "fupms\n",
            "jzmya\n",
            "baynr\n",
            "mndro\n",
            "nwfrg\n",
            "utrkp\n",
            "aymtf\n",
            "dljlb\n",
            "hxdju\n",
            "vejvl\n",
            "fxvdn\n",
            "rulxi\n",
            "wxtpu\n",
            "dvadf\n",
            "lagws\n",
            "yzljj\n",
            "jloze\n",
            "zxuaq\n",
            "vegye\n",
            "euwlj\n",
            "oesms\n",
            "buugr\n"
          ],
          "name": "stdout"
        }
      ]
    },
    {
      "cell_type": "code",
      "metadata": {
        "id": "Rm9WsSf_OirG"
      },
      "source": [
        "# print names with x in second character\n",
        "for i in range(len(df_grades)):\n",
        "  name = df_grades.iloc[i,0]\n",
        "  if name[1] == 'x':\n",
        "    print(name)"
      ],
      "execution_count": null,
      "outputs": []
    },
    {
      "cell_type": "markdown",
      "metadata": {
        "id": "DtCgYsLCz3gC"
      },
      "source": [
        "## Save a dataframe as an excel file"
      ]
    },
    {
      "cell_type": "code",
      "metadata": {
        "colab": {
          "base_uri": "https://localhost:8080/",
          "height": 138
        },
        "id": "tMbWAsEEzb6O",
        "outputId": "779476e6-d686-4ada-e9c9-cd8480680db6"
      },
      "source": [
        "# df_state_height_dic2\n",
        "df_state_height_dic2"
      ],
      "execution_count": null,
      "outputs": [
        {
          "output_type": "execute_result",
          "data": {
            "text/html": [
              "<div>\n",
              "<style scoped>\n",
              "    .dataframe tbody tr th:only-of-type {\n",
              "        vertical-align: middle;\n",
              "    }\n",
              "\n",
              "    .dataframe tbody tr th {\n",
              "        vertical-align: top;\n",
              "    }\n",
              "\n",
              "    .dataframe thead th {\n",
              "        text-align: right;\n",
              "    }\n",
              "</style>\n",
              "<table border=\"1\" class=\"dataframe\">\n",
              "  <thead>\n",
              "    <tr style=\"text-align: right;\">\n",
              "      <th></th>\n",
              "      <th>State</th>\n",
              "      <th>Height</th>\n",
              "      <th>Weight</th>\n",
              "    </tr>\n",
              "  </thead>\n",
              "  <tbody>\n",
              "    <tr>\n",
              "      <th>Tom</th>\n",
              "      <td>NY</td>\n",
              "      <td>160</td>\n",
              "      <td>50</td>\n",
              "    </tr>\n",
              "    <tr>\n",
              "      <th>Liz</th>\n",
              "      <td>OK</td>\n",
              "      <td>180</td>\n",
              "      <td>60</td>\n",
              "    </tr>\n",
              "    <tr>\n",
              "      <th>John</th>\n",
              "      <td>TX</td>\n",
              "      <td>140</td>\n",
              "      <td>70</td>\n",
              "    </tr>\n",
              "  </tbody>\n",
              "</table>\n",
              "</div>"
            ],
            "text/plain": [
              "     State  Height  Weight\n",
              "Tom     NY     160      50\n",
              "Liz     OK     180      60\n",
              "John    TX     140      70"
            ]
          },
          "metadata": {
            "tags": []
          },
          "execution_count": 59
        }
      ]
    },
    {
      "cell_type": "code",
      "metadata": {
        "id": "D_uhtRQm0A7-"
      },
      "source": [
        "# save\n",
        "df_state_height_dic2.to_excel('/content/drive/My Drive/ML_boothcamp_2022/lecture_notes/excel_files/state_height.xlsx')"
      ],
      "execution_count": null,
      "outputs": []
    },
    {
      "cell_type": "markdown",
      "source": [
        "## Concatenation"
      ],
      "metadata": {
        "id": "v5_GvtFW29yt"
      }
    },
    {
      "cell_type": "code",
      "source": [],
      "metadata": {
        "id": "uVMcjwH03R-a"
      },
      "execution_count": null,
      "outputs": []
    },
    {
      "cell_type": "code",
      "source": [
        "df1 = pd.DataFrame( [1,2,3], columns=['A'], index=['P1','P2','P3'])\n",
        "df1"
      ],
      "metadata": {
        "colab": {
          "base_uri": "https://localhost:8080/",
          "height": 143
        },
        "id": "P6RFh32p2zq-",
        "outputId": "84ab196f-3a73-4a07-88ba-9b211a09a969"
      },
      "execution_count": null,
      "outputs": [
        {
          "output_type": "execute_result",
          "data": {
            "text/plain": [
              "    A\n",
              "P1  1\n",
              "P2  2\n",
              "P3  3"
            ],
            "text/html": [
              "\n",
              "  <div id=\"df-69697eb7-b16e-4601-975f-983260a5c27c\" class=\"colab-df-container\">\n",
              "    <div>\n",
              "<style scoped>\n",
              "    .dataframe tbody tr th:only-of-type {\n",
              "        vertical-align: middle;\n",
              "    }\n",
              "\n",
              "    .dataframe tbody tr th {\n",
              "        vertical-align: top;\n",
              "    }\n",
              "\n",
              "    .dataframe thead th {\n",
              "        text-align: right;\n",
              "    }\n",
              "</style>\n",
              "<table border=\"1\" class=\"dataframe\">\n",
              "  <thead>\n",
              "    <tr style=\"text-align: right;\">\n",
              "      <th></th>\n",
              "      <th>A</th>\n",
              "    </tr>\n",
              "  </thead>\n",
              "  <tbody>\n",
              "    <tr>\n",
              "      <th>P1</th>\n",
              "      <td>1</td>\n",
              "    </tr>\n",
              "    <tr>\n",
              "      <th>P2</th>\n",
              "      <td>2</td>\n",
              "    </tr>\n",
              "    <tr>\n",
              "      <th>P3</th>\n",
              "      <td>3</td>\n",
              "    </tr>\n",
              "  </tbody>\n",
              "</table>\n",
              "</div>\n",
              "    <div class=\"colab-df-buttons\">\n",
              "\n",
              "  <div class=\"colab-df-container\">\n",
              "    <button class=\"colab-df-convert\" onclick=\"convertToInteractive('df-69697eb7-b16e-4601-975f-983260a5c27c')\"\n",
              "            title=\"Convert this dataframe to an interactive table.\"\n",
              "            style=\"display:none;\">\n",
              "\n",
              "  <svg xmlns=\"http://www.w3.org/2000/svg\" height=\"24px\" viewBox=\"0 -960 960 960\">\n",
              "    <path d=\"M120-120v-720h720v720H120Zm60-500h600v-160H180v160Zm220 220h160v-160H400v160Zm0 220h160v-160H400v160ZM180-400h160v-160H180v160Zm440 0h160v-160H620v160ZM180-180h160v-160H180v160Zm440 0h160v-160H620v160Z\"/>\n",
              "  </svg>\n",
              "    </button>\n",
              "\n",
              "  <style>\n",
              "    .colab-df-container {\n",
              "      display:flex;\n",
              "      gap: 12px;\n",
              "    }\n",
              "\n",
              "    .colab-df-convert {\n",
              "      background-color: #E8F0FE;\n",
              "      border: none;\n",
              "      border-radius: 50%;\n",
              "      cursor: pointer;\n",
              "      display: none;\n",
              "      fill: #1967D2;\n",
              "      height: 32px;\n",
              "      padding: 0 0 0 0;\n",
              "      width: 32px;\n",
              "    }\n",
              "\n",
              "    .colab-df-convert:hover {\n",
              "      background-color: #E2EBFA;\n",
              "      box-shadow: 0px 1px 2px rgba(60, 64, 67, 0.3), 0px 1px 3px 1px rgba(60, 64, 67, 0.15);\n",
              "      fill: #174EA6;\n",
              "    }\n",
              "\n",
              "    .colab-df-buttons div {\n",
              "      margin-bottom: 4px;\n",
              "    }\n",
              "\n",
              "    [theme=dark] .colab-df-convert {\n",
              "      background-color: #3B4455;\n",
              "      fill: #D2E3FC;\n",
              "    }\n",
              "\n",
              "    [theme=dark] .colab-df-convert:hover {\n",
              "      background-color: #434B5C;\n",
              "      box-shadow: 0px 1px 3px 1px rgba(0, 0, 0, 0.15);\n",
              "      filter: drop-shadow(0px 1px 2px rgba(0, 0, 0, 0.3));\n",
              "      fill: #FFFFFF;\n",
              "    }\n",
              "  </style>\n",
              "\n",
              "    <script>\n",
              "      const buttonEl =\n",
              "        document.querySelector('#df-69697eb7-b16e-4601-975f-983260a5c27c button.colab-df-convert');\n",
              "      buttonEl.style.display =\n",
              "        google.colab.kernel.accessAllowed ? 'block' : 'none';\n",
              "\n",
              "      async function convertToInteractive(key) {\n",
              "        const element = document.querySelector('#df-69697eb7-b16e-4601-975f-983260a5c27c');\n",
              "        const dataTable =\n",
              "          await google.colab.kernel.invokeFunction('convertToInteractive',\n",
              "                                                    [key], {});\n",
              "        if (!dataTable) return;\n",
              "\n",
              "        const docLinkHtml = 'Like what you see? Visit the ' +\n",
              "          '<a target=\"_blank\" href=https://colab.research.google.com/notebooks/data_table.ipynb>data table notebook</a>'\n",
              "          + ' to learn more about interactive tables.';\n",
              "        element.innerHTML = '';\n",
              "        dataTable['output_type'] = 'display_data';\n",
              "        await google.colab.output.renderOutput(dataTable, element);\n",
              "        const docLink = document.createElement('div');\n",
              "        docLink.innerHTML = docLinkHtml;\n",
              "        element.appendChild(docLink);\n",
              "      }\n",
              "    </script>\n",
              "  </div>\n",
              "\n",
              "\n",
              "<div id=\"df-51a151fb-21c8-45c2-8c8b-6365af579ffa\">\n",
              "  <button class=\"colab-df-quickchart\" onclick=\"quickchart('df-51a151fb-21c8-45c2-8c8b-6365af579ffa')\"\n",
              "            title=\"Suggest charts.\"\n",
              "            style=\"display:none;\">\n",
              "\n",
              "<svg xmlns=\"http://www.w3.org/2000/svg\" height=\"24px\"viewBox=\"0 0 24 24\"\n",
              "     width=\"24px\">\n",
              "    <g>\n",
              "        <path d=\"M19 3H5c-1.1 0-2 .9-2 2v14c0 1.1.9 2 2 2h14c1.1 0 2-.9 2-2V5c0-1.1-.9-2-2-2zM9 17H7v-7h2v7zm4 0h-2V7h2v10zm4 0h-2v-4h2v4z\"/>\n",
              "    </g>\n",
              "</svg>\n",
              "  </button>\n",
              "\n",
              "<style>\n",
              "  .colab-df-quickchart {\n",
              "    background-color: #E8F0FE;\n",
              "    border: none;\n",
              "    border-radius: 50%;\n",
              "    cursor: pointer;\n",
              "    display: none;\n",
              "    fill: #1967D2;\n",
              "    height: 32px;\n",
              "    padding: 0 0 0 0;\n",
              "    width: 32px;\n",
              "  }\n",
              "\n",
              "  .colab-df-quickchart:hover {\n",
              "    background-color: #E2EBFA;\n",
              "    box-shadow: 0px 1px 2px rgba(60, 64, 67, 0.3), 0px 1px 3px 1px rgba(60, 64, 67, 0.15);\n",
              "    fill: #174EA6;\n",
              "  }\n",
              "\n",
              "  [theme=dark] .colab-df-quickchart {\n",
              "    background-color: #3B4455;\n",
              "    fill: #D2E3FC;\n",
              "  }\n",
              "\n",
              "  [theme=dark] .colab-df-quickchart:hover {\n",
              "    background-color: #434B5C;\n",
              "    box-shadow: 0px 1px 3px 1px rgba(0, 0, 0, 0.15);\n",
              "    filter: drop-shadow(0px 1px 2px rgba(0, 0, 0, 0.3));\n",
              "    fill: #FFFFFF;\n",
              "  }\n",
              "</style>\n",
              "\n",
              "  <script>\n",
              "    async function quickchart(key) {\n",
              "      const charts = await google.colab.kernel.invokeFunction(\n",
              "          'suggestCharts', [key], {});\n",
              "    }\n",
              "    (() => {\n",
              "      let quickchartButtonEl =\n",
              "        document.querySelector('#df-51a151fb-21c8-45c2-8c8b-6365af579ffa button');\n",
              "      quickchartButtonEl.style.display =\n",
              "        google.colab.kernel.accessAllowed ? 'block' : 'none';\n",
              "    })();\n",
              "  </script>\n",
              "</div>\n",
              "    </div>\n",
              "  </div>\n"
            ]
          },
          "metadata": {},
          "execution_count": 5
        }
      ]
    },
    {
      "cell_type": "code",
      "source": [
        "df2 = pd.DataFrame( [10,20,30], columns=['A'], index=['P10','P20','P30'])\n",
        "df2"
      ],
      "metadata": {
        "colab": {
          "base_uri": "https://localhost:8080/",
          "height": 143
        },
        "id": "0wrOQIuJ206o",
        "outputId": "a0876f29-518a-4641-c10b-dfa86d5de995"
      },
      "execution_count": null,
      "outputs": [
        {
          "output_type": "execute_result",
          "data": {
            "text/plain": [
              "      A\n",
              "P10  10\n",
              "P20  20\n",
              "P30  30"
            ],
            "text/html": [
              "\n",
              "  <div id=\"df-e7a3f4f5-6d03-467c-b4ac-270b3c82624e\" class=\"colab-df-container\">\n",
              "    <div>\n",
              "<style scoped>\n",
              "    .dataframe tbody tr th:only-of-type {\n",
              "        vertical-align: middle;\n",
              "    }\n",
              "\n",
              "    .dataframe tbody tr th {\n",
              "        vertical-align: top;\n",
              "    }\n",
              "\n",
              "    .dataframe thead th {\n",
              "        text-align: right;\n",
              "    }\n",
              "</style>\n",
              "<table border=\"1\" class=\"dataframe\">\n",
              "  <thead>\n",
              "    <tr style=\"text-align: right;\">\n",
              "      <th></th>\n",
              "      <th>A</th>\n",
              "    </tr>\n",
              "  </thead>\n",
              "  <tbody>\n",
              "    <tr>\n",
              "      <th>P10</th>\n",
              "      <td>10</td>\n",
              "    </tr>\n",
              "    <tr>\n",
              "      <th>P20</th>\n",
              "      <td>20</td>\n",
              "    </tr>\n",
              "    <tr>\n",
              "      <th>P30</th>\n",
              "      <td>30</td>\n",
              "    </tr>\n",
              "  </tbody>\n",
              "</table>\n",
              "</div>\n",
              "    <div class=\"colab-df-buttons\">\n",
              "\n",
              "  <div class=\"colab-df-container\">\n",
              "    <button class=\"colab-df-convert\" onclick=\"convertToInteractive('df-e7a3f4f5-6d03-467c-b4ac-270b3c82624e')\"\n",
              "            title=\"Convert this dataframe to an interactive table.\"\n",
              "            style=\"display:none;\">\n",
              "\n",
              "  <svg xmlns=\"http://www.w3.org/2000/svg\" height=\"24px\" viewBox=\"0 -960 960 960\">\n",
              "    <path d=\"M120-120v-720h720v720H120Zm60-500h600v-160H180v160Zm220 220h160v-160H400v160Zm0 220h160v-160H400v160ZM180-400h160v-160H180v160Zm440 0h160v-160H620v160ZM180-180h160v-160H180v160Zm440 0h160v-160H620v160Z\"/>\n",
              "  </svg>\n",
              "    </button>\n",
              "\n",
              "  <style>\n",
              "    .colab-df-container {\n",
              "      display:flex;\n",
              "      gap: 12px;\n",
              "    }\n",
              "\n",
              "    .colab-df-convert {\n",
              "      background-color: #E8F0FE;\n",
              "      border: none;\n",
              "      border-radius: 50%;\n",
              "      cursor: pointer;\n",
              "      display: none;\n",
              "      fill: #1967D2;\n",
              "      height: 32px;\n",
              "      padding: 0 0 0 0;\n",
              "      width: 32px;\n",
              "    }\n",
              "\n",
              "    .colab-df-convert:hover {\n",
              "      background-color: #E2EBFA;\n",
              "      box-shadow: 0px 1px 2px rgba(60, 64, 67, 0.3), 0px 1px 3px 1px rgba(60, 64, 67, 0.15);\n",
              "      fill: #174EA6;\n",
              "    }\n",
              "\n",
              "    .colab-df-buttons div {\n",
              "      margin-bottom: 4px;\n",
              "    }\n",
              "\n",
              "    [theme=dark] .colab-df-convert {\n",
              "      background-color: #3B4455;\n",
              "      fill: #D2E3FC;\n",
              "    }\n",
              "\n",
              "    [theme=dark] .colab-df-convert:hover {\n",
              "      background-color: #434B5C;\n",
              "      box-shadow: 0px 1px 3px 1px rgba(0, 0, 0, 0.15);\n",
              "      filter: drop-shadow(0px 1px 2px rgba(0, 0, 0, 0.3));\n",
              "      fill: #FFFFFF;\n",
              "    }\n",
              "  </style>\n",
              "\n",
              "    <script>\n",
              "      const buttonEl =\n",
              "        document.querySelector('#df-e7a3f4f5-6d03-467c-b4ac-270b3c82624e button.colab-df-convert');\n",
              "      buttonEl.style.display =\n",
              "        google.colab.kernel.accessAllowed ? 'block' : 'none';\n",
              "\n",
              "      async function convertToInteractive(key) {\n",
              "        const element = document.querySelector('#df-e7a3f4f5-6d03-467c-b4ac-270b3c82624e');\n",
              "        const dataTable =\n",
              "          await google.colab.kernel.invokeFunction('convertToInteractive',\n",
              "                                                    [key], {});\n",
              "        if (!dataTable) return;\n",
              "\n",
              "        const docLinkHtml = 'Like what you see? Visit the ' +\n",
              "          '<a target=\"_blank\" href=https://colab.research.google.com/notebooks/data_table.ipynb>data table notebook</a>'\n",
              "          + ' to learn more about interactive tables.';\n",
              "        element.innerHTML = '';\n",
              "        dataTable['output_type'] = 'display_data';\n",
              "        await google.colab.output.renderOutput(dataTable, element);\n",
              "        const docLink = document.createElement('div');\n",
              "        docLink.innerHTML = docLinkHtml;\n",
              "        element.appendChild(docLink);\n",
              "      }\n",
              "    </script>\n",
              "  </div>\n",
              "\n",
              "\n",
              "<div id=\"df-af60f99d-ca95-4ce9-afd2-67e18570ce28\">\n",
              "  <button class=\"colab-df-quickchart\" onclick=\"quickchart('df-af60f99d-ca95-4ce9-afd2-67e18570ce28')\"\n",
              "            title=\"Suggest charts.\"\n",
              "            style=\"display:none;\">\n",
              "\n",
              "<svg xmlns=\"http://www.w3.org/2000/svg\" height=\"24px\"viewBox=\"0 0 24 24\"\n",
              "     width=\"24px\">\n",
              "    <g>\n",
              "        <path d=\"M19 3H5c-1.1 0-2 .9-2 2v14c0 1.1.9 2 2 2h14c1.1 0 2-.9 2-2V5c0-1.1-.9-2-2-2zM9 17H7v-7h2v7zm4 0h-2V7h2v10zm4 0h-2v-4h2v4z\"/>\n",
              "    </g>\n",
              "</svg>\n",
              "  </button>\n",
              "\n",
              "<style>\n",
              "  .colab-df-quickchart {\n",
              "    background-color: #E8F0FE;\n",
              "    border: none;\n",
              "    border-radius: 50%;\n",
              "    cursor: pointer;\n",
              "    display: none;\n",
              "    fill: #1967D2;\n",
              "    height: 32px;\n",
              "    padding: 0 0 0 0;\n",
              "    width: 32px;\n",
              "  }\n",
              "\n",
              "  .colab-df-quickchart:hover {\n",
              "    background-color: #E2EBFA;\n",
              "    box-shadow: 0px 1px 2px rgba(60, 64, 67, 0.3), 0px 1px 3px 1px rgba(60, 64, 67, 0.15);\n",
              "    fill: #174EA6;\n",
              "  }\n",
              "\n",
              "  [theme=dark] .colab-df-quickchart {\n",
              "    background-color: #3B4455;\n",
              "    fill: #D2E3FC;\n",
              "  }\n",
              "\n",
              "  [theme=dark] .colab-df-quickchart:hover {\n",
              "    background-color: #434B5C;\n",
              "    box-shadow: 0px 1px 3px 1px rgba(0, 0, 0, 0.15);\n",
              "    filter: drop-shadow(0px 1px 2px rgba(0, 0, 0, 0.3));\n",
              "    fill: #FFFFFF;\n",
              "  }\n",
              "</style>\n",
              "\n",
              "  <script>\n",
              "    async function quickchart(key) {\n",
              "      const charts = await google.colab.kernel.invokeFunction(\n",
              "          'suggestCharts', [key], {});\n",
              "    }\n",
              "    (() => {\n",
              "      let quickchartButtonEl =\n",
              "        document.querySelector('#df-af60f99d-ca95-4ce9-afd2-67e18570ce28 button');\n",
              "      quickchartButtonEl.style.display =\n",
              "        google.colab.kernel.accessAllowed ? 'block' : 'none';\n",
              "    })();\n",
              "  </script>\n",
              "</div>\n",
              "    </div>\n",
              "  </div>\n"
            ]
          },
          "metadata": {},
          "execution_count": 6
        }
      ]
    },
    {
      "cell_type": "code",
      "source": [
        "pd.concat([df1, df2])"
      ],
      "metadata": {
        "colab": {
          "base_uri": "https://localhost:8080/",
          "height": 237
        },
        "id": "UvzMPZT121FA",
        "outputId": "505e29fb-bdf3-46e2-e903-d7587bde8446"
      },
      "execution_count": null,
      "outputs": [
        {
          "output_type": "execute_result",
          "data": {
            "text/plain": [
              "      A\n",
              "P1    1\n",
              "P2    2\n",
              "P3    3\n",
              "P10  10\n",
              "P20  20\n",
              "P30  30"
            ],
            "text/html": [
              "\n",
              "  <div id=\"df-9189063b-c326-49de-aed3-5d6938a322e4\" class=\"colab-df-container\">\n",
              "    <div>\n",
              "<style scoped>\n",
              "    .dataframe tbody tr th:only-of-type {\n",
              "        vertical-align: middle;\n",
              "    }\n",
              "\n",
              "    .dataframe tbody tr th {\n",
              "        vertical-align: top;\n",
              "    }\n",
              "\n",
              "    .dataframe thead th {\n",
              "        text-align: right;\n",
              "    }\n",
              "</style>\n",
              "<table border=\"1\" class=\"dataframe\">\n",
              "  <thead>\n",
              "    <tr style=\"text-align: right;\">\n",
              "      <th></th>\n",
              "      <th>A</th>\n",
              "    </tr>\n",
              "  </thead>\n",
              "  <tbody>\n",
              "    <tr>\n",
              "      <th>P1</th>\n",
              "      <td>1</td>\n",
              "    </tr>\n",
              "    <tr>\n",
              "      <th>P2</th>\n",
              "      <td>2</td>\n",
              "    </tr>\n",
              "    <tr>\n",
              "      <th>P3</th>\n",
              "      <td>3</td>\n",
              "    </tr>\n",
              "    <tr>\n",
              "      <th>P10</th>\n",
              "      <td>10</td>\n",
              "    </tr>\n",
              "    <tr>\n",
              "      <th>P20</th>\n",
              "      <td>20</td>\n",
              "    </tr>\n",
              "    <tr>\n",
              "      <th>P30</th>\n",
              "      <td>30</td>\n",
              "    </tr>\n",
              "  </tbody>\n",
              "</table>\n",
              "</div>\n",
              "    <div class=\"colab-df-buttons\">\n",
              "\n",
              "  <div class=\"colab-df-container\">\n",
              "    <button class=\"colab-df-convert\" onclick=\"convertToInteractive('df-9189063b-c326-49de-aed3-5d6938a322e4')\"\n",
              "            title=\"Convert this dataframe to an interactive table.\"\n",
              "            style=\"display:none;\">\n",
              "\n",
              "  <svg xmlns=\"http://www.w3.org/2000/svg\" height=\"24px\" viewBox=\"0 -960 960 960\">\n",
              "    <path d=\"M120-120v-720h720v720H120Zm60-500h600v-160H180v160Zm220 220h160v-160H400v160Zm0 220h160v-160H400v160ZM180-400h160v-160H180v160Zm440 0h160v-160H620v160ZM180-180h160v-160H180v160Zm440 0h160v-160H620v160Z\"/>\n",
              "  </svg>\n",
              "    </button>\n",
              "\n",
              "  <style>\n",
              "    .colab-df-container {\n",
              "      display:flex;\n",
              "      gap: 12px;\n",
              "    }\n",
              "\n",
              "    .colab-df-convert {\n",
              "      background-color: #E8F0FE;\n",
              "      border: none;\n",
              "      border-radius: 50%;\n",
              "      cursor: pointer;\n",
              "      display: none;\n",
              "      fill: #1967D2;\n",
              "      height: 32px;\n",
              "      padding: 0 0 0 0;\n",
              "      width: 32px;\n",
              "    }\n",
              "\n",
              "    .colab-df-convert:hover {\n",
              "      background-color: #E2EBFA;\n",
              "      box-shadow: 0px 1px 2px rgba(60, 64, 67, 0.3), 0px 1px 3px 1px rgba(60, 64, 67, 0.15);\n",
              "      fill: #174EA6;\n",
              "    }\n",
              "\n",
              "    .colab-df-buttons div {\n",
              "      margin-bottom: 4px;\n",
              "    }\n",
              "\n",
              "    [theme=dark] .colab-df-convert {\n",
              "      background-color: #3B4455;\n",
              "      fill: #D2E3FC;\n",
              "    }\n",
              "\n",
              "    [theme=dark] .colab-df-convert:hover {\n",
              "      background-color: #434B5C;\n",
              "      box-shadow: 0px 1px 3px 1px rgba(0, 0, 0, 0.15);\n",
              "      filter: drop-shadow(0px 1px 2px rgba(0, 0, 0, 0.3));\n",
              "      fill: #FFFFFF;\n",
              "    }\n",
              "  </style>\n",
              "\n",
              "    <script>\n",
              "      const buttonEl =\n",
              "        document.querySelector('#df-9189063b-c326-49de-aed3-5d6938a322e4 button.colab-df-convert');\n",
              "      buttonEl.style.display =\n",
              "        google.colab.kernel.accessAllowed ? 'block' : 'none';\n",
              "\n",
              "      async function convertToInteractive(key) {\n",
              "        const element = document.querySelector('#df-9189063b-c326-49de-aed3-5d6938a322e4');\n",
              "        const dataTable =\n",
              "          await google.colab.kernel.invokeFunction('convertToInteractive',\n",
              "                                                    [key], {});\n",
              "        if (!dataTable) return;\n",
              "\n",
              "        const docLinkHtml = 'Like what you see? Visit the ' +\n",
              "          '<a target=\"_blank\" href=https://colab.research.google.com/notebooks/data_table.ipynb>data table notebook</a>'\n",
              "          + ' to learn more about interactive tables.';\n",
              "        element.innerHTML = '';\n",
              "        dataTable['output_type'] = 'display_data';\n",
              "        await google.colab.output.renderOutput(dataTable, element);\n",
              "        const docLink = document.createElement('div');\n",
              "        docLink.innerHTML = docLinkHtml;\n",
              "        element.appendChild(docLink);\n",
              "      }\n",
              "    </script>\n",
              "  </div>\n",
              "\n",
              "\n",
              "<div id=\"df-96cbcf89-f5b2-45b2-8355-b5aabd1206e6\">\n",
              "  <button class=\"colab-df-quickchart\" onclick=\"quickchart('df-96cbcf89-f5b2-45b2-8355-b5aabd1206e6')\"\n",
              "            title=\"Suggest charts.\"\n",
              "            style=\"display:none;\">\n",
              "\n",
              "<svg xmlns=\"http://www.w3.org/2000/svg\" height=\"24px\"viewBox=\"0 0 24 24\"\n",
              "     width=\"24px\">\n",
              "    <g>\n",
              "        <path d=\"M19 3H5c-1.1 0-2 .9-2 2v14c0 1.1.9 2 2 2h14c1.1 0 2-.9 2-2V5c0-1.1-.9-2-2-2zM9 17H7v-7h2v7zm4 0h-2V7h2v10zm4 0h-2v-4h2v4z\"/>\n",
              "    </g>\n",
              "</svg>\n",
              "  </button>\n",
              "\n",
              "<style>\n",
              "  .colab-df-quickchart {\n",
              "    background-color: #E8F0FE;\n",
              "    border: none;\n",
              "    border-radius: 50%;\n",
              "    cursor: pointer;\n",
              "    display: none;\n",
              "    fill: #1967D2;\n",
              "    height: 32px;\n",
              "    padding: 0 0 0 0;\n",
              "    width: 32px;\n",
              "  }\n",
              "\n",
              "  .colab-df-quickchart:hover {\n",
              "    background-color: #E2EBFA;\n",
              "    box-shadow: 0px 1px 2px rgba(60, 64, 67, 0.3), 0px 1px 3px 1px rgba(60, 64, 67, 0.15);\n",
              "    fill: #174EA6;\n",
              "  }\n",
              "\n",
              "  [theme=dark] .colab-df-quickchart {\n",
              "    background-color: #3B4455;\n",
              "    fill: #D2E3FC;\n",
              "  }\n",
              "\n",
              "  [theme=dark] .colab-df-quickchart:hover {\n",
              "    background-color: #434B5C;\n",
              "    box-shadow: 0px 1px 3px 1px rgba(0, 0, 0, 0.15);\n",
              "    filter: drop-shadow(0px 1px 2px rgba(0, 0, 0, 0.3));\n",
              "    fill: #FFFFFF;\n",
              "  }\n",
              "</style>\n",
              "\n",
              "  <script>\n",
              "    async function quickchart(key) {\n",
              "      const charts = await google.colab.kernel.invokeFunction(\n",
              "          'suggestCharts', [key], {});\n",
              "    }\n",
              "    (() => {\n",
              "      let quickchartButtonEl =\n",
              "        document.querySelector('#df-96cbcf89-f5b2-45b2-8355-b5aabd1206e6 button');\n",
              "      quickchartButtonEl.style.display =\n",
              "        google.colab.kernel.accessAllowed ? 'block' : 'none';\n",
              "    })();\n",
              "  </script>\n",
              "</div>\n",
              "    </div>\n",
              "  </div>\n"
            ]
          },
          "metadata": {},
          "execution_count": 7
        }
      ]
    },
    {
      "cell_type": "markdown",
      "metadata": {
        "id": "4ZqtoQ1_06Ua"
      },
      "source": [
        "# Visualization"
      ]
    },
    {
      "cell_type": "code",
      "metadata": {
        "id": "HP9H-CWY0HXV"
      },
      "source": [
        "# import stock_market\n",
        "df_stock = pd.read_excel('/content/drive/My Drive/ML_boothcamp_2022/lecture_notes/excel_files/stock_market.xlsx', index_col=0)"
      ],
      "execution_count": null,
      "outputs": []
    },
    {
      "cell_type": "code",
      "metadata": {
        "colab": {
          "base_uri": "https://localhost:8080/",
          "height": 206
        },
        "id": "Ozg-Apx_28XA",
        "outputId": "5e5db86f-fd8a-492b-8ae8-00a2ff01f729"
      },
      "source": [
        "# df courses\n",
        "df_stock.head()"
      ],
      "execution_count": null,
      "outputs": [
        {
          "output_type": "execute_result",
          "data": {
            "text/plain": [
              "           Date  APPLE  TESLA   AMAZON    VISA    SP500\n",
              "0.0  2020-01-02  74.33  86.05  1898.01  189.66  3257.85\n",
              "1.0  2020-01-03  73.61  88.60  1874.97  188.15  3234.85\n",
              "2.0  2020-01-06  74.20  90.31  1902.88  187.74  3246.28\n",
              "3.0  2020-01-07  73.85  93.81  1906.86  187.24  3237.18\n",
              "4.0  2020-01-08  75.04  98.43  1891.97  190.45  3253.05"
            ],
            "text/html": [
              "\n",
              "  <div id=\"df-5596a048-49c8-4f5d-b4b5-80bfb3cad611\">\n",
              "    <div class=\"colab-df-container\">\n",
              "      <div>\n",
              "<style scoped>\n",
              "    .dataframe tbody tr th:only-of-type {\n",
              "        vertical-align: middle;\n",
              "    }\n",
              "\n",
              "    .dataframe tbody tr th {\n",
              "        vertical-align: top;\n",
              "    }\n",
              "\n",
              "    .dataframe thead th {\n",
              "        text-align: right;\n",
              "    }\n",
              "</style>\n",
              "<table border=\"1\" class=\"dataframe\">\n",
              "  <thead>\n",
              "    <tr style=\"text-align: right;\">\n",
              "      <th></th>\n",
              "      <th>Date</th>\n",
              "      <th>APPLE</th>\n",
              "      <th>TESLA</th>\n",
              "      <th>AMAZON</th>\n",
              "      <th>VISA</th>\n",
              "      <th>SP500</th>\n",
              "    </tr>\n",
              "  </thead>\n",
              "  <tbody>\n",
              "    <tr>\n",
              "      <th>0.0</th>\n",
              "      <td>2020-01-02</td>\n",
              "      <td>74.33</td>\n",
              "      <td>86.05</td>\n",
              "      <td>1898.01</td>\n",
              "      <td>189.66</td>\n",
              "      <td>3257.85</td>\n",
              "    </tr>\n",
              "    <tr>\n",
              "      <th>1.0</th>\n",
              "      <td>2020-01-03</td>\n",
              "      <td>73.61</td>\n",
              "      <td>88.60</td>\n",
              "      <td>1874.97</td>\n",
              "      <td>188.15</td>\n",
              "      <td>3234.85</td>\n",
              "    </tr>\n",
              "    <tr>\n",
              "      <th>2.0</th>\n",
              "      <td>2020-01-06</td>\n",
              "      <td>74.20</td>\n",
              "      <td>90.31</td>\n",
              "      <td>1902.88</td>\n",
              "      <td>187.74</td>\n",
              "      <td>3246.28</td>\n",
              "    </tr>\n",
              "    <tr>\n",
              "      <th>3.0</th>\n",
              "      <td>2020-01-07</td>\n",
              "      <td>73.85</td>\n",
              "      <td>93.81</td>\n",
              "      <td>1906.86</td>\n",
              "      <td>187.24</td>\n",
              "      <td>3237.18</td>\n",
              "    </tr>\n",
              "    <tr>\n",
              "      <th>4.0</th>\n",
              "      <td>2020-01-08</td>\n",
              "      <td>75.04</td>\n",
              "      <td>98.43</td>\n",
              "      <td>1891.97</td>\n",
              "      <td>190.45</td>\n",
              "      <td>3253.05</td>\n",
              "    </tr>\n",
              "  </tbody>\n",
              "</table>\n",
              "</div>\n",
              "      <button class=\"colab-df-convert\" onclick=\"convertToInteractive('df-5596a048-49c8-4f5d-b4b5-80bfb3cad611')\"\n",
              "              title=\"Convert this dataframe to an interactive table.\"\n",
              "              style=\"display:none;\">\n",
              "        \n",
              "  <svg xmlns=\"http://www.w3.org/2000/svg\" height=\"24px\"viewBox=\"0 0 24 24\"\n",
              "       width=\"24px\">\n",
              "    <path d=\"M0 0h24v24H0V0z\" fill=\"none\"/>\n",
              "    <path d=\"M18.56 5.44l.94 2.06.94-2.06 2.06-.94-2.06-.94-.94-2.06-.94 2.06-2.06.94zm-11 1L8.5 8.5l.94-2.06 2.06-.94-2.06-.94L8.5 2.5l-.94 2.06-2.06.94zm10 10l.94 2.06.94-2.06 2.06-.94-2.06-.94-.94-2.06-.94 2.06-2.06.94z\"/><path d=\"M17.41 7.96l-1.37-1.37c-.4-.4-.92-.59-1.43-.59-.52 0-1.04.2-1.43.59L10.3 9.45l-7.72 7.72c-.78.78-.78 2.05 0 2.83L4 21.41c.39.39.9.59 1.41.59.51 0 1.02-.2 1.41-.59l7.78-7.78 2.81-2.81c.8-.78.8-2.07 0-2.86zM5.41 20L4 18.59l7.72-7.72 1.47 1.35L5.41 20z\"/>\n",
              "  </svg>\n",
              "      </button>\n",
              "      \n",
              "  <style>\n",
              "    .colab-df-container {\n",
              "      display:flex;\n",
              "      flex-wrap:wrap;\n",
              "      gap: 12px;\n",
              "    }\n",
              "\n",
              "    .colab-df-convert {\n",
              "      background-color: #E8F0FE;\n",
              "      border: none;\n",
              "      border-radius: 50%;\n",
              "      cursor: pointer;\n",
              "      display: none;\n",
              "      fill: #1967D2;\n",
              "      height: 32px;\n",
              "      padding: 0 0 0 0;\n",
              "      width: 32px;\n",
              "    }\n",
              "\n",
              "    .colab-df-convert:hover {\n",
              "      background-color: #E2EBFA;\n",
              "      box-shadow: 0px 1px 2px rgba(60, 64, 67, 0.3), 0px 1px 3px 1px rgba(60, 64, 67, 0.15);\n",
              "      fill: #174EA6;\n",
              "    }\n",
              "\n",
              "    [theme=dark] .colab-df-convert {\n",
              "      background-color: #3B4455;\n",
              "      fill: #D2E3FC;\n",
              "    }\n",
              "\n",
              "    [theme=dark] .colab-df-convert:hover {\n",
              "      background-color: #434B5C;\n",
              "      box-shadow: 0px 1px 3px 1px rgba(0, 0, 0, 0.15);\n",
              "      filter: drop-shadow(0px 1px 2px rgba(0, 0, 0, 0.3));\n",
              "      fill: #FFFFFF;\n",
              "    }\n",
              "  </style>\n",
              "\n",
              "      <script>\n",
              "        const buttonEl =\n",
              "          document.querySelector('#df-5596a048-49c8-4f5d-b4b5-80bfb3cad611 button.colab-df-convert');\n",
              "        buttonEl.style.display =\n",
              "          google.colab.kernel.accessAllowed ? 'block' : 'none';\n",
              "\n",
              "        async function convertToInteractive(key) {\n",
              "          const element = document.querySelector('#df-5596a048-49c8-4f5d-b4b5-80bfb3cad611');\n",
              "          const dataTable =\n",
              "            await google.colab.kernel.invokeFunction('convertToInteractive',\n",
              "                                                     [key], {});\n",
              "          if (!dataTable) return;\n",
              "\n",
              "          const docLinkHtml = 'Like what you see? Visit the ' +\n",
              "            '<a target=\"_blank\" href=https://colab.research.google.com/notebooks/data_table.ipynb>data table notebook</a>'\n",
              "            + ' to learn more about interactive tables.';\n",
              "          element.innerHTML = '';\n",
              "          dataTable['output_type'] = 'display_data';\n",
              "          await google.colab.output.renderOutput(dataTable, element);\n",
              "          const docLink = document.createElement('div');\n",
              "          docLink.innerHTML = docLinkHtml;\n",
              "          element.appendChild(docLink);\n",
              "        }\n",
              "      </script>\n",
              "    </div>\n",
              "  </div>\n",
              "  "
            ]
          },
          "metadata": {},
          "execution_count": 24
        }
      ]
    },
    {
      "cell_type": "markdown",
      "metadata": {
        "id": "pAsOpnF022pG"
      },
      "source": [
        "## Line Plot"
      ]
    },
    {
      "cell_type": "code",
      "metadata": {
        "colab": {
          "base_uri": "https://localhost:8080/",
          "height": 318
        },
        "id": "t6swDb3f2x3z",
        "outputId": "68cc2f5b-c745-4869-89f3-14d1b8980cbe"
      },
      "source": [
        "# plot  Apple\n",
        "plt.figure(figsize=(20,5))\n",
        "plt.plot( df_stock['APPLE'], label = 'Apple')\n",
        "plt.legend();"
      ],
      "execution_count": null,
      "outputs": [
        {
          "output_type": "display_data",
          "data": {
            "image/png": "[encoded data removed]",
            "text/plain": [
              "<Figure size 1440x360 with 1 Axes>"
            ]
          },
          "metadata": {
            "tags": [],
            "needs_background": "light"
          }
        }
      ]
    },
    {
      "cell_type": "code",
      "metadata": {
        "colab": {
          "base_uri": "https://localhost:8080/",
          "height": 316
        },
        "id": "CiDDznW73Kux",
        "outputId": "17718bdc-c06c-4ce3-e874-27e3d43fb210"
      },
      "source": [
        "# plot Apple and Tesla\n",
        "plt.figure(figsize=(20,5))\n",
        "plt.plot( df_stock['APPLE'], label = 'Apple')\n",
        "plt.plot( df_stock['TESLA'], label = 'Tesla')\n",
        "plt.legend();"
      ],
      "execution_count": null,
      "outputs": [
        {
          "output_type": "display_data",
          "data": {
            "image/png": "[encoded data removed]",
            "text/plain": [
              "<Figure size 1440x360 with 1 Axes>"
            ]
          },
          "metadata": {
            "tags": [],
            "needs_background": "light"
          }
        }
      ]
    },
    {
      "cell_type": "markdown",
      "metadata": {
        "id": "jbtNN5Yi9Bnt"
      },
      "source": [
        "## Scatter Plot"
      ]
    },
    {
      "cell_type": "code",
      "metadata": {
        "colab": {
          "base_uri": "https://localhost:8080/",
          "height": 341
        },
        "id": "qAFvkLuV8Ie6",
        "outputId": "ef88ba72-abac-485f-fa58-6ef1b4730af5"
      },
      "source": [
        "# plot Apple vs Tesla\n",
        "plt.figure(figsize=(20,5))\n",
        "plt.scatter( df_stock['APPLE'],df_stock['TESLA'], c='g')\n",
        "plt.xlabel('Apple')\n",
        "plt.ylabel('Tesla')\n",
        "plt.title('Apple vs Tesla');"
      ],
      "execution_count": null,
      "outputs": [
        {
          "output_type": "display_data",
          "data": {
            "image/png": "[encoded data removed]",
            "text/plain": [
              "<Figure size 1440x360 with 1 Axes>"
            ]
          },
          "metadata": {
            "tags": [],
            "needs_background": "light"
          }
        }
      ]
    },
    {
      "cell_type": "markdown",
      "metadata": {
        "id": "kkL3A_hm9isf"
      },
      "source": [
        "## Histogram"
      ]
    },
    {
      "cell_type": "code",
      "metadata": {
        "colab": {
          "base_uri": "https://localhost:8080/",
          "height": 265
        },
        "id": "XZTVEY-k8_8c",
        "outputId": "04e1ee12-2da7-4362-f457-08844b3eb075"
      },
      "source": [
        "# apple\n",
        "plt.hist(df_stock['APPLE']);"
      ],
      "execution_count": null,
      "outputs": [
        {
          "output_type": "display_data",
          "data": {
            "image/png": "[encoded data removed]",
            "text/plain": [
              "<Figure size 432x288 with 1 Axes>"
            ]
          },
          "metadata": {
            "tags": [],
            "needs_background": "light"
          }
        }
      ]
    },
    {
      "cell_type": "code",
      "metadata": {
        "colab": {
          "base_uri": "https://localhost:8080/",
          "height": 265
        },
        "id": "lFIuUPLx81Zb",
        "outputId": "fd0edae1-8ddf-46f3-ab61-cda70747028c"
      },
      "source": [
        "# apple bins =50\n",
        "plt.hist(df_stock['APPLE'], bins=50, color='orange');"
      ],
      "execution_count": null,
      "outputs": [
        {
          "output_type": "display_data",
          "data": {
            "image/png": "[encoded data removed]",
            "text/plain": [
              "<Figure size 432x288 with 1 Axes>"
            ]
          },
          "metadata": {
            "tags": [],
            "needs_background": "light"
          }
        }
      ]
    },
    {
      "cell_type": "code",
      "metadata": {
        "colab": {
          "base_uri": "https://localhost:8080/",
          "height": 268
        },
        "id": "GcPXybLF906p",
        "outputId": "3a0a045c-4256-424b-e5ed-666c2553ff32"
      },
      "source": [
        "# orientation\n",
        "plt.hist(df_stock['APPLE'], bins=50, color='orange', orientation='horizontal');"
      ],
      "execution_count": null,
      "outputs": [
        {
          "output_type": "display_data",
          "data": {
            "image/png": "[encoded data removed]",
            "text/plain": [
              "<Figure size 432x288 with 1 Axes>"
            ]
          },
          "metadata": {
            "tags": [],
            "needs_background": "light"
          }
        }
      ]
    },
    {
      "cell_type": "code",
      "metadata": {
        "colab": {
          "base_uri": "https://localhost:8080/",
          "height": 281
        },
        "id": "hRaZsny8-KrE",
        "outputId": "cbcf2608-f329-49ac-9a17-530289a78bb3"
      },
      "source": [
        "# df_hist\n",
        "df_stock.hist();"
      ],
      "execution_count": null,
      "outputs": [
        {
          "output_type": "display_data",
          "data": {
            "image/png": "[encoded data removed]",
            "text/plain": [
              "<Figure size 432x288 with 6 Axes>"
            ]
          },
          "metadata": {
            "tags": [],
            "needs_background": "light"
          }
        }
      ]
    },
    {
      "cell_type": "markdown",
      "metadata": {
        "id": "rWTVMxdu-hNs"
      },
      "source": [
        "## Pie Chart"
      ]
    },
    {
      "cell_type": "code",
      "metadata": {
        "colab": {
          "base_uri": "https://localhost:8080/",
          "height": 248
        },
        "id": "O-ZSrUkz-U4d",
        "outputId": "85242700-dff9-419b-c4eb-bb4d10ee6c6e"
      },
      "source": [
        "# gender\n",
        "plt.pie(df_grades['Gender'].value_counts().values,labels =df_grades['Gender'].value_counts().index, autopct='%1.1f',  );"
      ],
      "execution_count": null,
      "outputs": [
        {
          "output_type": "display_data",
          "data": {
            "image/png": "[encoded data removed]",
            "text/plain": [
              "<Figure size 432x288 with 1 Axes>"
            ]
          },
          "metadata": {
            "tags": []
          }
        }
      ]
    },
    {
      "cell_type": "markdown",
      "metadata": {
        "id": "TzMHzdARAir2"
      },
      "source": [
        "## Multiple Plots"
      ]
    },
    {
      "cell_type": "code",
      "metadata": {
        "colab": {
          "base_uri": "https://localhost:8080/",
          "height": 313
        },
        "id": "gWOvNxsW-syq",
        "outputId": "f0e78d30-235f-41b1-f818-fd87f5d981f0"
      },
      "source": [
        "# APPLE TESLA (1,2)\n",
        "plt.figure(figsize = (20, 5))\n",
        "\n",
        "plt.subplot(1, 2, 1)\n",
        "plt.plot(df_stock['APPLE'], 'r--');\n",
        "plt.ylabel('Apple',fontsize=15)\n",
        "plt.grid()\n",
        "\n",
        "plt.subplot(1, 2, 2)\n",
        "plt.plot(df_stock['TESLA'], 'y--');\n",
        "plt.ylabel('Tesla',fontsize=15)\n",
        "plt.grid()"
      ],
      "execution_count": null,
      "outputs": [
        {
          "output_type": "display_data",
          "data": {
            "image/png": "[encoded data removed]",
            "text/plain": [
              "<Figure size 1440x360 with 2 Axes>"
            ]
          },
          "metadata": {
            "tags": [],
            "needs_background": "light"
          }
        }
      ]
    },
    {
      "cell_type": "code",
      "metadata": {
        "colab": {
          "base_uri": "https://localhost:8080/",
          "height": 314
        },
        "id": "aPcZ2aHMAv0K",
        "outputId": "901ff91b-4aea-458d-c14b-3476e5a8a5ab"
      },
      "source": [
        "# APPLE TESLA (2,1)\n",
        "plt.figure(figsize = (20, 5))\n",
        "\n",
        "plt.subplot(2, 1, 1)\n",
        "plt.plot(df_stock['APPLE'], 'r--');\n",
        "plt.ylabel('Apple',fontsize=15)\n",
        "plt.grid()\n",
        "\n",
        "plt.subplot(2, 1, 2)\n",
        "plt.plot(df_stock['TESLA'], 'y--');\n",
        "plt.ylabel('Tesla',fontsize=15)\n",
        "plt.grid()"
      ],
      "execution_count": null,
      "outputs": [
        {
          "output_type": "display_data",
          "data": {
            "image/png": "[encoded data removed]",
            "text/plain": [
              "<Figure size 1440x360 with 2 Axes>"
            ]
          },
          "metadata": {
            "tags": [],
            "needs_background": "light"
          }
        }
      ]
    },
    {
      "cell_type": "code",
      "metadata": {
        "colab": {
          "base_uri": "https://localhost:8080/",
          "height": 312
        },
        "id": "krYHaCZyA5jB",
        "outputId": "1574c585-6a96-429f-9d4d-947b7d4f4220"
      },
      "source": [
        "# APPLE TESLA AMZON VISA (2,2)\n",
        "plt.figure(figsize = (20, 5))\n",
        "\n",
        "plt.subplot(2, 2, 1)\n",
        "plt.plot(df_stock['APPLE'], 'r--');\n",
        "plt.ylabel('Apple',fontsize=15)\n",
        "plt.grid()\n",
        "\n",
        "plt.subplot(2, 2, 2)\n",
        "plt.plot(df_stock['TESLA'], 'y--');\n",
        "plt.ylabel('Tesla',fontsize=15)\n",
        "plt.grid()\n",
        "\n",
        "plt.subplot(2, 2, 3)\n",
        "plt.plot(df_stock['AMAZON'], 'b--');\n",
        "plt.ylabel('Amazon',fontsize=15)\n",
        "plt.grid()\n",
        "\n",
        "plt.subplot(2, 2, 4)\n",
        "plt.plot(df_stock['VISA'], 'k--');\n",
        "plt.ylabel('Visa',fontsize=15)\n",
        "plt.grid()\n",
        "\n"
      ],
      "execution_count": null,
      "outputs": [
        {
          "output_type": "display_data",
          "data": {
            "image/png": "[encoded data removed]",
            "text/plain": [
              "<Figure size 1440x360 with 4 Axes>"
            ]
          },
          "metadata": {
            "tags": [],
            "needs_background": "light"
          }
        }
      ]
    },
    {
      "cell_type": "markdown",
      "metadata": {
        "id": "0YiBU24zBbJp"
      },
      "source": [
        "## Boxplot"
      ]
    },
    {
      "cell_type": "code",
      "metadata": {
        "colab": {
          "base_uri": "https://localhost:8080/",
          "height": 265
        },
        "id": "cChCF44wBT07",
        "outputId": "8294e5cd-95d1-4c22-f763-36d4e0f84cd8"
      },
      "source": [
        "# use seaborn\n",
        "import seaborn as sns\n",
        "sns.set_style(\"dark\")\n",
        "sns.boxplot(data=df_stock);"
      ],
      "execution_count": null,
      "outputs": [
        {
          "output_type": "display_data",
          "data": {
            "image/png": "[encoded data removed]",
            "text/plain": [
              "<Figure size 432x288 with 1 Axes>"
            ]
          },
          "metadata": {
            "tags": []
          }
        }
      ]
    },
    {
      "cell_type": "code",
      "metadata": {
        "colab": {
          "base_uri": "https://localhost:8080/",
          "height": 268
        },
        "id": "ZQcyA5FPBk6y",
        "outputId": "d66112bd-38df-4af8-8dcd-a4aa627e1fb2"
      },
      "source": [
        "# apple\n",
        "sns.boxplot(data=df_stock['APPLE']);"
      ],
      "execution_count": null,
      "outputs": [
        {
          "output_type": "display_data",
          "data": {
            "image/png": "[encoded data removed]",
            "text/plain": [
              "<Figure size 432x288 with 1 Axes>"
            ]
          },
          "metadata": {
            "tags": []
          }
        }
      ]
    },
    {
      "cell_type": "markdown",
      "metadata": {
        "id": "He5jclo2CQqd"
      },
      "source": [
        "## Violinplot"
      ]
    },
    {
      "cell_type": "code",
      "metadata": {
        "colab": {
          "base_uri": "https://localhost:8080/",
          "height": 315
        },
        "id": "X0BCj8PrCJSl",
        "outputId": "f162777a-d12f-4b6b-f15a-de3738d7c7e5"
      },
      "source": [
        "# all but date\n",
        "plt.figure(figsize=(20,5))\n",
        "sns.violinplot(data=df_stock.iloc[:,1:]);"
      ],
      "execution_count": null,
      "outputs": [
        {
          "output_type": "display_data",
          "data": {
            "image/png": "[encoded data removed]",
            "text/plain": [
              "<Figure size 1440x360 with 1 Axes>"
            ]
          },
          "metadata": {
            "tags": []
          }
        }
      ]
    },
    {
      "cell_type": "code",
      "metadata": {
        "colab": {
          "base_uri": "https://localhost:8080/",
          "height": 265
        },
        "id": "pCptD-O2Cg8A",
        "outputId": "1588eb3f-4648-4aec-9df6-3e62573c2f93"
      },
      "source": [
        "# apple\n",
        "sns.violinplot(data=df_stock['APPLE']);"
      ],
      "execution_count": null,
      "outputs": [
        {
          "output_type": "display_data",
          "data": {
            "image/png": "[encoded data removed]",
            "text/plain": [
              "<Figure size 432x288 with 1 Axes>"
            ]
          },
          "metadata": {
            "tags": []
          }
        }
      ]
    },
    {
      "cell_type": "markdown",
      "metadata": {
        "id": "g3UFC-M4C1Qw"
      },
      "source": [
        "## Swamplot\n",
        "- shows all observations"
      ]
    },
    {
      "cell_type": "code",
      "metadata": {
        "colab": {
          "base_uri": "https://localhost:8080/",
          "height": 265
        },
        "id": "KFQ_zkpwCnSb",
        "outputId": "13e52144-bf16-4384-e98a-8ecd0036b0cf"
      },
      "source": [
        "# amazon\n",
        "sns.swarmplot(data=df_stock['AMAZON']);"
      ],
      "execution_count": null,
      "outputs": [
        {
          "output_type": "display_data",
          "data": {
            "image/png": "[encoded data removed]",
            "text/plain": [
              "<Figure size 432x288 with 1 Axes>"
            ]
          },
          "metadata": {
            "tags": []
          }
        }
      ]
    },
    {
      "cell_type": "markdown",
      "metadata": {
        "id": "s8Q9LqD6EFRH"
      },
      "source": [
        "## Violin and Swarm Plot"
      ]
    },
    {
      "cell_type": "code",
      "metadata": {
        "colab": {
          "base_uri": "https://localhost:8080/",
          "height": 265
        },
        "id": "D8R5QTjTC_ax",
        "outputId": "a68f5c73-4a03-4bf8-fb23-f0395b14e114"
      },
      "source": [
        "# tesla\n",
        "sns.violinplot(data=df_stock['TESLA']);\n",
        "sns.swarmplot(data=df_stock['TESLA'], color='orange');"
      ],
      "execution_count": null,
      "outputs": [
        {
          "output_type": "display_data",
          "data": {
            "image/png": "[encoded data removed]",
            "text/plain": [
              "<Figure size 432x288 with 1 Axes>"
            ]
          },
          "metadata": {
            "tags": []
          }
        }
      ]
    },
    {
      "cell_type": "code",
      "metadata": {
        "id": "2B6ooXj8ELPg"
      },
      "source": [],
      "execution_count": null,
      "outputs": []
    }
  ]
}