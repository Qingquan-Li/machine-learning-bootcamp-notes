{
  "nbformat": 4,
  "nbformat_minor": 0,
  "metadata": {
    "colab": {
      "provenance": []
    },
    "kernelspec": {
      "name": "python3",
      "display_name": "Python 3"
    },
    "language_info": {
      "name": "python"
    }
  },
  "cells": [
    {
      "cell_type": "markdown",
      "metadata": {
        "id": "sNn4AXFmx2cw"
      },
      "source": [
        "# Question-1\n",
        "- Import the grades excel file as a dataframe\n",
        "- display the first 10 rows\n",
        "- display the last 10 rows"
      ]
    },
    {
      "cell_type": "markdown",
      "metadata": {
        "id": "C4ZqBfp1yA1_"
      },
      "source": [
        "# Solution"
      ]
    },
    {
      "cell_type": "code",
      "metadata": {
        "id": "CQa6b-bYxrst",
        "colab": {
          "base_uri": "https://localhost:8080/",
          "height": 401
        },
        "outputId": "5423794a-2dfb-4f1d-90c7-1b286dfe2c84"
      },
      "source": [
        "# first ten\n",
        "\n",
        "import pandas as pd\n",
        "# mount\n",
        "# connection between colab notebook and drive\n",
        "from google.colab import drive\n",
        "drive.mount('/content/drive')\n",
        "\n",
        "# import grades file\n",
        "df_grades = pd.read_excel('/content/drive/My Drive/QCC-Bootcamp/Machine Learning/LAB/grades.xlsx')\n",
        "df_grades.head(10)"
      ],
      "execution_count": 12,
      "outputs": [
        {
          "output_type": "stream",
          "name": "stdout",
          "text": [
            "Drive already mounted at /content/drive; to attempt to forcibly remount, call drive.mount(\"/content/drive\", force_remount=True).\n"
          ]
        },
        {
          "output_type": "execute_result",
          "data": {
            "text/plain": [
              "    Name        ID  Grade Gender  HW  Test-1  Test-2  Test-3  Test-4  Final\n",
              "0  mqtvy  37047871     10      M  30      91      69      93      17     50\n",
              "1  jbbsx  35439616     11      F   6      18      93       9      98     91\n",
              "2  mrvab  35543247     11      M  78      92      60      43      34     26\n",
              "3  bjyve  61282135      9      M  60       8      10      99      80     87\n",
              "4  rlpsr  53448034     10      M   3      38      45      43      79     69\n",
              "5  hotxq  96808584      9      F  29      18      61      17      72     39\n",
              "6  ylskw  37901138      9      M  53      85      61      87       9     94\n",
              "7  cuepi  91568175     11      M  27      61      82      19      19      8\n",
              "8  fmrdj  70101966      9      F  52      35      14      70      12     78\n",
              "9  iyhzx    840574     11      M  91      89      37      93      96     28"
            ],
            "text/html": [
              "\n",
              "  <div id=\"df-9aa28107-11b9-4d48-a3a9-35b0d48af756\" class=\"colab-df-container\">\n",
              "    <div>\n",
              "<style scoped>\n",
              "    .dataframe tbody tr th:only-of-type {\n",
              "        vertical-align: middle;\n",
              "    }\n",
              "\n",
              "    .dataframe tbody tr th {\n",
              "        vertical-align: top;\n",
              "    }\n",
              "\n",
              "    .dataframe thead th {\n",
              "        text-align: right;\n",
              "    }\n",
              "</style>\n",
              "<table border=\"1\" class=\"dataframe\">\n",
              "  <thead>\n",
              "    <tr style=\"text-align: right;\">\n",
              "      <th></th>\n",
              "      <th>Name</th>\n",
              "      <th>ID</th>\n",
              "      <th>Grade</th>\n",
              "      <th>Gender</th>\n",
              "      <th>HW</th>\n",
              "      <th>Test-1</th>\n",
              "      <th>Test-2</th>\n",
              "      <th>Test-3</th>\n",
              "      <th>Test-4</th>\n",
              "      <th>Final</th>\n",
              "    </tr>\n",
              "  </thead>\n",
              "  <tbody>\n",
              "    <tr>\n",
              "      <th>0</th>\n",
              "      <td>mqtvy</td>\n",
              "      <td>37047871</td>\n",
              "      <td>10</td>\n",
              "      <td>M</td>\n",
              "      <td>30</td>\n",
              "      <td>91</td>\n",
              "      <td>69</td>\n",
              "      <td>93</td>\n",
              "      <td>17</td>\n",
              "      <td>50</td>\n",
              "    </tr>\n",
              "    <tr>\n",
              "      <th>1</th>\n",
              "      <td>jbbsx</td>\n",
              "      <td>35439616</td>\n",
              "      <td>11</td>\n",
              "      <td>F</td>\n",
              "      <td>6</td>\n",
              "      <td>18</td>\n",
              "      <td>93</td>\n",
              "      <td>9</td>\n",
              "      <td>98</td>\n",
              "      <td>91</td>\n",
              "    </tr>\n",
              "    <tr>\n",
              "      <th>2</th>\n",
              "      <td>mrvab</td>\n",
              "      <td>35543247</td>\n",
              "      <td>11</td>\n",
              "      <td>M</td>\n",
              "      <td>78</td>\n",
              "      <td>92</td>\n",
              "      <td>60</td>\n",
              "      <td>43</td>\n",
              "      <td>34</td>\n",
              "      <td>26</td>\n",
              "    </tr>\n",
              "    <tr>\n",
              "      <th>3</th>\n",
              "      <td>bjyve</td>\n",
              "      <td>61282135</td>\n",
              "      <td>9</td>\n",
              "      <td>M</td>\n",
              "      <td>60</td>\n",
              "      <td>8</td>\n",
              "      <td>10</td>\n",
              "      <td>99</td>\n",
              "      <td>80</td>\n",
              "      <td>87</td>\n",
              "    </tr>\n",
              "    <tr>\n",
              "      <th>4</th>\n",
              "      <td>rlpsr</td>\n",
              "      <td>53448034</td>\n",
              "      <td>10</td>\n",
              "      <td>M</td>\n",
              "      <td>3</td>\n",
              "      <td>38</td>\n",
              "      <td>45</td>\n",
              "      <td>43</td>\n",
              "      <td>79</td>\n",
              "      <td>69</td>\n",
              "    </tr>\n",
              "    <tr>\n",
              "      <th>5</th>\n",
              "      <td>hotxq</td>\n",
              "      <td>96808584</td>\n",
              "      <td>9</td>\n",
              "      <td>F</td>\n",
              "      <td>29</td>\n",
              "      <td>18</td>\n",
              "      <td>61</td>\n",
              "      <td>17</td>\n",
              "      <td>72</td>\n",
              "      <td>39</td>\n",
              "    </tr>\n",
              "    <tr>\n",
              "      <th>6</th>\n",
              "      <td>ylskw</td>\n",
              "      <td>37901138</td>\n",
              "      <td>9</td>\n",
              "      <td>M</td>\n",
              "      <td>53</td>\n",
              "      <td>85</td>\n",
              "      <td>61</td>\n",
              "      <td>87</td>\n",
              "      <td>9</td>\n",
              "      <td>94</td>\n",
              "    </tr>\n",
              "    <tr>\n",
              "      <th>7</th>\n",
              "      <td>cuepi</td>\n",
              "      <td>91568175</td>\n",
              "      <td>11</td>\n",
              "      <td>M</td>\n",
              "      <td>27</td>\n",
              "      <td>61</td>\n",
              "      <td>82</td>\n",
              "      <td>19</td>\n",
              "      <td>19</td>\n",
              "      <td>8</td>\n",
              "    </tr>\n",
              "    <tr>\n",
              "      <th>8</th>\n",
              "      <td>fmrdj</td>\n",
              "      <td>70101966</td>\n",
              "      <td>9</td>\n",
              "      <td>F</td>\n",
              "      <td>52</td>\n",
              "      <td>35</td>\n",
              "      <td>14</td>\n",
              "      <td>70</td>\n",
              "      <td>12</td>\n",
              "      <td>78</td>\n",
              "    </tr>\n",
              "    <tr>\n",
              "      <th>9</th>\n",
              "      <td>iyhzx</td>\n",
              "      <td>840574</td>\n",
              "      <td>11</td>\n",
              "      <td>M</td>\n",
              "      <td>91</td>\n",
              "      <td>89</td>\n",
              "      <td>37</td>\n",
              "      <td>93</td>\n",
              "      <td>96</td>\n",
              "      <td>28</td>\n",
              "    </tr>\n",
              "  </tbody>\n",
              "</table>\n",
              "</div>\n",
              "    <div class=\"colab-df-buttons\">\n",
              "\n",
              "  <div class=\"colab-df-container\">\n",
              "    <button class=\"colab-df-convert\" onclick=\"convertToInteractive('df-9aa28107-11b9-4d48-a3a9-35b0d48af756')\"\n",
              "            title=\"Convert this dataframe to an interactive table.\"\n",
              "            style=\"display:none;\">\n",
              "\n",
              "  <svg xmlns=\"http://www.w3.org/2000/svg\" height=\"24px\" viewBox=\"0 -960 960 960\">\n",
              "    <path d=\"M120-120v-720h720v720H120Zm60-500h600v-160H180v160Zm220 220h160v-160H400v160Zm0 220h160v-160H400v160ZM180-400h160v-160H180v160Zm440 0h160v-160H620v160ZM180-180h160v-160H180v160Zm440 0h160v-160H620v160Z\"/>\n",
              "  </svg>\n",
              "    </button>\n",
              "\n",
              "  <style>\n",
              "    .colab-df-container {\n",
              "      display:flex;\n",
              "      gap: 12px;\n",
              "    }\n",
              "\n",
              "    .colab-df-convert {\n",
              "      background-color: #E8F0FE;\n",
              "      border: none;\n",
              "      border-radius: 50%;\n",
              "      cursor: pointer;\n",
              "      display: none;\n",
              "      fill: #1967D2;\n",
              "      height: 32px;\n",
              "      padding: 0 0 0 0;\n",
              "      width: 32px;\n",
              "    }\n",
              "\n",
              "    .colab-df-convert:hover {\n",
              "      background-color: #E2EBFA;\n",
              "      box-shadow: 0px 1px 2px rgba(60, 64, 67, 0.3), 0px 1px 3px 1px rgba(60, 64, 67, 0.15);\n",
              "      fill: #174EA6;\n",
              "    }\n",
              "\n",
              "    .colab-df-buttons div {\n",
              "      margin-bottom: 4px;\n",
              "    }\n",
              "\n",
              "    [theme=dark] .colab-df-convert {\n",
              "      background-color: #3B4455;\n",
              "      fill: #D2E3FC;\n",
              "    }\n",
              "\n",
              "    [theme=dark] .colab-df-convert:hover {\n",
              "      background-color: #434B5C;\n",
              "      box-shadow: 0px 1px 3px 1px rgba(0, 0, 0, 0.15);\n",
              "      filter: drop-shadow(0px 1px 2px rgba(0, 0, 0, 0.3));\n",
              "      fill: #FFFFFF;\n",
              "    }\n",
              "  </style>\n",
              "\n",
              "    <script>\n",
              "      const buttonEl =\n",
              "        document.querySelector('#df-9aa28107-11b9-4d48-a3a9-35b0d48af756 button.colab-df-convert');\n",
              "      buttonEl.style.display =\n",
              "        google.colab.kernel.accessAllowed ? 'block' : 'none';\n",
              "\n",
              "      async function convertToInteractive(key) {\n",
              "        const element = document.querySelector('#df-9aa28107-11b9-4d48-a3a9-35b0d48af756');\n",
              "        const dataTable =\n",
              "          await google.colab.kernel.invokeFunction('convertToInteractive',\n",
              "                                                    [key], {});\n",
              "        if (!dataTable) return;\n",
              "\n",
              "        const docLinkHtml = 'Like what you see? Visit the ' +\n",
              "          '<a target=\"_blank\" href=https://colab.research.google.com/notebooks/data_table.ipynb>data table notebook</a>'\n",
              "          + ' to learn more about interactive tables.';\n",
              "        element.innerHTML = '';\n",
              "        dataTable['output_type'] = 'display_data';\n",
              "        await google.colab.output.renderOutput(dataTable, element);\n",
              "        const docLink = document.createElement('div');\n",
              "        docLink.innerHTML = docLinkHtml;\n",
              "        element.appendChild(docLink);\n",
              "      }\n",
              "    </script>\n",
              "  </div>\n",
              "\n",
              "\n",
              "<div id=\"df-7d6734d0-5207-47b0-a3df-cb01a252565b\">\n",
              "  <button class=\"colab-df-quickchart\" onclick=\"quickchart('df-7d6734d0-5207-47b0-a3df-cb01a252565b')\"\n",
              "            title=\"Suggest charts.\"\n",
              "            style=\"display:none;\">\n",
              "\n",
              "<svg xmlns=\"http://www.w3.org/2000/svg\" height=\"24px\"viewBox=\"0 0 24 24\"\n",
              "     width=\"24px\">\n",
              "    <g>\n",
              "        <path d=\"M19 3H5c-1.1 0-2 .9-2 2v14c0 1.1.9 2 2 2h14c1.1 0 2-.9 2-2V5c0-1.1-.9-2-2-2zM9 17H7v-7h2v7zm4 0h-2V7h2v10zm4 0h-2v-4h2v4z\"/>\n",
              "    </g>\n",
              "</svg>\n",
              "  </button>\n",
              "\n",
              "<style>\n",
              "  .colab-df-quickchart {\n",
              "    background-color: #E8F0FE;\n",
              "    border: none;\n",
              "    border-radius: 50%;\n",
              "    cursor: pointer;\n",
              "    display: none;\n",
              "    fill: #1967D2;\n",
              "    height: 32px;\n",
              "    padding: 0 0 0 0;\n",
              "    width: 32px;\n",
              "  }\n",
              "\n",
              "  .colab-df-quickchart:hover {\n",
              "    background-color: #E2EBFA;\n",
              "    box-shadow: 0px 1px 2px rgba(60, 64, 67, 0.3), 0px 1px 3px 1px rgba(60, 64, 67, 0.15);\n",
              "    fill: #174EA6;\n",
              "  }\n",
              "\n",
              "  [theme=dark] .colab-df-quickchart {\n",
              "    background-color: #3B4455;\n",
              "    fill: #D2E3FC;\n",
              "  }\n",
              "\n",
              "  [theme=dark] .colab-df-quickchart:hover {\n",
              "    background-color: #434B5C;\n",
              "    box-shadow: 0px 1px 3px 1px rgba(0, 0, 0, 0.15);\n",
              "    filter: drop-shadow(0px 1px 2px rgba(0, 0, 0, 0.3));\n",
              "    fill: #FFFFFF;\n",
              "  }\n",
              "</style>\n",
              "\n",
              "  <script>\n",
              "    async function quickchart(key) {\n",
              "      const charts = await google.colab.kernel.invokeFunction(\n",
              "          'suggestCharts', [key], {});\n",
              "    }\n",
              "    (() => {\n",
              "      let quickchartButtonEl =\n",
              "        document.querySelector('#df-7d6734d0-5207-47b0-a3df-cb01a252565b button');\n",
              "      quickchartButtonEl.style.display =\n",
              "        google.colab.kernel.accessAllowed ? 'block' : 'none';\n",
              "    })();\n",
              "  </script>\n",
              "</div>\n",
              "    </div>\n",
              "  </div>\n"
            ]
          },
          "metadata": {},
          "execution_count": 12
        }
      ]
    },
    {
      "cell_type": "code",
      "source": [
        "# last ten\n",
        "df_grades.tail(10)"
      ],
      "metadata": {
        "id": "XJHiB-mTZiWC",
        "colab": {
          "base_uri": "https://localhost:8080/",
          "height": 363
        },
        "outputId": "251a7af3-7b83-4c66-9563-4e515903c953"
      },
      "execution_count": 13,
      "outputs": [
        {
          "output_type": "execute_result",
          "data": {
            "text/plain": [
              "     Name        ID  Grade Gender  HW  Test-1  Test-2  Test-3  Test-4  Final\n",
              "90  wxtpu  98301627     12      M  44      57      99      87       9     62\n",
              "91  dvadf  79686024     11      F   1      80      24      77      80     77\n",
              "92  lagws  82526433     12      F  12      45      97      92      20     29\n",
              "93  yzljj  10884705     10      M  92      75      41      33      61     66\n",
              "94  jloze  30408806     10      M  19      24      73      98      48     95\n",
              "95  zxuaq  58332078     12      M  57       1      48      61      58     99\n",
              "96  vegye  10019910     11      F  88      30      48      85      48     17\n",
              "97  euwlj  27967150     12      F  70      15      72      77      20     65\n",
              "98  oesms  36171468     10      M  88      16     100      62      76     19\n",
              "99  buugr  88783139     10      M  23      74      14      17      40     59"
            ],
            "text/html": [
              "\n",
              "  <div id=\"df-3ffd3f06-eda2-493c-b788-371e22225ac4\" class=\"colab-df-container\">\n",
              "    <div>\n",
              "<style scoped>\n",
              "    .dataframe tbody tr th:only-of-type {\n",
              "        vertical-align: middle;\n",
              "    }\n",
              "\n",
              "    .dataframe tbody tr th {\n",
              "        vertical-align: top;\n",
              "    }\n",
              "\n",
              "    .dataframe thead th {\n",
              "        text-align: right;\n",
              "    }\n",
              "</style>\n",
              "<table border=\"1\" class=\"dataframe\">\n",
              "  <thead>\n",
              "    <tr style=\"text-align: right;\">\n",
              "      <th></th>\n",
              "      <th>Name</th>\n",
              "      <th>ID</th>\n",
              "      <th>Grade</th>\n",
              "      <th>Gender</th>\n",
              "      <th>HW</th>\n",
              "      <th>Test-1</th>\n",
              "      <th>Test-2</th>\n",
              "      <th>Test-3</th>\n",
              "      <th>Test-4</th>\n",
              "      <th>Final</th>\n",
              "    </tr>\n",
              "  </thead>\n",
              "  <tbody>\n",
              "    <tr>\n",
              "      <th>90</th>\n",
              "      <td>wxtpu</td>\n",
              "      <td>98301627</td>\n",
              "      <td>12</td>\n",
              "      <td>M</td>\n",
              "      <td>44</td>\n",
              "      <td>57</td>\n",
              "      <td>99</td>\n",
              "      <td>87</td>\n",
              "      <td>9</td>\n",
              "      <td>62</td>\n",
              "    </tr>\n",
              "    <tr>\n",
              "      <th>91</th>\n",
              "      <td>dvadf</td>\n",
              "      <td>79686024</td>\n",
              "      <td>11</td>\n",
              "      <td>F</td>\n",
              "      <td>1</td>\n",
              "      <td>80</td>\n",
              "      <td>24</td>\n",
              "      <td>77</td>\n",
              "      <td>80</td>\n",
              "      <td>77</td>\n",
              "    </tr>\n",
              "    <tr>\n",
              "      <th>92</th>\n",
              "      <td>lagws</td>\n",
              "      <td>82526433</td>\n",
              "      <td>12</td>\n",
              "      <td>F</td>\n",
              "      <td>12</td>\n",
              "      <td>45</td>\n",
              "      <td>97</td>\n",
              "      <td>92</td>\n",
              "      <td>20</td>\n",
              "      <td>29</td>\n",
              "    </tr>\n",
              "    <tr>\n",
              "      <th>93</th>\n",
              "      <td>yzljj</td>\n",
              "      <td>10884705</td>\n",
              "      <td>10</td>\n",
              "      <td>M</td>\n",
              "      <td>92</td>\n",
              "      <td>75</td>\n",
              "      <td>41</td>\n",
              "      <td>33</td>\n",
              "      <td>61</td>\n",
              "      <td>66</td>\n",
              "    </tr>\n",
              "    <tr>\n",
              "      <th>94</th>\n",
              "      <td>jloze</td>\n",
              "      <td>30408806</td>\n",
              "      <td>10</td>\n",
              "      <td>M</td>\n",
              "      <td>19</td>\n",
              "      <td>24</td>\n",
              "      <td>73</td>\n",
              "      <td>98</td>\n",
              "      <td>48</td>\n",
              "      <td>95</td>\n",
              "    </tr>\n",
              "    <tr>\n",
              "      <th>95</th>\n",
              "      <td>zxuaq</td>\n",
              "      <td>58332078</td>\n",
              "      <td>12</td>\n",
              "      <td>M</td>\n",
              "      <td>57</td>\n",
              "      <td>1</td>\n",
              "      <td>48</td>\n",
              "      <td>61</td>\n",
              "      <td>58</td>\n",
              "      <td>99</td>\n",
              "    </tr>\n",
              "    <tr>\n",
              "      <th>96</th>\n",
              "      <td>vegye</td>\n",
              "      <td>10019910</td>\n",
              "      <td>11</td>\n",
              "      <td>F</td>\n",
              "      <td>88</td>\n",
              "      <td>30</td>\n",
              "      <td>48</td>\n",
              "      <td>85</td>\n",
              "      <td>48</td>\n",
              "      <td>17</td>\n",
              "    </tr>\n",
              "    <tr>\n",
              "      <th>97</th>\n",
              "      <td>euwlj</td>\n",
              "      <td>27967150</td>\n",
              "      <td>12</td>\n",
              "      <td>F</td>\n",
              "      <td>70</td>\n",
              "      <td>15</td>\n",
              "      <td>72</td>\n",
              "      <td>77</td>\n",
              "      <td>20</td>\n",
              "      <td>65</td>\n",
              "    </tr>\n",
              "    <tr>\n",
              "      <th>98</th>\n",
              "      <td>oesms</td>\n",
              "      <td>36171468</td>\n",
              "      <td>10</td>\n",
              "      <td>M</td>\n",
              "      <td>88</td>\n",
              "      <td>16</td>\n",
              "      <td>100</td>\n",
              "      <td>62</td>\n",
              "      <td>76</td>\n",
              "      <td>19</td>\n",
              "    </tr>\n",
              "    <tr>\n",
              "      <th>99</th>\n",
              "      <td>buugr</td>\n",
              "      <td>88783139</td>\n",
              "      <td>10</td>\n",
              "      <td>M</td>\n",
              "      <td>23</td>\n",
              "      <td>74</td>\n",
              "      <td>14</td>\n",
              "      <td>17</td>\n",
              "      <td>40</td>\n",
              "      <td>59</td>\n",
              "    </tr>\n",
              "  </tbody>\n",
              "</table>\n",
              "</div>\n",
              "    <div class=\"colab-df-buttons\">\n",
              "\n",
              "  <div class=\"colab-df-container\">\n",
              "    <button class=\"colab-df-convert\" onclick=\"convertToInteractive('df-3ffd3f06-eda2-493c-b788-371e22225ac4')\"\n",
              "            title=\"Convert this dataframe to an interactive table.\"\n",
              "            style=\"display:none;\">\n",
              "\n",
              "  <svg xmlns=\"http://www.w3.org/2000/svg\" height=\"24px\" viewBox=\"0 -960 960 960\">\n",
              "    <path d=\"M120-120v-720h720v720H120Zm60-500h600v-160H180v160Zm220 220h160v-160H400v160Zm0 220h160v-160H400v160ZM180-400h160v-160H180v160Zm440 0h160v-160H620v160ZM180-180h160v-160H180v160Zm440 0h160v-160H620v160Z\"/>\n",
              "  </svg>\n",
              "    </button>\n",
              "\n",
              "  <style>\n",
              "    .colab-df-container {\n",
              "      display:flex;\n",
              "      gap: 12px;\n",
              "    }\n",
              "\n",
              "    .colab-df-convert {\n",
              "      background-color: #E8F0FE;\n",
              "      border: none;\n",
              "      border-radius: 50%;\n",
              "      cursor: pointer;\n",
              "      display: none;\n",
              "      fill: #1967D2;\n",
              "      height: 32px;\n",
              "      padding: 0 0 0 0;\n",
              "      width: 32px;\n",
              "    }\n",
              "\n",
              "    .colab-df-convert:hover {\n",
              "      background-color: #E2EBFA;\n",
              "      box-shadow: 0px 1px 2px rgba(60, 64, 67, 0.3), 0px 1px 3px 1px rgba(60, 64, 67, 0.15);\n",
              "      fill: #174EA6;\n",
              "    }\n",
              "\n",
              "    .colab-df-buttons div {\n",
              "      margin-bottom: 4px;\n",
              "    }\n",
              "\n",
              "    [theme=dark] .colab-df-convert {\n",
              "      background-color: #3B4455;\n",
              "      fill: #D2E3FC;\n",
              "    }\n",
              "\n",
              "    [theme=dark] .colab-df-convert:hover {\n",
              "      background-color: #434B5C;\n",
              "      box-shadow: 0px 1px 3px 1px rgba(0, 0, 0, 0.15);\n",
              "      filter: drop-shadow(0px 1px 2px rgba(0, 0, 0, 0.3));\n",
              "      fill: #FFFFFF;\n",
              "    }\n",
              "  </style>\n",
              "\n",
              "    <script>\n",
              "      const buttonEl =\n",
              "        document.querySelector('#df-3ffd3f06-eda2-493c-b788-371e22225ac4 button.colab-df-convert');\n",
              "      buttonEl.style.display =\n",
              "        google.colab.kernel.accessAllowed ? 'block' : 'none';\n",
              "\n",
              "      async function convertToInteractive(key) {\n",
              "        const element = document.querySelector('#df-3ffd3f06-eda2-493c-b788-371e22225ac4');\n",
              "        const dataTable =\n",
              "          await google.colab.kernel.invokeFunction('convertToInteractive',\n",
              "                                                    [key], {});\n",
              "        if (!dataTable) return;\n",
              "\n",
              "        const docLinkHtml = 'Like what you see? Visit the ' +\n",
              "          '<a target=\"_blank\" href=https://colab.research.google.com/notebooks/data_table.ipynb>data table notebook</a>'\n",
              "          + ' to learn more about interactive tables.';\n",
              "        element.innerHTML = '';\n",
              "        dataTable['output_type'] = 'display_data';\n",
              "        await google.colab.output.renderOutput(dataTable, element);\n",
              "        const docLink = document.createElement('div');\n",
              "        docLink.innerHTML = docLinkHtml;\n",
              "        element.appendChild(docLink);\n",
              "      }\n",
              "    </script>\n",
              "  </div>\n",
              "\n",
              "\n",
              "<div id=\"df-a63278ac-f0bb-4e85-8a08-194427e01c4a\">\n",
              "  <button class=\"colab-df-quickchart\" onclick=\"quickchart('df-a63278ac-f0bb-4e85-8a08-194427e01c4a')\"\n",
              "            title=\"Suggest charts.\"\n",
              "            style=\"display:none;\">\n",
              "\n",
              "<svg xmlns=\"http://www.w3.org/2000/svg\" height=\"24px\"viewBox=\"0 0 24 24\"\n",
              "     width=\"24px\">\n",
              "    <g>\n",
              "        <path d=\"M19 3H5c-1.1 0-2 .9-2 2v14c0 1.1.9 2 2 2h14c1.1 0 2-.9 2-2V5c0-1.1-.9-2-2-2zM9 17H7v-7h2v7zm4 0h-2V7h2v10zm4 0h-2v-4h2v4z\"/>\n",
              "    </g>\n",
              "</svg>\n",
              "  </button>\n",
              "\n",
              "<style>\n",
              "  .colab-df-quickchart {\n",
              "    background-color: #E8F0FE;\n",
              "    border: none;\n",
              "    border-radius: 50%;\n",
              "    cursor: pointer;\n",
              "    display: none;\n",
              "    fill: #1967D2;\n",
              "    height: 32px;\n",
              "    padding: 0 0 0 0;\n",
              "    width: 32px;\n",
              "  }\n",
              "\n",
              "  .colab-df-quickchart:hover {\n",
              "    background-color: #E2EBFA;\n",
              "    box-shadow: 0px 1px 2px rgba(60, 64, 67, 0.3), 0px 1px 3px 1px rgba(60, 64, 67, 0.15);\n",
              "    fill: #174EA6;\n",
              "  }\n",
              "\n",
              "  [theme=dark] .colab-df-quickchart {\n",
              "    background-color: #3B4455;\n",
              "    fill: #D2E3FC;\n",
              "  }\n",
              "\n",
              "  [theme=dark] .colab-df-quickchart:hover {\n",
              "    background-color: #434B5C;\n",
              "    box-shadow: 0px 1px 3px 1px rgba(0, 0, 0, 0.15);\n",
              "    filter: drop-shadow(0px 1px 2px rgba(0, 0, 0, 0.3));\n",
              "    fill: #FFFFFF;\n",
              "  }\n",
              "</style>\n",
              "\n",
              "  <script>\n",
              "    async function quickchart(key) {\n",
              "      const charts = await google.colab.kernel.invokeFunction(\n",
              "          'suggestCharts', [key], {});\n",
              "    }\n",
              "    (() => {\n",
              "      let quickchartButtonEl =\n",
              "        document.querySelector('#df-a63278ac-f0bb-4e85-8a08-194427e01c4a button');\n",
              "      quickchartButtonEl.style.display =\n",
              "        google.colab.kernel.accessAllowed ? 'block' : 'none';\n",
              "    })();\n",
              "  </script>\n",
              "</div>\n",
              "    </div>\n",
              "  </div>\n"
            ]
          },
          "metadata": {},
          "execution_count": 13
        }
      ]
    },
    {
      "cell_type": "markdown",
      "metadata": {
        "id": "Gbarhri5ytb9"
      },
      "source": [
        "# Question-2\n",
        "- diplay the Test 3 grade of student **rlpsr** (5th student)\n",
        "  - by using loc\n",
        "  - by using iloc"
      ]
    },
    {
      "cell_type": "markdown",
      "metadata": {
        "id": "bwj8ctVmytMd"
      },
      "source": [
        "# Solution-2"
      ]
    },
    {
      "cell_type": "code",
      "metadata": {
        "id": "_q2w8fu5zGFz",
        "colab": {
          "base_uri": "https://localhost:8080/"
        },
        "outputId": "b0cc9579-55c9-4dcb-b04c-5d18e60b2a43"
      },
      "source": [
        "# Using loc\n",
        "test3_grade_loc = df_grades.loc[df_grades['Name'] == 'rlpsr', 'Test-3'].values[0]\n",
        "print(f\"Test-3 grade of student rlpsr using loc: {test3_grade_loc}\")\n",
        "\n",
        "# Using iloc\n",
        "test3_grade_iloc = df_grades.iloc[4, 6]  # 4 is the index for 5th student, 6 is the index for \"Test-3\" column\n",
        "print(f\"Test-3 grade of student rlpsr using iloc: {test3_grade_iloc}\")"
      ],
      "execution_count": 14,
      "outputs": [
        {
          "output_type": "stream",
          "name": "stdout",
          "text": [
            "Test-3 grade of student rlpsr using loc: 43\n",
            "Test-3 grade of student rlpsr using iloc: 45\n"
          ]
        }
      ]
    },
    {
      "cell_type": "markdown",
      "metadata": {
        "id": "dVTaa1YKzMFm"
      },
      "source": [
        "# Question-3\n",
        "- Display column names"
      ]
    },
    {
      "cell_type": "markdown",
      "metadata": {
        "id": "zDHLX0pfzL_1"
      },
      "source": [
        "# Solution-3"
      ]
    },
    {
      "cell_type": "code",
      "metadata": {
        "id": "kVJu3uFkzLGh",
        "colab": {
          "base_uri": "https://localhost:8080/"
        },
        "outputId": "e3e1669b-de25-4f04-ded7-d82beb7721d7"
      },
      "source": [
        "print(df_grades.columns)"
      ],
      "execution_count": 15,
      "outputs": [
        {
          "output_type": "stream",
          "name": "stdout",
          "text": [
            "Index(['Name', 'ID', 'Grade', 'Gender', 'HW', 'Test-1', 'Test-2', 'Test-3',\n",
            "       'Test-4', 'Final'],\n",
            "      dtype='object')\n"
          ]
        }
      ]
    },
    {
      "cell_type": "markdown",
      "metadata": {
        "id": "pY85OIEQzW55"
      },
      "source": [
        "# Question-4\n",
        "- remove the gender column permanently"
      ]
    },
    {
      "cell_type": "markdown",
      "metadata": {
        "id": "wzNUcJHmzWs6"
      },
      "source": [
        "# Solution-4\n"
      ]
    },
    {
      "cell_type": "code",
      "metadata": {
        "id": "0s5lT3IgzViM"
      },
      "source": [
        "df_grades.drop('Gender', axis=1, inplace=True)"
      ],
      "execution_count": 16,
      "outputs": []
    },
    {
      "cell_type": "markdown",
      "metadata": {
        "id": "pKpl2RxCz4yE"
      },
      "source": [
        "# Question-5\n",
        "Add a new column named Weighted Average which is equal to  \n",
        "10% of HW + 15% of Test-1 + 15% of Test-2+ 15% of Test-3+ 15% of Test-4+ 30% of Final\n"
      ]
    },
    {
      "cell_type": "markdown",
      "metadata": {
        "id": "5qE859Jyz4kK"
      },
      "source": [
        "# Solution-5"
      ]
    },
    {
      "cell_type": "code",
      "metadata": {
        "id": "brWeNIx4z1Zq"
      },
      "source": [
        "df_grades['Weighted Average'] = (0.10 * df_grades['HW'] +\n",
        "                                0.15 * df_grades['Test-1'] +\n",
        "                                0.15 * df_grades['Test-2'] +\n",
        "                                0.15 * df_grades['Test-3'] +\n",
        "                                0.15 * df_grades['Test-4'] +\n",
        "                                0.30 * df_grades['Final'])\n"
      ],
      "execution_count": 17,
      "outputs": []
    },
    {
      "cell_type": "markdown",
      "metadata": {
        "id": "0DAF7c371Q8m"
      },
      "source": [
        "# Question-6"
      ]
    },
    {
      "cell_type": "markdown",
      "metadata": {
        "id": "irolkU-C1QMR"
      },
      "source": [
        "- Display only the name of the student with highest Weighted Average"
      ]
    },
    {
      "cell_type": "markdown",
      "metadata": {
        "id": "wKGcNsLI104B"
      },
      "source": [
        "# Solution-6"
      ]
    },
    {
      "cell_type": "code",
      "metadata": {
        "id": "t3z9Sb601KLD",
        "colab": {
          "base_uri": "https://localhost:8080/"
        },
        "outputId": "f5929aa2-1f2c-494f-b371-e1a5eb457f53"
      },
      "source": [
        "student_with_highest_avg = df_grades.loc[df_grades['Weighted Average'].idxmax(), 'Name']\n",
        "print(student_with_highest_avg)"
      ],
      "execution_count": 18,
      "outputs": [
        {
          "output_type": "stream",
          "name": "stdout",
          "text": [
            "amadn\n"
          ]
        }
      ]
    },
    {
      "cell_type": "markdown",
      "metadata": {
        "id": "TtvLG4wH17ay"
      },
      "source": [
        "# Question-7\n",
        "Find the number of students in 11th grade"
      ]
    },
    {
      "cell_type": "markdown",
      "metadata": {
        "id": "JJzoqy7g17QS"
      },
      "source": [
        "# Solution-7"
      ]
    },
    {
      "cell_type": "code",
      "metadata": {
        "id": "PaUVAQBK2UR_",
        "colab": {
          "base_uri": "https://localhost:8080/"
        },
        "outputId": "cce13d06-1f99-4a36-816d-2514f27037a1"
      },
      "source": [
        "students_in_11th_grade = df_grades['Grade'].value_counts().get(11, 0)\n",
        "print(f\"Number of students in 11th grade: {students_in_11th_grade}\")"
      ],
      "execution_count": 19,
      "outputs": [
        {
          "output_type": "stream",
          "name": "stdout",
          "text": [
            "Number of students in 11th grade: 26\n"
          ]
        }
      ]
    }
  ]
}