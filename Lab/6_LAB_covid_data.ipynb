{
  "nbformat": 4,
  "nbformat_minor": 0,
  "metadata": {
    "colab": {
      "provenance": []
    },
    "kernelspec": {
      "name": "python3",
      "display_name": "Python 3"
    },
    "language_info": {
      "name": "python"
    }
  },
  "cells": [
    {
      "cell_type": "markdown",
      "source": [
        "1. Import the data\n",
        "  - use mounting and pd.read_excel\n",
        "2. Clean the data\n",
        "  - Do not forget to do imputation\n",
        "  - check df.info()\n",
        "    - be sure that there is no problem with the types\n",
        "2. Split the data\n",
        "2. Is it a claasification or regression task?\n",
        "3. Use different ML models to build a predictive model\n",
        "4. Use Grid Search for hyperparameter tunning"
      ],
      "metadata": {
        "id": "Bs0eHwX5fQPN"
      }
    },
    {
      "cell_type": "code",
      "execution_count": 2,
      "metadata": {
        "id": "1LJVjyWjfKrR",
        "colab": {
          "base_uri": "https://localhost:8080/"
        },
        "outputId": "5947c88f-e667-421b-f2b0-27eab76c01c4"
      },
      "outputs": [
        {
          "output_type": "stream",
          "name": "stdout",
          "text": [
            "Drive already mounted at /content/drive; to attempt to forcibly remount, call drive.mount(\"/content/drive\", force_remount=True).\n"
          ]
        }
      ],
      "source": [
        "# Import the data\n",
        "\n",
        "import pandas as pd\n",
        "# mount\n",
        "# connection between colab notebook and drive\n",
        "from google.colab import drive\n",
        "drive.mount('/content/drive')\n",
        "\n",
        "# import covid file\n",
        "df_covid = pd.read_excel('/content/drive/My Drive/QCC-Bootcamp/Machine Learning/LAB/covid.xlsx')"
      ]
    },
    {
      "cell_type": "code",
      "source": [
        "# Clean the data\n",
        "\n",
        "# Check the first few rows of the dataframe\n",
        "print(df_covid.head())\n",
        "\n",
        "# Check the info of the dataframe\n",
        "print(df_covid.info())\n",
        "\n",
        "# Check for missing values\n",
        "print(df_covid.isnull().sum())\n",
        "\n",
        "# Impute missing values with median for numerical columns\n",
        "for column in df_covid.select_dtypes(include=['float64', 'int64']).columns:\n",
        "    df_covid[column].fillna(df_covid[column].median(), inplace=True)\n",
        "\n",
        "# Check again for missing values\n",
        "print(df_covid.isnull().sum())"
      ],
      "metadata": {
        "id": "pGfwSRLVTPS9",
        "colab": {
          "base_uri": "https://localhost:8080/"
        },
        "outputId": "9cba32fd-ec31-41e1-b576-dc09bc7f186a"
      },
      "execution_count": 6,
      "outputs": [
        {
          "output_type": "stream",
          "name": "stdout",
          "text": [
            "  SESSO  AGE   WBC  Piastrine  Neutrofili Linfociti  Monociti  Eosinofili  \\\n",
            "0     M   56   2.9      128.0    1.900000       0.8  0.200000    0.000000   \n",
            "1     M   56   3.5      151.0    2.100000       0.9  0.400000    0.000000   \n",
            "2     M   72   4.6      206.0    6.200478         1  0.605742    0.055024   \n",
            "3     M   72  16.5      316.0   14.000000       1.2  0.300000    0.000000   \n",
            "4     M   77   4.9      198.0    6.200478         1  0.605742    0.055024   \n",
            "\n",
            "   Basofili         PCR        AST        ALT       ALP        GGT  \\\n",
            "0  0.000000   29.000000  36.000000  18.000000  43.00000  21.000000   \n",
            "1  0.000000   16.500000  25.000000  14.000000  50.00000  17.000000   \n",
            "2  0.014423  193.700000  31.000000  22.000000  89.89313  82.477941   \n",
            "3  0.000000  318.700000  96.000000  33.000000  80.00000  42.000000   \n",
            "4  0.014423   90.889011  54.202166  44.917293  89.89313  82.477941   \n",
            "\n",
            "          LDH  TARGET  \n",
            "0  257.000000       2  \n",
            "1  207.000000       2  \n",
            "2  380.448454       2  \n",
            "3  651.000000       2  \n",
            "4  380.448454       2  \n",
            "<class 'pandas.core.frame.DataFrame'>\n",
            "RangeIndex: 279 entries, 0 to 278\n",
            "Data columns (total 16 columns):\n",
            " #   Column      Non-Null Count  Dtype  \n",
            "---  ------      --------------  -----  \n",
            " 0   SESSO       279 non-null    object \n",
            " 1   AGE         279 non-null    int64  \n",
            " 2   WBC         279 non-null    float64\n",
            " 3   Piastrine   279 non-null    float64\n",
            " 4   Neutrofili  279 non-null    float64\n",
            " 5   Linfociti   279 non-null    object \n",
            " 6   Monociti    279 non-null    float64\n",
            " 7   Eosinofili  279 non-null    float64\n",
            " 8   Basofili    279 non-null    float64\n",
            " 9   PCR         279 non-null    float64\n",
            " 10  AST         279 non-null    float64\n",
            " 11  ALT         279 non-null    float64\n",
            " 12  ALP         279 non-null    float64\n",
            " 13  GGT         279 non-null    float64\n",
            " 14  LDH         279 non-null    float64\n",
            " 15  TARGET      279 non-null    int64  \n",
            "dtypes: float64(12), int64(2), object(2)\n",
            "memory usage: 35.0+ KB\n",
            "None\n",
            "SESSO         0\n",
            "AGE           0\n",
            "WBC           0\n",
            "Piastrine     0\n",
            "Neutrofili    0\n",
            "Linfociti     0\n",
            "Monociti      0\n",
            "Eosinofili    0\n",
            "Basofili      0\n",
            "PCR           0\n",
            "AST           0\n",
            "ALT           0\n",
            "ALP           0\n",
            "GGT           0\n",
            "LDH           0\n",
            "TARGET        0\n",
            "dtype: int64\n",
            "SESSO         0\n",
            "AGE           0\n",
            "WBC           0\n",
            "Piastrine     0\n",
            "Neutrofili    0\n",
            "Linfociti     0\n",
            "Monociti      0\n",
            "Eosinofili    0\n",
            "Basofili      0\n",
            "PCR           0\n",
            "AST           0\n",
            "ALT           0\n",
            "ALP           0\n",
            "GGT           0\n",
            "LDH           0\n",
            "TARGET        0\n",
            "dtype: int64\n"
          ]
        }
      ]
    },
    {
      "cell_type": "code",
      "source": [
        "# Split the Data\n",
        "\n",
        "from sklearn.model_selection import train_test_split\n",
        "\n",
        "X = df_covid.drop('TARGET', axis=1)\n",
        "y = df_covid['TARGET']\n",
        "\n",
        "# Convert categorical data to numerical data\n",
        "X = pd.get_dummies(X, drop_first=True)\n",
        "\n",
        "# X_train, X_test, y_train, y_test = train_test_split(X, y, test_size=0.2, random_state=42)\n",
        "X_train, X_test, y_train, y_test = train_test_split(X, y, test_size=0.2, random_state=0)"
      ],
      "metadata": {
        "id": "max2XAZDT4ag"
      },
      "execution_count": 9,
      "outputs": []
    },
    {
      "cell_type": "code",
      "source": [
        "# Use different ML models\n",
        "\n",
        "from sklearn.neighbors import KNeighborsClassifier\n",
        "from sklearn.tree import DecisionTreeClassifier\n",
        "from sklearn.ensemble import RandomForestClassifier\n",
        "from sklearn.metrics import classification_report\n",
        "\n",
        "# kNN Classifier\n",
        "knn = KNeighborsClassifier()\n",
        "knn.fit(X_train, y_train)\n",
        "y_pred = knn.predict(X_test)\n",
        "print(\"kNN Classifier Report:\")\n",
        "print(classification_report(y_test, y_pred))\n",
        "\n",
        "# Decision Tree Classifier\n",
        "dt = DecisionTreeClassifier()\n",
        "dt.fit(X_train, y_train)\n",
        "y_pred = dt.predict(X_test)\n",
        "print(\"Decision Tree Classifier Report:\")\n",
        "print(classification_report(y_test, y_pred))\n",
        "\n",
        "# Random Forest Classifier\n",
        "rf = RandomForestClassifier()\n",
        "rf.fit(X_train, y_train)\n",
        "y_pred = rf.predict(X_test)\n",
        "print(\"Random Forest Classifier Report:\")\n",
        "print(classification_report(y_test, y_pred))"
      ],
      "metadata": {
        "colab": {
          "base_uri": "https://localhost:8080/"
        },
        "id": "byubl_FPT6zN",
        "outputId": "9b1eeeb6-f381-490b-e6b0-1ab78a8a81a3"
      },
      "execution_count": 12,
      "outputs": [
        {
          "output_type": "stream",
          "name": "stdout",
          "text": [
            "kNN Classifier Report:\n",
            "              precision    recall  f1-score   support\n",
            "\n",
            "           0       0.52      0.60      0.56        20\n",
            "           1       0.45      0.39      0.42        23\n",
            "           2       0.38      0.38      0.38        13\n",
            "\n",
            "    accuracy                           0.46        56\n",
            "   macro avg       0.45      0.46      0.45        56\n",
            "weighted avg       0.46      0.46      0.46        56\n",
            "\n",
            "Decision Tree Classifier Report:\n",
            "              precision    recall  f1-score   support\n",
            "\n",
            "           0       0.62      0.50      0.56        20\n",
            "           1       0.73      0.70      0.71        23\n",
            "           2       0.39      0.54      0.45        13\n",
            "\n",
            "    accuracy                           0.59        56\n",
            "   macro avg       0.58      0.58      0.57        56\n",
            "weighted avg       0.61      0.59      0.60        56\n",
            "\n",
            "Random Forest Classifier Report:\n",
            "              precision    recall  f1-score   support\n",
            "\n",
            "           0       0.75      0.75      0.75        20\n",
            "           1       0.75      0.78      0.77        23\n",
            "           2       0.67      0.62      0.64        13\n",
            "\n",
            "    accuracy                           0.73        56\n",
            "   macro avg       0.72      0.72      0.72        56\n",
            "weighted avg       0.73      0.73      0.73        56\n",
            "\n"
          ]
        }
      ]
    },
    {
      "cell_type": "code",
      "source": [
        "# Grid Search for hyperparameter tuning\n",
        "\n",
        "from sklearn.model_selection import GridSearchCV\n",
        "\n",
        "# Grid search for kNN\n",
        "knn_params = {\n",
        "    'n_neighbors': list(range(1, 21)),\n",
        "    'weights': ['uniform', 'distance'],\n",
        "    'metric': ['euclidean', 'manhattan']\n",
        "}\n",
        "knn_grid = GridSearchCV(KNeighborsClassifier(), knn_params, cv=5)\n",
        "knn_grid.fit(X_train, y_train)\n",
        "print(f\"Best Parameters for kNN: {knn_grid.best_params_}\")\n",
        "\n",
        "# Grid search for Decision Tree\n",
        "dt_params = {\n",
        "    'criterion': ['gini', 'entropy'],\n",
        "    'max_depth': list(range(1, 11)),\n",
        "    'min_samples_split': [2, 3, 4],\n",
        "    'min_samples_leaf': [1, 2, 3]\n",
        "}\n",
        "dt_grid = GridSearchCV(DecisionTreeClassifier(), dt_params, cv=5)\n",
        "dt_grid.fit(X_train, y_train)\n",
        "print(f\"Best Parameters for Decision Tree: {dt_grid.best_params_}\")\n",
        "\n",
        "# Grid search for Random Forest\n",
        "rf_params = {\n",
        "    'n_estimators': [10, 50, 100],\n",
        "    'criterion': ['gini', 'entropy'],\n",
        "    'max_depth': [None, 5, 10],\n",
        "    'min_samples_split': [2, 4],\n",
        "    'min_samples_leaf': [1, 3]\n",
        "}\n",
        "rf_grid = GridSearchCV(RandomForestClassifier(), rf_params, cv=5)\n",
        "rf_grid.fit(X_train, y_train)\n",
        "print(f\"Best Parameters for Random Forest: {rf_grid.best_params_}\")"
      ],
      "metadata": {
        "colab": {
          "base_uri": "https://localhost:8080/"
        },
        "id": "l30dW-9oU8Kx",
        "outputId": "fa74b800-b8cd-4856-bb00-8d80384c0ca8"
      },
      "execution_count": 13,
      "outputs": [
        {
          "output_type": "stream",
          "name": "stdout",
          "text": [
            "Best Parameters for kNN: {'metric': 'manhattan', 'n_neighbors': 11, 'weights': 'uniform'}\n",
            "Best Parameters for Decision Tree: {'criterion': 'gini', 'max_depth': 3, 'min_samples_leaf': 2, 'min_samples_split': 4}\n",
            "Best Parameters for Random Forest: {'criterion': 'gini', 'max_depth': 5, 'min_samples_leaf': 1, 'min_samples_split': 2, 'n_estimators': 100}\n"
          ]
        }
      ]
    }
  ]
}